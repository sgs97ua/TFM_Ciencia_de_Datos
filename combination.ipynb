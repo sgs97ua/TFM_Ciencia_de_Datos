{
 "cells": [
  {
   "cell_type": "markdown",
   "metadata": {},
   "source": [
    "# Combinación de modelos para elaborar la estrategia 3 de la memoria"
   ]
  },
  {
   "cell_type": "markdown",
   "metadata": {},
   "source": [
    "Importar librerías"
   ]
  },
  {
   "cell_type": "code",
   "execution_count": 1,
   "metadata": {},
   "outputs": [
    {
     "name": "stderr",
     "output_type": "stream",
     "text": [
      "/home/gplsi/anaconda3/envs/GeoPrueba/lib/python3.8/site-packages/tqdm/auto.py:21: TqdmWarning: IProgress not found. Please update jupyter and ipywidgets. See https://ipywidgets.readthedocs.io/en/stable/user_install.html\n",
      "  from .autonotebook import tqdm as notebook_tqdm\n",
      "2024-08-13 19:07:50.614033: I tensorflow/core/util/util.cc:169] oneDNN custom operations are on. You may see slightly different numerical results due to floating-point round-off errors from different computation orders. To turn them off, set the environment variable `TF_ENABLE_ONEDNN_OPTS=0`.\n",
      "2024-08-13 19:07:50.616984: W tensorflow/stream_executor/platform/default/dso_loader.cc:64] Could not load dynamic library 'libcudart.so.11.0'; dlerror: libcudart.so.11.0: cannot open shared object file: No such file or directory\n",
      "2024-08-13 19:07:50.616995: I tensorflow/stream_executor/cuda/cudart_stub.cc:29] Ignore above cudart dlerror if you do not have a GPU set up on your machine.\n"
     ]
    }
   ],
   "source": [
    "from transformers import pipeline\n",
    "from refined.inference.processor import Refined\n",
    "import tqdm as notebook_tqdm\n",
    "import torch\n",
    "from typing import List\n",
    "from typing import Dict\n",
    "from typing import Set\n",
    "from typing import Iterable\n",
    "from refined.data_types.doc_types import Doc\n",
    "from refined.data_types.modelling_types import BatchedElementsTns\n",
    "from refined.utilities.preprocessing_utils import convert_doc_to_tensors\n",
    "from refined.data_types.base_types import Span\n",
    "from refined.utilities.preprocessing_utils import pad\n",
    "from refined.data_types.modelling_types import ModelReturn\n",
    "from collections import defaultdict\n",
    "from refined.utilities.general_utils import round_list\n",
    "from refined.data_types.base_types import Entity\n",
    "import re\n",
    "import pandas as pd\n",
    "import json\n",
    "from langchain.chat_models import ChatOllama\n",
    "from langchain_core.prompts import ChatPromptTemplate\n",
    "from langchain.prompts import PromptTemplate\n",
    "from langchain_core.output_parsers import StrOutputParser"
   ]
  },
  {
   "cell_type": "markdown",
   "metadata": {},
   "source": [
    "Definoms clase central"
   ]
  },
  {
   "cell_type": "code",
   "execution_count": 12,
   "metadata": {},
   "outputs": [],
   "source": [
    "class KGBuilder:\n",
    "    # Models that build the data\n",
    "    # Entity Linking Model\n",
    "    refined = Refined.from_pretrained(model_name='wikipedia_model_with_numbers', entity_set='wikidata',use_precomputed_descriptions=True)\n",
    "    # Relation Extraction Model\n",
    "    triplet_extractor = pipeline('text2text-generation',model='Babelscape/rebel-large',tokenizer='Babelscape/rebel-large',device='cuda')\n",
    "    # LLM for relation classification\n",
    "    #llm = ChatOllama(model=\"llama3:8b\")\n",
    "    template = \"\"\"\n",
    "        Given a relationship between two entities, answer only with 'True' of 'False.\n",
    "        - 'True' in case the relationship corresponds to reality.\n",
    "        - 'False' in case that the relationship is wrong. \n",
    "        Do not take into consideration the previous classifications. Do not answer randomly, just base the classification in your universe knowledge.\n",
    "        The input relationship that you have to analize is the following:\n",
    "        {dict}\n",
    "    \"\"\"\n",
    "    #prompt = ChatPromptTemplate.from_template(template=template)\n",
    "\n",
    "    #chain = prompt | llm | StrOutputParser()\n",
    "    \n",
    "    def __find_all(substring, string):\n",
    "        return [m.start() for m in re.finditer(re.escape(substring), string)]\n",
    "    \n",
    "    def filter_spans(spans:List[Span])->List[Span]:\n",
    "        spans = [span for span in spans if span.entity_linking_model_confidence_score is not  None and span.entity_linking_model_confidence_score >= 0.75 and span.predicted_entity.wikidata_entity_id is not None]\n",
    "        i = 0\n",
    "        while i < len(spans):\n",
    "            j = i + 1\n",
    "            while j < len(spans):\n",
    "                if spans[j].text == spans[i].text and spans[j].predicted_entity.wikidata_entity_id == spans[i].predicted_entity.wikidata_entity_id:\n",
    "                    del spans[j]\n",
    "\n",
    "                j += 1\n",
    "                        \n",
    "            \n",
    "            i += 1\n",
    "\n",
    "        \n",
    "        return spans\n",
    "    \n",
    "    def filter_relationships(triplets:List[Dict])->List[Dict]:\n",
    "        relations = set()\n",
    "        for i in triplets:\n",
    "            relations.add(str(i))\n",
    "\n",
    "        triplets = []\n",
    "        for i in relations:\n",
    "            try:\n",
    "                triplets.append(json.loads(i.replace(\"'\",'\"')))\n",
    "            except Exception as e:\n",
    "                pass\n",
    "\n",
    "\n",
    "        return triplets\n",
    "    \n",
    "    def entity_linking(text:str)->List[Span]:\n",
    "        spans_el = KGBuilder.refined.process_text(text)\n",
    "        spans_el = KGBuilder.filter_spans(spans_el)\n",
    "        return spans_el\n",
    "      \n",
    "    def relation_extraction(text:str)->List[Dict]:\n",
    "        triplets = KGBuilder.extract_triplets(KGBuilder.triplet_extractor.tokenizer.batch_decode([KGBuilder.triplet_extractor(text, return_tensors=True, return_text=False)[0][\"generated_token_ids\"]])[0])\n",
    "        triplets = KGBuilder.filter_relationships(triplets)\n",
    "\n",
    "        return triplets\n",
    "     \n",
    "    def link_spans_with_relationships(triplets:List[Dict],spans:List[Span]):\n",
    "        i = 0\n",
    "        entities_with_relation = set()\n",
    "        while i < len(triplets):\n",
    "            for span in spans:\n",
    "                if triplets[i]['head'] == span.text:\n",
    "                    triplets[i]['head'] = span\n",
    "                    entities_with_relation.add(span)\n",
    "                \n",
    "                if triplets[i]['tail'] == span.text:\n",
    "                    triplets[i]['tail'] = span\n",
    "                    entities_with_relation.add(span)\n",
    "\n",
    "            if not isinstance(triplets[i]['head'],Span) or not isinstance(triplets[i]['tail'],Span) or triplets[i]['head'].predicted_entity.wikidata_entity_id == triplets[i]['tail'].predicted_entity.wikidata_entity_id:\n",
    "                del triplets[i]\n",
    "                i = i - 1\n",
    "            \n",
    "\n",
    "            i += 1\n",
    "\n",
    "        entities_set = set()\n",
    "        for span in spans:\n",
    "            entities_set.add(span)\n",
    "\n",
    "        entities_with_no_relation = entities_set.difference(entities_with_relation)\n",
    "\n",
    "        return (triplets,entities_with_no_relation)\n",
    "    \n",
    "    def extract_triplets_from_spans_with_no_relationship(text:str,spans_no_relationship:List[str])->List[Dict]:\n",
    "        model = KGBuilder.triplet_extractor.model\n",
    "        tokenizer = KGBuilder.triplet_extractor.tokenizer\n",
    "        new_triplets = []\n",
    "        gen_kwargs = {\n",
    "            \"max_length\": 1024,\n",
    "            \"length_penalty\": 1,\n",
    "            \"num_beams\": 3,\n",
    "        }\n",
    "\n",
    "        model_inputs = tokenizer(text, max_length=1024, padding=True, truncation=True, return_tensors = 'pt')\n",
    "\n",
    "        for span in  spans_no_relationship:\n",
    "            if span.predicted_entity is not None:\n",
    "                output = f\"\"\"<s><triplet> {span.text} <subj>\"\"\"\n",
    "                model_outputs = tokenizer(output, max_length=1024, padding=True, truncation=True, return_tensors = 'pt', add_special_tokens=False)\n",
    "                generated_tokens = model.generate(\n",
    "                    model_inputs[\"input_ids\"].to(model.device),\n",
    "                    decoder_input_ids=model_outputs[\"input_ids\"].to(model.device),\n",
    "                    attention_mask=model_inputs[\"attention_mask\"].to(model.device),\n",
    "                    bad_words_ids=tokenizer([\"<triplet>\"], add_special_tokens=False).input_ids, # don't generate <triplet>\n",
    "                    **gen_kwargs,\n",
    "                )\n",
    "\n",
    "                decoded_preds = tokenizer.batch_decode(generated_tokens, skip_special_tokens=False)\n",
    "\n",
    "                for _,sentence in enumerate(decoded_preds):\n",
    "                    new_triplets += KGBuilder.extract_triplets(sentence)\n",
    "\n",
    "        \n",
    "        return KGBuilder.filter_relationships(new_triplets)\n",
    "\n",
    "    def verify_relationships(triplets:List[Dict])->List[Dict]:\n",
    "\n",
    "        accurrate_triplets = []\n",
    "\n",
    "        for triplet in  triplets:\n",
    "\n",
    "            head_entity = triplet['head'].predicted_entity.wikipedia_entity_title if triplet['head'].predicted_entity.wikipedia_entity_title is not None else triplet['head'].text\n",
    "            tail_entity = triplet['tail'].predicted_entity.wikipedia_entity_title if triplet['tail'].predicted_entity.wikipedia_entity_title is not None else triplet['tail'].text\n",
    "            dictionary = head_entity+\"(\"+triplet['head'].predicted_entity.wikidata_entity_id+\")-\"+triplet['type']+\"->\"+tail_entity +\"(\"+triplet['tail'].predicted_entity.wikidata_entity_id + \")\"\n",
    "            result = KGBuilder.chain.invoke({\"dict\": dictionary})\n",
    "            if result == \"True\":\n",
    "                accurrate_triplets.append(triplet)\n",
    "        \n",
    "        print(\"Relationships before verification: \",len(triplets))\n",
    "        print(\"Relationships after verification: \",len(accurrate_triplets))\n",
    "\n",
    "        return accurrate_triplets\n",
    "\n",
    "    def build_graph(self,text:str):\n",
    "        triplets = KGBuilder.relation_extraction(text)\n",
    "        spans_el_base = KGBuilder.entity_linking(text)\n",
    "        triplets_base = triplets.copy()\n",
    "        spans_el_base_copy = spans_el_base.copy()\n",
    "\n",
    "        doc,tns = KGBuilder.preprocess_doc_el(text)\n",
    "        spans_from_re = KGBuilder.extract_entities_from_relation_extraction(triplets,doc.doc_id,text)\n",
    "        spans_re = KGBuilder.process_doc_el(doc,tns,spans_from_re)\n",
    "        spans_re_copy = spans_re.copy()\n",
    "        spans_re = KGBuilder.filter_spans(spans_re)\n",
    "        \n",
    "\n",
    "        spans = KGBuilder.filter_spans(spans_el_base + spans_re)\n",
    "        triplets,spans_no_relationship = KGBuilder.link_spans_with_relationships(triplets,spans)\n",
    "\n",
    "        new_triplets = KGBuilder.extract_triplets_from_spans_with_no_relationship(text,spans_no_relationship)\n",
    "        triplets_base_er = new_triplets.copy()\n",
    "        new_triplets = KGBuilder.link_spans_with_relationships(new_triplets,spans)[0]\n",
    "        #triplets = KGBuilder.verify_relationships(triplets+new_triplets)\n",
    "        triplets = triplets + new_triplets\n",
    "        \n",
    "        return [spans,triplets,spans_el_base_copy,spans_re_copy,triplets_base,triplets_base_er]\n",
    "    \n",
    "    def generate_embedding(token_id_values,attention_mask_values,token_type_values):\n",
    "        output = KGBuilder.refined.model.transformer(\n",
    "                        input_ids=token_id_values,\n",
    "                        attention_mask=attention_mask_values,\n",
    "                        token_type_ids=token_type_values,\n",
    "                        position_ids=None,\n",
    "                        head_mask=None,\n",
    "                        inputs_embeds=None,\n",
    "            )\n",
    "\n",
    "        contextualised_embeddings = output.last_hidden_state\n",
    "        \n",
    "        return contextualised_embeddings\n",
    "    \n",
    "    def filter_mask_and_sums_from_spans(batch_elements,spans,device):\n",
    "        ## TO-DO\n",
    "        for batch_elem in batch_elements:\n",
    "            index_start_batch = batch_elem.tokens[0].start\n",
    "            index_end_batch = batch_elem.tokens[len(batch_elem.tokens)-1].end\n",
    "            spans_in_batch = []\n",
    "\n",
    "            for span in spans:\n",
    "                if span.start>= index_start_batch and span.start + len(span.text)-1 <= index_end_batch:\n",
    "                    spans_in_batch.append(span)\n",
    "\n",
    "            batch_elem.add_spans(spans_in_batch)\n",
    "\n",
    "        acc_sums_lst = [\n",
    "                    [0] + list(map(lambda token: token.acc_sum, elem.tokens)) + [0]\n",
    "                    for elem in batch_elements\n",
    "                ]\n",
    "\n",
    "        max_seq = max([len(batch_elem.tokens) + 2 for batch_elem in batch_elements])\n",
    "        acc_sums = torch.tensor(\n",
    "            pad(acc_sums_lst, seq_len=max_seq, pad_value=0), device=device, dtype=torch.long\n",
    "        )\n",
    "\n",
    "        b_entity_mask_lst = [elem.entity_mask for elem in batch_elements]\n",
    "        b_entity_mask = torch.tensor(\n",
    "            pad(b_entity_mask_lst, seq_len=-1, pad_value=0), device=device, dtype=torch.long\n",
    "        )\n",
    "\n",
    "        return acc_sums,b_entity_mask\n",
    "    \n",
    "    def filter_candidates(batch_elements,device):\n",
    "        pem_values: List[List[float]] = []\n",
    "        candidate_qcodes: List[str] = []\n",
    "        candidate_qcodes_ints: List[List[int]] = []\n",
    "        for batch_elem in batch_elements:\n",
    "            for span in batch_elem.spans:\n",
    "                pem_values.append(\n",
    "                    [pem_value for _, pem_value in span.candidate_entities]\n",
    "                )  # TODO unpad and pad here\n",
    "                candidate_qcodes.extend(\n",
    "                    [qcode for qcode, _ in span.candidate_entities]\n",
    "                )  # should pad here\n",
    "                # temporary hack (use negative IDs for additional entities IDs to avoid\n",
    "                # collisions with Wikdata IDs\n",
    "                candidate_qcodes_ints.append(\n",
    "                    [int(qcode.replace(\"Q\", \"\")) if 'Q' in qcode else int(qcode.replace(\"A\", '-')) for qcode, _ in\n",
    "                        span.candidate_entities]\n",
    "                )\n",
    "\n",
    "        num_cands = KGBuilder.refined.preprocessor.max_candidates\n",
    "        num_ents = len([span for batch_elm in batch_elements for span in batch_elm.spans])\n",
    "        cand_class_idx = KGBuilder.refined.preprocessor.get_classes_idx_for_qcode_batch(\n",
    "                    candidate_qcodes, shape=(num_ents, num_cands, -1)\n",
    "        )\n",
    "\n",
    "        b_cand_desc_emb = None\n",
    "        b_cand_desc = None\n",
    "\n",
    "        b_cand_desc_emb = KGBuilder.refined.preprocessor.get_descriptions_emb_for_qcode_batch(\n",
    "                        candidate_qcodes, shape=(num_ents, num_cands, -1)\n",
    "                    ).to(device)\n",
    "        b_cand_desc = None\n",
    "\n",
    "\n",
    "        b_candidate_classes = torch.zeros(\n",
    "                    size=(num_ents, num_cands, KGBuilder.refined.preprocessor.num_classes+1), dtype=torch.float32, device=device\n",
    "        )\n",
    "        first_idx = (\n",
    "            torch.arange(num_ents, device=device)\n",
    "                .unsqueeze(1)\n",
    "                .unsqueeze(1)\n",
    "                .expand(cand_class_idx.size())\n",
    "        )\n",
    "        snd_idx = torch.arange(num_cands, device=device).unsqueeze(1)\n",
    "        b_candidate_classes[first_idx, snd_idx, cand_class_idx] = 1\n",
    "        b_pem_values = torch.tensor(pem_values, device=device, dtype=torch.float32)\n",
    "        b_candidate_qcode_values = torch.tensor(\n",
    "            candidate_qcodes_ints, device=device, dtype=torch.long\n",
    "        )\n",
    "\n",
    "        return (b_candidate_qcode_values,b_pem_values,b_candidate_classes,b_cand_desc,b_cand_desc_emb)\n",
    "    \n",
    "    def call_model(batch,contextualised_embeddings,acc_sums,b_entity_mask,cand_desc,cand_desc_emb,candidate_pem_values,candidate_classes,device,spans,cand_ids)-> ModelReturn:\n",
    "        mention_embeddings = KGBuilder.refined.model._get_mention_embeddings(\n",
    "            sequence_output=contextualised_embeddings,\n",
    "            token_acc_sums=acc_sums,\n",
    "            entity_mask=b_entity_mask,\n",
    "        )\n",
    "\n",
    "        candidate_entity_targets = batch.candidate_target_values\n",
    "\n",
    "\n",
    "        class_targets = KGBuilder.refined.model._expand_class_targets(\n",
    "                    batch.class_target_values, index_tensor=batch.entity_index_mask_values\n",
    "        )\n",
    "\n",
    "        description_loss, candidate_description_scores = KGBuilder.refined.model.ed_2(\n",
    "        candidate_desc=cand_desc,\n",
    "        mention_embeddings=mention_embeddings,\n",
    "        candidate_entity_targets=candidate_entity_targets,\n",
    "        candidate_desc_emb=cand_desc_emb,\n",
    "        )\n",
    "\n",
    "        # forward pass of entity typing layer (using predetermined spans if provided else span identified by md layer)\n",
    "        et_loss, et_activations = KGBuilder.refined.model.entity_typing(\n",
    "        mention_embeddings=mention_embeddings, span_classes=class_targets\n",
    "        )\n",
    "\n",
    "        # forward pass of entity disambiguation layer\n",
    "        ed_loss, ed_activations = KGBuilder.refined.model.entity_disambiguation(\n",
    "        class_activations=et_activations.detach() if KGBuilder.refined.model.detach_ed_layer else et_activations,\n",
    "        candidate_entity_targets=candidate_entity_targets,\n",
    "        candidate_pem_values=candidate_pem_values,\n",
    "        candidate_classes=candidate_classes,\n",
    "        candidate_description_scores=candidate_description_scores.detach(),  # detach or not\n",
    "        current_device=device,\n",
    "        )\n",
    "        \n",
    "        return ModelReturn(\n",
    "            None,\n",
    "            None,\n",
    "            et_loss,\n",
    "            et_activations,\n",
    "            ed_loss,\n",
    "            ed_activations,\n",
    "            spans,\n",
    "            None,\n",
    "            cand_ids,\n",
    "            description_loss,\n",
    "            candidate_description_scores,\n",
    "        )\n",
    "\n",
    "    def process_doc_el(doc:Doc,tns:Iterable[BatchedElementsTns],spans:List[Span]):\n",
    "        for batch_idx,batch in enumerate(tns):\n",
    "            ## MAYBE THIS CAUSE ERROR\n",
    "            batch_elements = batch.batch_elements\n",
    "\n",
    "            device = torch.device(\"cuda\" if torch.cuda.is_available() else \"cpu\")\n",
    "\n",
    "            token_id_values = batch.token_id_values.to(device)\n",
    "            attention_mask_values = batch.attention_mask_values.to(device)\n",
    "            token_type_values = batch.token_type_values.to(device)\n",
    "\n",
    "            contextualised_embeddings = KGBuilder.generate_embedding(token_id_values,attention_mask_values,token_type_values)\n",
    "\n",
    "            person_coreference = dict()\n",
    "\n",
    "            person_coreference = KGBuilder.refined.preprocessor.add_candidates_to_spans(\n",
    "                spans,person_coreference=person_coreference\n",
    "            )\n",
    "            acc_sums,b_entity_mask = KGBuilder.filter_mask_and_sums_from_spans(batch_elements,spans,device)\n",
    "\n",
    "            (cand_ids,\n",
    "            candidate_pem_values,\n",
    "            candidate_classes,\n",
    "            cand_desc,\n",
    "            cand_desc_emb ) = KGBuilder.filter_candidates(batch_elements,device)\n",
    "\n",
    "            output = KGBuilder.call_model(batch,contextualised_embeddings,acc_sums,b_entity_mask,cand_desc,cand_desc_emb,candidate_pem_values,candidate_classes,device,spans,cand_ids)\n",
    "\n",
    "\n",
    "            spans = output.entity_spans\n",
    "\n",
    "            cand_ids = torch.cat(\n",
    "                        [output.cand_ids, torch.ones((output.cand_ids.size(0), 1), device=device, dtype=torch.long) * -1], 1\n",
    "                    )\n",
    "\n",
    "            ed_targets_predictions = output.ed_activations.argmax(dim=1)\n",
    "            ed_targets_softmax = output.ed_activations.softmax(dim=1)\n",
    "\n",
    "\n",
    "            description_scores = output.candidate_description_scores.detach().cpu().numpy()\n",
    "\n",
    "            predicted_entity_ids = (\n",
    "                cand_ids[torch.arange(cand_ids.size(0)), ed_targets_predictions].cpu().numpy().tolist()\n",
    "            )\n",
    "            predicted_entity_confidence = round_list(\n",
    "                ed_targets_softmax[torch.arange(ed_targets_softmax.size(0)), ed_targets_predictions]\n",
    "                    .cpu().detach()\n",
    "                    .numpy()\n",
    "                    .tolist(),\n",
    "                4,\n",
    "            )\n",
    "\n",
    "\n",
    "            span_to_classes = defaultdict(list)\n",
    "            span_indices, pred_class_indices = torch.nonzero(\n",
    "                output.et_activations > 0.5, as_tuple=True\n",
    "            )\n",
    "            for span_idx, pred_class_idx, conf in zip(\n",
    "                    span_indices.cpu().numpy().tolist(),\n",
    "                    pred_class_indices.cpu().numpy().tolist(),\n",
    "                    round_list(\n",
    "                        output.et_activations[(span_indices, pred_class_indices)].cpu().detach().numpy().tolist(), 4\n",
    "                    ),\n",
    "            ):\n",
    "                if pred_class_idx == 0:\n",
    "                    continue  # skip padding class label\n",
    "                class_id = KGBuilder.refined.preprocessor.index_to_class.get(pred_class_idx, \"Q0\")\n",
    "                class_label = KGBuilder.refined.preprocessor.class_to_label.get(class_id, \"no_label\")\n",
    "                span_to_classes[span_idx].append((class_id, class_label, conf))\n",
    "\n",
    "            sorted_entity_ids_scores, old_indices = ed_targets_softmax.sort(descending=True)\n",
    "            sorted_entity_ids_scores = sorted_entity_ids_scores.cpu().detach().numpy().tolist()\n",
    "            sorted_entity_ids = KGBuilder.refined.sort_tensor(cand_ids, old_indices).cpu().numpy().tolist()\n",
    "\n",
    "\n",
    "            for span_idx, span in enumerate(spans):\n",
    "                wikidata_id = f'Q{str(predicted_entity_ids[span_idx])}'\n",
    "                span.predicted_entity = Entity(\n",
    "                    wikidata_entity_id=wikidata_id,\n",
    "                    wikipedia_entity_title=KGBuilder.refined.preprocessor.qcode_to_wiki.get(wikidata_id)\n",
    "                    if KGBuilder.refined.preprocessor.qcode_to_wiki is not None else None\n",
    "                )\n",
    "                span.entity_linking_model_confidence_score = predicted_entity_confidence[span_idx]\n",
    "                span.top_k_predicted_entities = [\n",
    "                    (Entity(wikidata_entity_id=f'Q{entity_id}',\n",
    "                            wikipedia_entity_title=KGBuilder.refined.preprocessor.qcode_to_wiki.get(wikidata_id)\n",
    "                            if KGBuilder.refined.preprocessor.qcode_to_wiki is not None else None\n",
    "                            ),\n",
    "                        round(score, 4))\n",
    "                    for entity_id, score in\n",
    "                    zip(sorted_entity_ids[span_idx], sorted_entity_ids_scores[span_idx])\n",
    "                    if entity_id != 0\n",
    "                ]\n",
    "\n",
    "                span.candidate_entities = [\n",
    "                    (qcode, round(conf, 4))\n",
    "                    for qcode, conf in filter(lambda x: not x[0] == \"Q0\", span.candidate_entities)\n",
    "                ]\n",
    "                span.description_scores = round_list(\n",
    "                    description_scores[span_idx].tolist(), 4\n",
    "                )  # matches candidate order\n",
    "                span.predicted_entity_types = span_to_classes[span_idx]\n",
    "        \n",
    "        \n",
    "        return spans\n",
    "\n",
    "    def preprocess_doc_el(text:str):\n",
    "        doc = Doc.from_text(text,\n",
    "                    preprocessor=KGBuilder.refined.preprocessor)\n",
    "        tns: Iterable[BatchedElementsTns] = convert_doc_to_tensors(\n",
    "                    doc,\n",
    "                    KGBuilder.refined.preprocessor,\n",
    "                    collate=True,\n",
    "                    max_batch_size=16,\n",
    "                    sort_by_tokens=False,\n",
    "                    max_seq=KGBuilder.refined.max_seq,\n",
    "            )\n",
    "        \n",
    "        return (doc,tns) \n",
    "        \n",
    "    def extract_entities_from_relation_extraction(triplets,doc_id,text:str)->List[Span]:\n",
    "        entity_mentions = set()\n",
    "        for triplet in triplets:\n",
    "            entity_mentions.add(triplet['head'])\n",
    "            entity_mentions.add(triplet['tail'])\n",
    "        \n",
    "        spans: List[Span] = []\n",
    "\n",
    "        for ent in entity_mentions:\n",
    "            indexes_start = KGBuilder.__find_all(ent,text)\n",
    "            for index_start in indexes_start:\n",
    "                span = Span(\n",
    "                    start = index_start,\n",
    "                    ln = len(ent),\n",
    "                    text = ent,\n",
    "                    coarse_type=None,\n",
    "                    coarse_mention_type=None,\n",
    "                    doc_id=doc_id\n",
    "                )\n",
    "\n",
    "                spans.append(span)\n",
    "        \n",
    "        \n",
    "        return spans\n",
    "\n",
    "    def extract_triplets(text:str)->List[Dict]:\n",
    "        triplets = []\n",
    "        relation, subject, relation, object_ = '', '', '', ''\n",
    "        text = text.strip()\n",
    "        current = 'x'\n",
    "        for token in text.replace(\"<s>\", \"\").replace(\"<pad>\", \"\").replace(\"</s>\", \"\").split():\n",
    "            if token == \"<triplet>\":\n",
    "                current = 't'\n",
    "                if relation != '':\n",
    "                    triplets.append({'head': subject.strip(), 'type': relation.strip(),'tail': object_.strip()})\n",
    "                    relation = ''\n",
    "                subject = ''\n",
    "            elif token == \"<subj>\":\n",
    "                current = 's'\n",
    "                if relation != '':\n",
    "                    triplets.append({'head': subject.strip(), 'type': relation.strip(),'tail': object_.strip()})\n",
    "                object_ = ''\n",
    "            elif token == \"<obj>\":\n",
    "                current = 'o'\n",
    "                relation = ''\n",
    "            else:\n",
    "                if current == 't':\n",
    "                    subject += ' ' + token\n",
    "                elif current == 's':\n",
    "                    object_ += ' ' + token\n",
    "                elif current == 'o':\n",
    "                    relation += ' ' + token\n",
    "        if subject != '' and relation != '' and object_ != '':\n",
    "            triplets.append({'head': subject.strip(), 'type': relation.strip(),'tail': object_.strip()})\n",
    "        return triplets\n"
   ]
  },
  {
   "cell_type": "code",
   "execution_count": 13,
   "metadata": {},
   "outputs": [],
   "source": [
    "def hash_of_span(self)-> int:\n",
    "    \n",
    "    text = self.text if self.text is not None else \"None\"\n",
    "    entity_id = \"ENTITY NONE\"\n",
    "    wikipedia_entity_title = \"ENTITY NONE\"\n",
    "    \n",
    "    if self.predicted_entity is not  None:    \n",
    "        entity_id = self.predicted_entity.wikidata_entity_id if self.predicted_entity.wikidata_entity_id is not None else \"None\"\n",
    "        wikipedia_entity_title = self.predicted_entity.wikipedia_entity_title if self.predicted_entity.wikipedia_entity_title is not None else \"None\"\n",
    "    \n",
    "    \n",
    "    return hash(text + \" \" + entity_id + \" \"+ wikipedia_entity_title)"
   ]
  },
  {
   "cell_type": "code",
   "execution_count": 14,
   "metadata": {},
   "outputs": [],
   "source": [
    "Span.__hash__ = hash_of_span"
   ]
  },
  {
   "cell_type": "code",
   "execution_count": 15,
   "metadata": {},
   "outputs": [],
   "source": [
    "builder = KGBuilder()"
   ]
  },
  {
   "cell_type": "code",
   "execution_count": 16,
   "metadata": {},
   "outputs": [],
   "source": [
    "spans,triplets,spans_el_base,spans_re,triplets_base,triplets_base_er  = builder.build_graph(\"\"\"Star Wars: The Force Awakens (also known as Star Wars: Episode VII – The Force Awakens) is a 2015 American epic space opera film co-produced, co-written, and directed by J. J. Abrams. The sequel to Return of the Jedi (1983), it is the seventh film in the \"Skywalker Saga\". Set thirty years after Return of the Jedi, The Force Awakens follows Rey, Finn, Poe Dameron, and Han Solo's search for Luke Skywalker and their fight in the Resistance, led by General Leia Organa and veterans of the Rebel Alliance, against Kylo Ren and the First Order, a successor to the Galactic Empire. The ensemble cast includes Harrison Ford, Mark Hamill, Carrie Fisher, Adam Driver, Daisy Ridley, John Boyega, Oscar Isaac, Lupita Nyong'o, Andy Serkis, Domhnall Gleeson, Anthony Daniels, Peter Mayhew and Max von Sydow.\n",
    "\n",
    "Work on a seventh entry in the \"Skywalker Saga\" commenced after the Walt Disney Company's acquisition of Lucasfilm in 2012. The film is the first Star Wars film to not extensively involve franchise creator George Lucas, who only served as a creative consultant in the early stages of production. The Force Awakens was produced by Abrams, his longtime collaborator Bryan Burk, and Lucasfilm president Kathleen Kennedy. Abrams and Lawrence Kasdan, co-writer of the original trilogy films The Empire Strikes Back (1980) and Return of the Jedi, rewrote an initial script by Michael Arndt. John Williams, composer for the previous episodic films, returned to compose the score. Principal photography began in April 2014 and concluded the following November. Filming took place on sets at Pinewood Studios in England, and on location mainly in Abu Dhabi, Iceland, and Ireland. On a budget of $447 million, it is the most expensive film ever made.\n",
    "\n",
    "The Force Awakens premiered in Hollywood, Los Angeles, on December 14, 2015, and was released in the United States on December 18. It was positively received by critics, who found it an action-packed film with the mix of new and familiar actors capturing the nostalgia of the original trilogy and giving the franchise new energy.[4] The film grossed $2.07 billion worldwide, breaking various box office records and becoming the highest-grossing film in the United States and Canada, the highest-grossing film of 2015, and the third-highest-grossing film at the time of its release. It was nominated for five awards at the 88th Academy Awards and received numerous other accolades. The film was followed by The Last Jedi (2017) and The Rise of Skywalker (2019), rounding out the Star Wars sequel trilogy.\"\"\")"
   ]
  },
  {
   "cell_type": "code",
   "execution_count": 18,
   "metadata": {},
   "outputs": [
    {
     "data": {
      "text/plain": [
       "[{'head': ['The Force Awakens', Entity(wikidata_entity_id=Q6074, wikipedia_entity_title=Star Wars: The Force Awakens), 'WORK_OF_ART'],\n",
       "  'type': 'follows',\n",
       "  'tail': ['The Empire Strikes Back', Entity(wikidata_entity_id=Q181795, wikipedia_entity_title=The Empire Strikes Back), 'WORK_OF_ART']},\n",
       " {'head': ['Star Wars', Entity(wikidata_entity_id=Q462, wikipedia_entity_title=Star Wars), None],\n",
       "  'type': 'has part',\n",
       "  'tail': ['The Empire Strikes Back', Entity(wikidata_entity_id=Q181795, wikipedia_entity_title=The Empire Strikes Back), 'WORK_OF_ART']},\n",
       " {'head': ['The Empire Strikes Back', Entity(wikidata_entity_id=Q181795, wikipedia_entity_title=The Empire Strikes Back), 'WORK_OF_ART'],\n",
       "  'type': 'screenwriter',\n",
       "  'tail': ['Michael Arndt', Entity(wikidata_entity_id=Q705156, wikipedia_entity_title=Michael Arndt), 'PERSON']},\n",
       " {'head': ['The Force Awakens', Entity(wikidata_entity_id=Q6074, wikipedia_entity_title=Star Wars: The Force Awakens), 'WORK_OF_ART'],\n",
       "  'type': 'followed by',\n",
       "  'tail': ['The Last Jedi', Entity(wikidata_entity_id=Q18486021, wikipedia_entity_title=Star Wars: The Last Jedi), 'WORK_OF_ART']},\n",
       " {'head': ['Star Wars', Entity(wikidata_entity_id=Q462, wikipedia_entity_title=Star Wars), None],\n",
       "  'type': 'has part',\n",
       "  'tail': ['Return of the Jedi', Entity(wikidata_entity_id=Q181803, wikipedia_entity_title=Return of the Jedi), 'WORK_OF_ART']},\n",
       " {'head': ['Star Wars', Entity(wikidata_entity_id=Q462, wikipedia_entity_title=Star Wars), None],\n",
       "  'type': 'has part',\n",
       "  'tail': ['The Last Jedi', Entity(wikidata_entity_id=Q18486021, wikipedia_entity_title=Star Wars: The Last Jedi), 'WORK_OF_ART']},\n",
       " {'head': ['The Force Awakens', Entity(wikidata_entity_id=Q6074, wikipedia_entity_title=Star Wars: The Force Awakens), 'WORK_OF_ART'],\n",
       "  'type': 'screenwriter',\n",
       "  'tail': ['Michael Arndt', Entity(wikidata_entity_id=Q705156, wikipedia_entity_title=Michael Arndt), 'PERSON']},\n",
       " {'head': ['The Empire Strikes Back', Entity(wikidata_entity_id=Q181795, wikipedia_entity_title=The Empire Strikes Back), 'WORK_OF_ART'],\n",
       "  'type': 'part of the series',\n",
       "  'tail': ['Star Wars', Entity(wikidata_entity_id=Q462, wikipedia_entity_title=Star Wars), None]},\n",
       " {'head': ['The Force Awakens', Entity(wikidata_entity_id=Q6074, wikipedia_entity_title=Star Wars: The Force Awakens), 'WORK_OF_ART'],\n",
       "  'type': 'follows',\n",
       "  'tail': ['Return of the Jedi', Entity(wikidata_entity_id=Q181803, wikipedia_entity_title=Return of the Jedi), 'WORK_OF_ART']},\n",
       " {'head': ['Star Wars', Entity(wikidata_entity_id=Q462, wikipedia_entity_title=Star Wars), None],\n",
       "  'type': 'has part',\n",
       "  'tail': ['The Rise of Skywalker', Entity(wikidata_entity_id=Q20977110, wikipedia_entity_title=Star Wars: The Rise of Skywalker), 'WORK_OF_ART']}]"
      ]
     },
     "execution_count": 18,
     "metadata": {},
     "output_type": "execute_result"
    }
   ],
   "source": [
    "triplets_base"
   ]
  },
  {
   "cell_type": "code",
   "execution_count": 6,
   "metadata": {},
   "outputs": [],
   "source": [
    "spans,triplets,spans_el_base,spans_re,triplets_base,triplets_base_er = builder.build_graph(\"Toyota Motor Corporation, founded in 1937 by Kiichiro Toyoda, is one of the world's leading automotive manufacturers. The company originated from the Toyoda Automatic Loom Works, which diversified into automobile production under Kiichiro's vision. Toyota's first passenger car, the Model AA, was produced in 1936. Post-World War II, the company faced financial difficulties but rebounded with innovative manufacturing techniques, including Just-In-Time production, which revolutionized the industry. The introduction of the Corolla in 1966 cemented Toyota's reputation for reliability and affordability. In the 21st century, Toyota became a pioneer in hybrid technology with the launch of the Prius in 1997, leading the global shift towards sustainable automotive solutions. Today, Toyota continues to innovate with advancements in electric vehicles, hydrogen fuel cells, and autonomous driving technologies, maintaining its position as a global automotive leader.\")"
   ]
  },
  {
   "cell_type": "code",
   "execution_count": 7,
   "metadata": {},
   "outputs": [
    {
     "data": {
      "text/plain": [
       "[['Toyota Motor Corporation', Entity(wikidata_entity_id=Q53268, wikipedia_entity_title=Toyota), 'ORG'],\n",
       " ['Kiichiro Toyoda', Entity(wikidata_entity_id=Q358556, wikipedia_entity_title=Kiichiro Toyoda), 'PERSON'],\n",
       " ['Toyoda Automatic Loom Works', Entity(wikidata_entity_id=Q1476105, wikipedia_entity_title=Toyota Industries), 'ORG'],\n",
       " ['Kiichiro', Entity(wikidata_entity_id=Q358556, wikipedia_entity_title=Kiichiro Toyoda), 'PERSON'],\n",
       " ['Toyota', Entity(wikidata_entity_id=Q53268, wikipedia_entity_title=Toyota), 'ORG'],\n",
       " ['Just-In-Time', Entity(wikidata_entity_id=Q380772, wikipedia_entity_title=Lean manufacturing), None],\n",
       " ['Prius', Entity(wikidata_entity_id=Q213115, wikipedia_entity_title=Toyota Prius), None],\n",
       " ['hydrogen fuel cells', Entity(wikidata_entity_id=Q180253, wikipedia_entity_title=Fuel cell), None],\n",
       " ['autonomous driving', Entity(wikidata_entity_id=Q741490, wikipedia_entity_title=Self-driving car), None],\n",
       " ['Kiichiro Toyoda', Entity(wikidata_entity_id=Q53268, wikipedia_entity_title=Toyota), None],\n",
       " ['Toyota', Entity(wikidata_entity_id=Q358556, wikipedia_entity_title=Kiichiro Toyoda), None],\n",
       " ['Toyota', Entity(wikidata_entity_id=Q53268, wikipedia_entity_title=Toyota), None]]"
      ]
     },
     "execution_count": 7,
     "metadata": {},
     "output_type": "execute_result"
    }
   ],
   "source": [
    "spans"
   ]
  },
  {
   "cell_type": "code",
   "execution_count": 7,
   "metadata": {},
   "outputs": [
    {
     "data": {
      "text/plain": [
       "[{'head': ['Toyota', Entity(wikidata_entity_id=Q53268, wikipedia_entity_title=Toyota), 'ORG'],\n",
       "  'type': 'founded by',\n",
       "  'tail': ['Kiichiro Toyoda', Entity(wikidata_entity_id=Q358556, wikipedia_entity_title=Kiichiro Toyoda), 'PERSON']},\n",
       " {'head': ['Prius', Entity(wikidata_entity_id=Q213115, wikipedia_entity_title=Toyota Prius), None],\n",
       "  'type': 'manufacturer',\n",
       "  'tail': ['Toyota Motor Corporation', Entity(wikidata_entity_id=Q53268, wikipedia_entity_title=Toyota), 'ORG']},\n",
       " {'head': ['Toyota Motor Corporation', Entity(wikidata_entity_id=Q53268, wikipedia_entity_title=Toyota), 'ORG'],\n",
       "  'type': 'founded by',\n",
       "  'tail': ['Kiichiro Toyoda', Entity(wikidata_entity_id=Q358556, wikipedia_entity_title=Kiichiro Toyoda), 'PERSON']},\n",
       " {'head': ['Toyoda Automatic Loom Works', Entity(wikidata_entity_id=Q1476105, wikipedia_entity_title=Toyota Industries), 'ORG'],\n",
       "  'type': 'founded by',\n",
       "  'tail': ['Kiichiro Toyoda', Entity(wikidata_entity_id=Q358556, wikipedia_entity_title=Kiichiro Toyoda), 'PERSON']},\n",
       " {'head': ['Toyota', Entity(wikidata_entity_id=Q53268, wikipedia_entity_title=Toyota), 'ORG'],\n",
       "  'type': 'founded by',\n",
       "  'tail': ['Kiichiro Toyoda', Entity(wikidata_entity_id=Q358556, wikipedia_entity_title=Kiichiro Toyoda), 'PERSON']},\n",
       " {'head': ['autonomous driving', Entity(wikidata_entity_id=Q741490, wikipedia_entity_title=Self-driving car), None],\n",
       "  'type': 'developer',\n",
       "  'tail': ['Toyota', Entity(wikidata_entity_id=Q53268, wikipedia_entity_title=Toyota), 'ORG']},\n",
       " {'head': ['Just-In-Time', Entity(wikidata_entity_id=Q380772, wikipedia_entity_title=Lean manufacturing), None],\n",
       "  'type': 'manufacturer',\n",
       "  'tail': ['Toyota Motor Corporation', Entity(wikidata_entity_id=Q53268, wikipedia_entity_title=Toyota), 'ORG']}]"
      ]
     },
     "execution_count": 7,
     "metadata": {},
     "output_type": "execute_result"
    }
   ],
   "source": [
    "triplets"
   ]
  },
  {
   "cell_type": "code",
   "execution_count": 8,
   "metadata": {},
   "outputs": [
    {
     "data": {
      "text/plain": [
       "[{'head': ['Prius', Entity(wikidata_entity_id=Q213115, wikipedia_entity_title=Toyota Prius), None],\n",
       "  'type': 'manufacturer',\n",
       "  'tail': ['Toyota Motor Corporation', Entity(wikidata_entity_id=Q53268, wikipedia_entity_title=Toyota), 'ORG']},\n",
       " {'head': ['Kiichiro', Entity(wikidata_entity_id=Q358556, wikipedia_entity_title=Kiichiro Toyoda), 'PERSON'],\n",
       "  'type': 'work period (start)',\n",
       "  'tail': '1937'},\n",
       " {'head': ['Toyota Motor Corporation', Entity(wikidata_entity_id=Q53268, wikipedia_entity_title=Toyota), 'ORG'],\n",
       "  'type': 'founded by',\n",
       "  'tail': ['Kiichiro Toyoda', Entity(wikidata_entity_id=Q358556, wikipedia_entity_title=Kiichiro Toyoda), 'PERSON']},\n",
       " {'head': ['Toyoda Automatic Loom Works', Entity(wikidata_entity_id=Q1476105, wikipedia_entity_title=Toyota Industries), 'ORG'],\n",
       "  'type': 'founded by',\n",
       "  'tail': ['Kiichiro Toyoda', Entity(wikidata_entity_id=Q358556, wikipedia_entity_title=Kiichiro Toyoda), 'PERSON']},\n",
       " {'head': ['Toyota', Entity(wikidata_entity_id=Q53268, wikipedia_entity_title=Toyota), 'ORG'],\n",
       "  'type': 'founded by',\n",
       "  'tail': ['Kiichiro Toyoda', Entity(wikidata_entity_id=Q358556, wikipedia_entity_title=Kiichiro Toyoda), 'PERSON']},\n",
       " {'head': ['autonomous driving', Entity(wikidata_entity_id=Q741490, wikipedia_entity_title=Self-driving car), None],\n",
       "  'type': 'developer',\n",
       "  'tail': ['Toyota', Entity(wikidata_entity_id=Q53268, wikipedia_entity_title=Toyota), 'ORG']},\n",
       " {'head': ['Toyota', Entity(wikidata_entity_id=Q53268, wikipedia_entity_title=Toyota), 'ORG'],\n",
       "  'type': 'inception',\n",
       "  'tail': '1937'},\n",
       " {'head': ['Toyoda Automatic Loom Works', Entity(wikidata_entity_id=Q1476105, wikipedia_entity_title=Toyota Industries), 'ORG'],\n",
       "  'type': 'inception',\n",
       "  'tail': '1937'},\n",
       " {'head': ['Just-In-Time', Entity(wikidata_entity_id=Q380772, wikipedia_entity_title=Lean manufacturing), None],\n",
       "  'type': 'manufacturer',\n",
       "  'tail': ['Toyota Motor Corporation', Entity(wikidata_entity_id=Q53268, wikipedia_entity_title=Toyota), 'ORG']},\n",
       " {'head': ['hydrogen fuel cells', Entity(wikidata_entity_id=Q180253, wikipedia_entity_title=Fuel cell), None],\n",
       "  'type': 'subclass of',\n",
       "  'tail': 'electric vehicles'},\n",
       " {'head': ['Toyota Motor Corporation', Entity(wikidata_entity_id=Q53268, wikipedia_entity_title=Toyota), 'ORG'],\n",
       "  'type': 'inception',\n",
       "  'tail': '1937'}]"
      ]
     },
     "execution_count": 8,
     "metadata": {},
     "output_type": "execute_result"
    }
   ],
   "source": [
    "triplets_base_er"
   ]
  },
  {
   "cell_type": "code",
   "execution_count": 10,
   "metadata": {},
   "outputs": [
    {
     "name": "stdout",
     "output_type": "stream",
     "text": [
      "Relationships before verification:  26\n",
      "Relationships after verification:  20\n"
     ]
    }
   ],
   "source": [
    "spans,triplets,spans_el_base,spans_re,triplets_base,triplets_base_er = builder.build_graph(\"\"\"\n",
    "The movie revolves around a civil war taking place \"in a galaxy far far away.\" The Rebels are fighting against the nefarious Darth Vader and his Imperial forces from the Galactic Empire, a tyrannical army intent on destroying civilizations across the universe. Princess Leia is head of the Rebel's Alliance and manages to steal Imperial blueprints and details about a deadly weapon and space station called the Death Star. When she is captured by Imperial forces, she puts the plans in the memory of a droid, R2-D2, who escapes with another droid, C-3PO to the planet of Tatooine.\n",
    "\n",
    "Jawa traders find the droids and sell them off to farmers Owen and Beru Lars. Owen and Beru have a nephew, Luke Skywalker, who is in charge of cleaning the droids and readying them for work on the farm. While cleaning the droids, Luke accidentally opens Princess Leia's message, which states that she needs help from Obi-Wan Kenobi. Luke and R2-D2 find a man named Ben Kenobi who reveals himself to be Obi-Wan, a former Jedi Knight whose duty was to maintain peace in the galaxy by using special powers from something called the Force. The Jedis were destroyed by the Empire and he has gone into hiding. Obi-Wan also reveals that Darth Vader killed Luke's father, and gives the young farm boy his father's lightsaber, a powerful, sword-like weapon.\n",
    "\n",
    "Leia's message asks Obi-Wan to travel to Alderaan with the plans to give to her father. Luke decides to go with him, and they set out to Mos Eisley, a spaceport town, in search of a pilot who can bring them to Alderaan. They employ Han Solo, a sardonic smuggler, and his furry companion, Chewbacca, to take them to Alderaan using his ship, the Millennium Falcon.\n",
    "\n",
    "When they arrive at Alderaan they discover that it has been completely destroyed by Grand Moff Tarkin and Darth Vader using the obliterating powers of the Death Star. Luke, Chewbacca and Han Solo sneak onto the Death Star, where they rescue Princess Leia and get on the Millennium Falcon. On the Death Star, Obi-Wan is able to disable the tractor beam, but in a duel with Darth Vader, he is killed.\n",
    "\n",
    "\"\"\")"
   ]
  },
  {
   "cell_type": "code",
   "execution_count": 13,
   "metadata": {},
   "outputs": [
    {
     "data": {
      "text/plain": [
       "[['Rebels', Entity(wikidata_entity_id=Q52316, wikipedia_entity_title=Rebel Alliance), None],\n",
       " ['Darth Vader', Entity(wikidata_entity_id=Q12206942, wikipedia_entity_title=Darth Vader), None],\n",
       " ['Imperial', Entity(wikidata_entity_id=Q52347, wikipedia_entity_title=Galactic Empire (Star Wars)), None],\n",
       " ['Galactic Empire', Entity(wikidata_entity_id=Q52347, wikipedia_entity_title=Galactic Empire (Star Wars)), None],\n",
       " ['Princess Leia', Entity(wikidata_entity_id=Q51797, wikipedia_entity_title=Princess Leia), 'PERSON'],\n",
       " ['Rebel', Entity(wikidata_entity_id=Q52316, wikipedia_entity_title=Rebel Alliance), None],\n",
       " ['Alliance', Entity(wikidata_entity_id=Q4732270, wikipedia_entity_title=Alliance (Firefly)), None],\n",
       " ['Death Star', Entity(wikidata_entity_id=Q19907, wikipedia_entity_title=Death Star), None],\n",
       " ['R2-D2', Entity(wikidata_entity_id=Q51788, wikipedia_entity_title=R2-D2), 'PERSON'],\n",
       " ['C-3PO', Entity(wikidata_entity_id=Q51787, wikipedia_entity_title=C-3PO), None],\n",
       " ['Tatooine', Entity(wikidata_entity_id=Q723764, wikipedia_entity_title=Tatooine), None],\n",
       " ['Jawa', Entity(wikidata_entity_id=Q2994460), None],\n",
       " ['Beru Lars', Entity(wikidata_entity_id=Q51805, wikipedia_entity_title=List of Star Wars characters), None],\n",
       " ['Luke Skywalker', Entity(wikidata_entity_id=Q51746, wikipedia_entity_title=Luke Skywalker), 'PERSON'],\n",
       " ['Luke', Entity(wikidata_entity_id=Q51746, wikipedia_entity_title=Luke Skywalker), 'PERSON'],\n",
       " ['Obi-Wan Kenobi', Entity(wikidata_entity_id=Q51740, wikipedia_entity_title=Obi-Wan Kenobi), None],\n",
       " ['Ben Kenobi', Entity(wikidata_entity_id=Q51740, wikipedia_entity_title=Obi-Wan Kenobi), None],\n",
       " ['Obi-Wan', Entity(wikidata_entity_id=Q51740, wikipedia_entity_title=Obi-Wan Kenobi), None],\n",
       " ['Jedi', Entity(wikidata_entity_id=Q51724, wikipedia_entity_title=Jedi), None],\n",
       " ['Jedis', Entity(wikidata_entity_id=Q51724, wikipedia_entity_title=Jedi), None],\n",
       " ['Empire', Entity(wikidata_entity_id=Q52347, wikipedia_entity_title=Galactic Empire (Star Wars)), None],\n",
       " ['Leia', Entity(wikidata_entity_id=Q51797, wikipedia_entity_title=Princess Leia), 'PERSON'],\n",
       " ['Alderaan', Entity(wikidata_entity_id=Q752192, wikipedia_entity_title=Alderaan), None],\n",
       " ['Mos Eisley', Entity(wikidata_entity_id=Q946074, wikipedia_entity_title=Mos Eisley), None],\n",
       " ['Han Solo', Entity(wikidata_entity_id=Q51802, wikipedia_entity_title=Han Solo), 'PERSON'],\n",
       " ['Chewbacca', Entity(wikidata_entity_id=Q51803, wikipedia_entity_title=Chewbacca), 'PERSON'],\n",
       " ['Millennium Falcon', Entity(wikidata_entity_id=Q19901, wikipedia_entity_title=Millennium Falcon), None],\n",
       " ['Tarkin', Entity(wikidata_entity_id=Q51800, wikipedia_entity_title=Grand Moff Tarkin), 'PERSON'],\n",
       " ['the Death Star', Entity(wikidata_entity_id=Q19907, wikipedia_entity_title=Death Star), None],\n",
       " ['the Millennium Falcon', Entity(wikidata_entity_id=Q19901, wikipedia_entity_title=Millennium Falcon), None],\n",
       " ['Jedi Knight', Entity(wikidata_entity_id=Q51724, wikipedia_entity_title=Jedi), None]]"
      ]
     },
     "execution_count": 13,
     "metadata": {},
     "output_type": "execute_result"
    }
   ],
   "source": [
    "spans"
   ]
  },
  {
   "cell_type": "code",
   "execution_count": 11,
   "metadata": {},
   "outputs": [
    {
     "data": {
      "text/plain": [
       "[{'head': ['Alliance', Entity(wikidata_entity_id=Q4732270, wikipedia_entity_title=Alliance (Firefly)), None],\n",
       "  'type': 'opposite of',\n",
       "  'tail': ['Galactic Empire', Entity(wikidata_entity_id=Q52347, wikipedia_entity_title=Galactic Empire (Star Wars)), None]},\n",
       " {'head': ['Jedis', Entity(wikidata_entity_id=Q51724, wikipedia_entity_title=Jedi), None],\n",
       "  'type': 'has part',\n",
       "  'tail': 'Owen'},\n",
       " {'head': ['Rebels', Entity(wikidata_entity_id=Q52316, wikipedia_entity_title=Rebel Alliance), None],\n",
       "  'type': 'chairperson',\n",
       "  'tail': ['Han Solo', Entity(wikidata_entity_id=Q51802, wikipedia_entity_title=Han Solo), 'PERSON']},\n",
       " {'head': ['R2-D2', Entity(wikidata_entity_id=Q51788, wikipedia_entity_title=R2-D2), 'PERSON'],\n",
       "  'type': 'instance of',\n",
       "  'tail': 'droid'},\n",
       " {'head': ['Rebels', Entity(wikidata_entity_id=Q52316, wikipedia_entity_title=Rebel Alliance), None],\n",
       "  'type': 'chairperson',\n",
       "  'tail': ['Princess Leia', Entity(wikidata_entity_id=Q51797, wikipedia_entity_title=Princess Leia), 'PERSON']},\n",
       " {'head': ['Tarkin', Entity(wikidata_entity_id=Q51800, wikipedia_entity_title=Grand Moff Tarkin), 'PERSON'],\n",
       "  'type': 'member of',\n",
       "  'tail': ['Galactic Empire', Entity(wikidata_entity_id=Q52347, wikipedia_entity_title=Galactic Empire (Star Wars)), None]},\n",
       " {'head': ['Jawa', Entity(wikidata_entity_id=Q2994460), None],\n",
       "  'type': 'location',\n",
       "  'tail': ['Tatooine', Entity(wikidata_entity_id=Q723764, wikipedia_entity_title=Tatooine), None]},\n",
       " {'head': ['Leia', Entity(wikidata_entity_id=Q51797, wikipedia_entity_title=Princess Leia), 'PERSON'],\n",
       "  'type': 'relative',\n",
       "  'tail': ['Luke Skywalker', Entity(wikidata_entity_id=Q51746, wikipedia_entity_title=Luke Skywalker), 'PERSON']},\n",
       " {'head': ['Jedi', Entity(wikidata_entity_id=Q51724, wikipedia_entity_title=Jedi), None],\n",
       "  'type': 'has part',\n",
       "  'tail': ['Obi-Wan Kenobi', Entity(wikidata_entity_id=Q51740, wikipedia_entity_title=Obi-Wan Kenobi), None]},\n",
       " {'head': ['Jedis', Entity(wikidata_entity_id=Q51724, wikipedia_entity_title=Jedi), None],\n",
       "  'type': 'has part',\n",
       "  'tail': ['Beru Lars', Entity(wikidata_entity_id=Q51805, wikipedia_entity_title=List of Star Wars characters), None]},\n",
       " {'head': ['Death Star', Entity(wikidata_entity_id=Q19907, wikipedia_entity_title=Death Star), None],\n",
       "  'type': 'owned by',\n",
       "  'tail': ['Galactic Empire', Entity(wikidata_entity_id=Q52347, wikipedia_entity_title=Galactic Empire (Star Wars)), None]},\n",
       " {'head': ['the Millennium Falcon', Entity(wikidata_entity_id=Q19901, wikipedia_entity_title=Millennium Falcon), None],\n",
       "  'type': 'owned by',\n",
       "  'tail': ['Han Solo', Entity(wikidata_entity_id=Q51802, wikipedia_entity_title=Han Solo), 'PERSON']},\n",
       " {'head': ['Rebels', Entity(wikidata_entity_id=Q52316, wikipedia_entity_title=Rebel Alliance), None],\n",
       "  'type': 'chairperson',\n",
       "  'tail': ['Chewbacca', Entity(wikidata_entity_id=Q51803, wikipedia_entity_title=Chewbacca), 'PERSON']},\n",
       " {'head': ['Luke', Entity(wikidata_entity_id=Q51746, wikipedia_entity_title=Luke Skywalker), 'PERSON'],\n",
       "  'type': 'relative',\n",
       "  'tail': ['Princess Leia', Entity(wikidata_entity_id=Q51797, wikipedia_entity_title=Princess Leia), 'PERSON']},\n",
       " {'head': ['Galactic Empire', Entity(wikidata_entity_id=Q52347, wikipedia_entity_title=Galactic Empire (Star Wars)), None],\n",
       "  'type': 'head of state',\n",
       "  'tail': ['Han Solo', Entity(wikidata_entity_id=Q51802, wikipedia_entity_title=Han Solo), 'PERSON']},\n",
       " {'head': ['Ben Kenobi', Entity(wikidata_entity_id=Q51740, wikipedia_entity_title=Obi-Wan Kenobi), None],\n",
       "  'type': 'member of',\n",
       "  'tail': ['Jedi Knight', Entity(wikidata_entity_id=Q51724, wikipedia_entity_title=Jedi), None]},\n",
       " {'head': ['Mos Eisley', Entity(wikidata_entity_id=Q946074, wikipedia_entity_title=Mos Eisley), None],\n",
       "  'type': 'located on terrain feature',\n",
       "  'tail': ['Tatooine', Entity(wikidata_entity_id=Q723764, wikipedia_entity_title=Tatooine), None]},\n",
       " {'head': ['Imperial', Entity(wikidata_entity_id=Q52347, wikipedia_entity_title=Galactic Empire (Star Wars)), None],\n",
       "  'type': 'part of',\n",
       "  'tail': ['Galactic Empire', Entity(wikidata_entity_id=Q52347, wikipedia_entity_title=Galactic Empire (Star Wars)), None]},\n",
       " {'head': ['Obi-Wan Kenobi', Entity(wikidata_entity_id=Q51740, wikipedia_entity_title=Obi-Wan Kenobi), None],\n",
       "  'type': 'member of',\n",
       "  'tail': ['Jedi Knight', Entity(wikidata_entity_id=Q51724, wikipedia_entity_title=Jedi), None]},\n",
       " {'head': ['Tatooine', Entity(wikidata_entity_id=Q723764, wikipedia_entity_title=Tatooine), None],\n",
       "  'type': 'part of',\n",
       "  'tail': 'galaxy far far away'},\n",
       " {'head': ['the Death Star', Entity(wikidata_entity_id=Q19907, wikipedia_entity_title=Death Star), None],\n",
       "  'type': 'owned by',\n",
       "  'tail': ['Galactic Empire', Entity(wikidata_entity_id=Q52347, wikipedia_entity_title=Galactic Empire (Star Wars)), None]},\n",
       " {'head': ['Beru Lars', Entity(wikidata_entity_id=Q51805, wikipedia_entity_title=List of Star Wars characters), None],\n",
       "  'type': 'spouse',\n",
       "  'tail': 'Owen'},\n",
       " {'head': ['Obi-Wan', Entity(wikidata_entity_id=Q51740, wikipedia_entity_title=Obi-Wan Kenobi), None],\n",
       "  'type': 'member of',\n",
       "  'tail': ['Jedi Knight', Entity(wikidata_entity_id=Q51724, wikipedia_entity_title=Jedi), None]},\n",
       " {'head': ['Chewbacca', Entity(wikidata_entity_id=Q51803, wikipedia_entity_title=Chewbacca), 'PERSON'],\n",
       "  'type': 'instance of',\n",
       "  'tail': 'droid'},\n",
       " {'head': ['C-3PO', Entity(wikidata_entity_id=Q51787, wikipedia_entity_title=C-3PO), None],\n",
       "  'type': 'instance of',\n",
       "  'tail': 'droid'},\n",
       " {'head': ['Luke Skywalker', Entity(wikidata_entity_id=Q51746, wikipedia_entity_title=Luke Skywalker), 'PERSON'],\n",
       "  'type': 'member of',\n",
       "  'tail': ['Jedi Knight', Entity(wikidata_entity_id=Q51724, wikipedia_entity_title=Jedi), None]},\n",
       " {'head': ['Empire', Entity(wikidata_entity_id=Q52347, wikipedia_entity_title=Galactic Empire (Star Wars)), None],\n",
       "  'type': 'instance of',\n",
       "  'tail': ['Galactic Empire', Entity(wikidata_entity_id=Q52347, wikipedia_entity_title=Galactic Empire (Star Wars)), None]},\n",
       " {'head': ['Galactic Empire', Entity(wikidata_entity_id=Q52347, wikipedia_entity_title=Galactic Empire (Star Wars)), None],\n",
       "  'type': 'head of state',\n",
       "  'tail': ['Luke Skywalker', Entity(wikidata_entity_id=Q51746, wikipedia_entity_title=Luke Skywalker), 'PERSON']},\n",
       " {'head': ['Alderaan', Entity(wikidata_entity_id=Q752192, wikipedia_entity_title=Alderaan), None],\n",
       "  'type': 'instance of',\n",
       "  'tail': 'space station'},\n",
       " {'head': ['Darth Vader', Entity(wikidata_entity_id=Q12206942, wikipedia_entity_title=Darth Vader), None],\n",
       "  'type': 'member of',\n",
       "  'tail': ['Jedi Knight', Entity(wikidata_entity_id=Q51724, wikipedia_entity_title=Jedi), None]},\n",
       " {'head': ['Rebel', Entity(wikidata_entity_id=Q52316, wikipedia_entity_title=Rebel Alliance), None],\n",
       "  'type': 'opposite of',\n",
       "  'tail': ['Galactic Empire', Entity(wikidata_entity_id=Q52347, wikipedia_entity_title=Galactic Empire (Star Wars)), None]},\n",
       " {'head': ['Galactic Empire', Entity(wikidata_entity_id=Q52347, wikipedia_entity_title=Galactic Empire (Star Wars)), None],\n",
       "  'type': 'head of state',\n",
       "  'tail': ['Chewbacca', Entity(wikidata_entity_id=Q51803, wikipedia_entity_title=Chewbacca), 'PERSON']}]"
      ]
     },
     "execution_count": 11,
     "metadata": {},
     "output_type": "execute_result"
    }
   ],
   "source": [
    "triplets_base_er"
   ]
  },
  {
   "cell_type": "code",
   "execution_count": 10,
   "metadata": {},
   "outputs": [
    {
     "data": {
      "text/plain": [
       "[{'head': ['Han Solo', Entity(wikidata_entity_id=Q51802, wikipedia_entity_title=Han Solo), 'PERSON'],\n",
       "  'type': 'owner of',\n",
       "  'tail': ['Millennium Falcon', Entity(wikidata_entity_id=Q19901, wikipedia_entity_title=Millennium Falcon), None]},\n",
       " {'head': ['Princess Leia', Entity(wikidata_entity_id=Q51797, wikipedia_entity_title=Princess Leia), 'PERSON'],\n",
       "  'type': 'member of',\n",
       "  'tail': ['Jedi Knight', Entity(wikidata_entity_id=Q51724, wikipedia_entity_title=Jedi), None]},\n",
       " {'head': ['Millennium Falcon', Entity(wikidata_entity_id=Q19901, wikipedia_entity_title=Millennium Falcon), None],\n",
       "  'type': 'owned by',\n",
       "  'tail': ['Han Solo', Entity(wikidata_entity_id=Q51802, wikipedia_entity_title=Han Solo), 'PERSON']},\n",
       " {'head': ['Rebels', Entity(wikidata_entity_id=Q52316, wikipedia_entity_title=Rebel Alliance), None],\n",
       "  'type': 'chairperson',\n",
       "  'tail': ['Han Solo', Entity(wikidata_entity_id=Q51802, wikipedia_entity_title=Han Solo), 'PERSON']},\n",
       " {'head': ['Rebel', Entity(wikidata_entity_id=Q52316, wikipedia_entity_title=Rebel Alliance), None],\n",
       "  'type': 'opposite of',\n",
       "  'tail': ['Galactic Empire', Entity(wikidata_entity_id=Q52347, wikipedia_entity_title=Galactic Empire (Star Wars)), None]},\n",
       " {'head': ['Luke Skywalker', Entity(wikidata_entity_id=Q51746, wikipedia_entity_title=Luke Skywalker), 'PERSON'],\n",
       "  'type': 'member of',\n",
       "  'tail': ['Jedi Knight', Entity(wikidata_entity_id=Q51724, wikipedia_entity_title=Jedi), None]},\n",
       " {'head': ['Ben Kenobi', Entity(wikidata_entity_id=Q51740, wikipedia_entity_title=Obi-Wan Kenobi), None],\n",
       "  'type': 'member of',\n",
       "  'tail': ['Jedi Knight', Entity(wikidata_entity_id=Q51724, wikipedia_entity_title=Jedi), None]},\n",
       " {'head': ['Leia', Entity(wikidata_entity_id=Q51797, wikipedia_entity_title=Princess Leia), 'PERSON'],\n",
       "  'type': 'relative',\n",
       "  'tail': ['Luke Skywalker', Entity(wikidata_entity_id=Q51746, wikipedia_entity_title=Luke Skywalker), 'PERSON']},\n",
       " {'head': ['Jedis', Entity(wikidata_entity_id=Q51724, wikipedia_entity_title=Jedi), None],\n",
       "  'type': 'has part',\n",
       "  'tail': ['Beru Lars', Entity(wikidata_entity_id=Q51805, wikipedia_entity_title=List of Star Wars characters), None]},\n",
       " {'head': ['the Death Star', Entity(wikidata_entity_id=Q19907, wikipedia_entity_title=Death Star), None],\n",
       "  'type': 'owned by',\n",
       "  'tail': ['Galactic Empire', Entity(wikidata_entity_id=Q52347, wikipedia_entity_title=Galactic Empire (Star Wars)), None]},\n",
       " {'head': ['Mos Eisley', Entity(wikidata_entity_id=Q946074, wikipedia_entity_title=Mos Eisley), None],\n",
       "  'type': 'located on terrain feature',\n",
       "  'tail': ['Tatooine', Entity(wikidata_entity_id=Q723764, wikipedia_entity_title=Tatooine), None]},\n",
       " {'head': ['Death Star', Entity(wikidata_entity_id=Q19907, wikipedia_entity_title=Death Star), None],\n",
       "  'type': 'owned by',\n",
       "  'tail': ['Galactic Empire', Entity(wikidata_entity_id=Q52347, wikipedia_entity_title=Galactic Empire (Star Wars)), None]},\n",
       " {'head': ['Tarkin', Entity(wikidata_entity_id=Q51800, wikipedia_entity_title=Grand Moff Tarkin), 'PERSON'],\n",
       "  'type': 'member of',\n",
       "  'tail': ['Galactic Empire', Entity(wikidata_entity_id=Q52347, wikipedia_entity_title=Galactic Empire (Star Wars)), None]},\n",
       " {'head': ['Jedi', Entity(wikidata_entity_id=Q51724, wikipedia_entity_title=Jedi), None],\n",
       "  'type': 'has part',\n",
       "  'tail': ['Obi-Wan Kenobi', Entity(wikidata_entity_id=Q51740, wikipedia_entity_title=Obi-Wan Kenobi), None]},\n",
       " {'head': ['Luke', Entity(wikidata_entity_id=Q51746, wikipedia_entity_title=Luke Skywalker), 'PERSON'],\n",
       "  'type': 'relative',\n",
       "  'tail': ['Princess Leia', Entity(wikidata_entity_id=Q51797, wikipedia_entity_title=Princess Leia), 'PERSON']},\n",
       " {'head': ['Obi-Wan Kenobi', Entity(wikidata_entity_id=Q51740, wikipedia_entity_title=Obi-Wan Kenobi), None],\n",
       "  'type': 'member of',\n",
       "  'tail': ['Jedi Knight', Entity(wikidata_entity_id=Q51724, wikipedia_entity_title=Jedi), None]},\n",
       " {'head': ['the Millennium Falcon', Entity(wikidata_entity_id=Q19901, wikipedia_entity_title=Millennium Falcon), None],\n",
       "  'type': 'owned by',\n",
       "  'tail': ['Han Solo', Entity(wikidata_entity_id=Q51802, wikipedia_entity_title=Han Solo), 'PERSON']},\n",
       " {'head': ['Jawa', Entity(wikidata_entity_id=Q2994460), None],\n",
       "  'type': 'location',\n",
       "  'tail': ['Tatooine', Entity(wikidata_entity_id=Q723764, wikipedia_entity_title=Tatooine), None]},\n",
       " {'head': ['Rebels', Entity(wikidata_entity_id=Q52316, wikipedia_entity_title=Rebel Alliance), None],\n",
       "  'type': 'chairperson',\n",
       "  'tail': ['Princess Leia', Entity(wikidata_entity_id=Q51797, wikipedia_entity_title=Princess Leia), 'PERSON']},\n",
       " {'head': ['Obi-Wan', Entity(wikidata_entity_id=Q51740, wikipedia_entity_title=Obi-Wan Kenobi), None],\n",
       "  'type': 'member of',\n",
       "  'tail': ['Jedi Knight', Entity(wikidata_entity_id=Q51724, wikipedia_entity_title=Jedi), None]}]"
      ]
     },
     "execution_count": 10,
     "metadata": {},
     "output_type": "execute_result"
    }
   ],
   "source": [
    "triplets"
   ]
  },
  {
   "cell_type": "code",
   "execution_count": 11,
   "metadata": {},
   "outputs": [
    {
     "data": {
      "text/plain": [
       "[{'head': ['Rebels', Entity(wikidata_entity_id=Q52316, wikipedia_entity_title=Rebel Alliance), None],\n",
       "  'type': 'chairperson',\n",
       "  'tail': ['Han Solo', Entity(wikidata_entity_id=Q51802, wikipedia_entity_title=Han Solo), 'PERSON']},\n",
       " {'head': ['Rebel', Entity(wikidata_entity_id=Q52316, wikipedia_entity_title=Rebel Alliance), None],\n",
       "  'type': 'opposite of',\n",
       "  'tail': ['Galactic Empire', Entity(wikidata_entity_id=Q52347, wikipedia_entity_title=Galactic Empire (Star Wars)), None]},\n",
       " {'head': ['Luke Skywalker', Entity(wikidata_entity_id=Q51746, wikipedia_entity_title=Luke Skywalker), 'PERSON'],\n",
       "  'type': 'member of',\n",
       "  'tail': ['Jedi Knight', Entity(wikidata_entity_id=Q51724, wikipedia_entity_title=Jedi), None]},\n",
       " {'head': ['Darth Vader', Entity(wikidata_entity_id=Q12206942, wikipedia_entity_title=Darth Vader), None],\n",
       "  'type': 'member of',\n",
       "  'tail': ['Jedi Knight', Entity(wikidata_entity_id=Q51724, wikipedia_entity_title=Jedi), None]},\n",
       " {'head': ['Galactic Empire', Entity(wikidata_entity_id=Q52347, wikipedia_entity_title=Galactic Empire (Star Wars)), None],\n",
       "  'type': 'head of state',\n",
       "  'tail': ['Han Solo', Entity(wikidata_entity_id=Q51802, wikipedia_entity_title=Han Solo), 'PERSON']},\n",
       " {'head': ['Ben Kenobi', Entity(wikidata_entity_id=Q51740, wikipedia_entity_title=Obi-Wan Kenobi), None],\n",
       "  'type': 'member of',\n",
       "  'tail': ['Jedi Knight', Entity(wikidata_entity_id=Q51724, wikipedia_entity_title=Jedi), None]},\n",
       " {'head': ['Leia', Entity(wikidata_entity_id=Q51797, wikipedia_entity_title=Princess Leia), 'PERSON'],\n",
       "  'type': 'relative',\n",
       "  'tail': ['Luke Skywalker', Entity(wikidata_entity_id=Q51746, wikipedia_entity_title=Luke Skywalker), 'PERSON']},\n",
       " {'head': ['Galactic Empire', Entity(wikidata_entity_id=Q52347, wikipedia_entity_title=Galactic Empire (Star Wars)), None],\n",
       "  'type': 'head of state',\n",
       "  'tail': ['Chewbacca', Entity(wikidata_entity_id=Q51803, wikipedia_entity_title=Chewbacca), 'PERSON']},\n",
       " {'head': ['Jedis', Entity(wikidata_entity_id=Q51724, wikipedia_entity_title=Jedi), None],\n",
       "  'type': 'has part',\n",
       "  'tail': ['Beru Lars', Entity(wikidata_entity_id=Q51805, wikipedia_entity_title=List of Star Wars characters), None]},\n",
       " {'head': ['Galactic Empire', Entity(wikidata_entity_id=Q52347, wikipedia_entity_title=Galactic Empire (Star Wars)), None],\n",
       "  'type': 'head of state',\n",
       "  'tail': ['Luke Skywalker', Entity(wikidata_entity_id=Q51746, wikipedia_entity_title=Luke Skywalker), 'PERSON']},\n",
       " {'head': ['the Death Star', Entity(wikidata_entity_id=Q19907, wikipedia_entity_title=Death Star), None],\n",
       "  'type': 'owned by',\n",
       "  'tail': ['Galactic Empire', Entity(wikidata_entity_id=Q52347, wikipedia_entity_title=Galactic Empire (Star Wars)), None]},\n",
       " {'head': ['Mos Eisley', Entity(wikidata_entity_id=Q946074, wikipedia_entity_title=Mos Eisley), None],\n",
       "  'type': 'located on terrain feature',\n",
       "  'tail': ['Tatooine', Entity(wikidata_entity_id=Q723764, wikipedia_entity_title=Tatooine), None]},\n",
       " {'head': ['Death Star', Entity(wikidata_entity_id=Q19907, wikipedia_entity_title=Death Star), None],\n",
       "  'type': 'owned by',\n",
       "  'tail': ['Galactic Empire', Entity(wikidata_entity_id=Q52347, wikipedia_entity_title=Galactic Empire (Star Wars)), None]},\n",
       " {'head': ['Alliance', Entity(wikidata_entity_id=Q4732270, wikipedia_entity_title=Alliance (Firefly)), None],\n",
       "  'type': 'opposite of',\n",
       "  'tail': ['Galactic Empire', Entity(wikidata_entity_id=Q52347, wikipedia_entity_title=Galactic Empire (Star Wars)), None]},\n",
       " {'head': ['Tarkin', Entity(wikidata_entity_id=Q51800, wikipedia_entity_title=Grand Moff Tarkin), 'PERSON'],\n",
       "  'type': 'member of',\n",
       "  'tail': ['Galactic Empire', Entity(wikidata_entity_id=Q52347, wikipedia_entity_title=Galactic Empire (Star Wars)), None]},\n",
       " {'head': ['Rebels', Entity(wikidata_entity_id=Q52316, wikipedia_entity_title=Rebel Alliance), None],\n",
       "  'type': 'chairperson',\n",
       "  'tail': ['Chewbacca', Entity(wikidata_entity_id=Q51803, wikipedia_entity_title=Chewbacca), 'PERSON']},\n",
       " {'head': ['Jedi', Entity(wikidata_entity_id=Q51724, wikipedia_entity_title=Jedi), None],\n",
       "  'type': 'has part',\n",
       "  'tail': ['Obi-Wan Kenobi', Entity(wikidata_entity_id=Q51740, wikipedia_entity_title=Obi-Wan Kenobi), None]},\n",
       " {'head': ['Luke', Entity(wikidata_entity_id=Q51746, wikipedia_entity_title=Luke Skywalker), 'PERSON'],\n",
       "  'type': 'relative',\n",
       "  'tail': ['Princess Leia', Entity(wikidata_entity_id=Q51797, wikipedia_entity_title=Princess Leia), 'PERSON']},\n",
       " {'head': ['Obi-Wan Kenobi', Entity(wikidata_entity_id=Q51740, wikipedia_entity_title=Obi-Wan Kenobi), None],\n",
       "  'type': 'member of',\n",
       "  'tail': ['Jedi Knight', Entity(wikidata_entity_id=Q51724, wikipedia_entity_title=Jedi), None]},\n",
       " {'head': ['the Millennium Falcon', Entity(wikidata_entity_id=Q19901, wikipedia_entity_title=Millennium Falcon), None],\n",
       "  'type': 'owned by',\n",
       "  'tail': ['Han Solo', Entity(wikidata_entity_id=Q51802, wikipedia_entity_title=Han Solo), 'PERSON']},\n",
       " {'head': ['Jawa', Entity(wikidata_entity_id=Q2994460), None],\n",
       "  'type': 'location',\n",
       "  'tail': ['Tatooine', Entity(wikidata_entity_id=Q723764, wikipedia_entity_title=Tatooine), None]},\n",
       " {'head': ['Rebels', Entity(wikidata_entity_id=Q52316, wikipedia_entity_title=Rebel Alliance), None],\n",
       "  'type': 'chairperson',\n",
       "  'tail': ['Princess Leia', Entity(wikidata_entity_id=Q51797, wikipedia_entity_title=Princess Leia), 'PERSON']},\n",
       " {'head': ['Obi-Wan', Entity(wikidata_entity_id=Q51740, wikipedia_entity_title=Obi-Wan Kenobi), None],\n",
       "  'type': 'member of',\n",
       "  'tail': ['Jedi Knight', Entity(wikidata_entity_id=Q51724, wikipedia_entity_title=Jedi), None]}]"
      ]
     },
     "execution_count": 11,
     "metadata": {},
     "output_type": "execute_result"
    }
   ],
   "source": [
    "triplets_base_er"
   ]
  },
  {
   "cell_type": "code",
   "execution_count": 12,
   "metadata": {},
   "outputs": [
    {
     "data": {
      "text/plain": [
       "[['Rebels', Entity(wikidata_entity_id=Q52316, wikipedia_entity_title=Rebel Alliance), None],\n",
       " ['Darth Vader', Entity(wikidata_entity_id=Q12206942, wikipedia_entity_title=Darth Vader), None],\n",
       " ['Imperial', Entity(wikidata_entity_id=Q52347, wikipedia_entity_title=Galactic Empire (Star Wars)), None],\n",
       " ['Galactic Empire', Entity(wikidata_entity_id=Q52347, wikipedia_entity_title=Galactic Empire (Star Wars)), None],\n",
       " ['Princess Leia', Entity(wikidata_entity_id=Q51797, wikipedia_entity_title=Princess Leia), 'PERSON'],\n",
       " ['Rebel', Entity(wikidata_entity_id=Q52316, wikipedia_entity_title=Rebel Alliance), None],\n",
       " ['Alliance', Entity(wikidata_entity_id=Q4732270, wikipedia_entity_title=Alliance (Firefly)), None],\n",
       " ['Death Star', Entity(wikidata_entity_id=Q19907, wikipedia_entity_title=Death Star), None],\n",
       " ['R2-D2', Entity(wikidata_entity_id=Q51788, wikipedia_entity_title=R2-D2), 'PERSON'],\n",
       " ['C-3PO', Entity(wikidata_entity_id=Q51787, wikipedia_entity_title=C-3PO), None],\n",
       " ['Tatooine', Entity(wikidata_entity_id=Q723764, wikipedia_entity_title=Tatooine), None],\n",
       " ['Jawa', Entity(wikidata_entity_id=Q2994460), None],\n",
       " ['Beru Lars', Entity(wikidata_entity_id=Q51805, wikipedia_entity_title=List of Star Wars characters), None],\n",
       " ['Luke Skywalker', Entity(wikidata_entity_id=Q51746, wikipedia_entity_title=Luke Skywalker), 'PERSON'],\n",
       " ['Luke', Entity(wikidata_entity_id=Q51746, wikipedia_entity_title=Luke Skywalker), 'PERSON'],\n",
       " ['Obi-Wan Kenobi', Entity(wikidata_entity_id=Q51740, wikipedia_entity_title=Obi-Wan Kenobi), None],\n",
       " ['Ben Kenobi', Entity(wikidata_entity_id=Q51740, wikipedia_entity_title=Obi-Wan Kenobi), None],\n",
       " ['Obi-Wan', Entity(wikidata_entity_id=Q51740, wikipedia_entity_title=Obi-Wan Kenobi), None],\n",
       " ['Jedi', Entity(wikidata_entity_id=Q51724, wikipedia_entity_title=Jedi), None],\n",
       " ['Jedis', Entity(wikidata_entity_id=Q51724, wikipedia_entity_title=Jedi), None],\n",
       " ['Empire', Entity(wikidata_entity_id=Q52347, wikipedia_entity_title=Galactic Empire (Star Wars)), None],\n",
       " ['Leia', Entity(wikidata_entity_id=Q51797, wikipedia_entity_title=Princess Leia), 'PERSON'],\n",
       " ['Alderaan', Entity(wikidata_entity_id=Q752192, wikipedia_entity_title=Alderaan), None],\n",
       " ['Mos Eisley', Entity(wikidata_entity_id=Q946074, wikipedia_entity_title=Mos Eisley), None],\n",
       " ['Han Solo', Entity(wikidata_entity_id=Q51802, wikipedia_entity_title=Han Solo), 'PERSON'],\n",
       " ['Chewbacca', Entity(wikidata_entity_id=Q51803, wikipedia_entity_title=Chewbacca), 'PERSON'],\n",
       " ['Millennium Falcon', Entity(wikidata_entity_id=Q19901, wikipedia_entity_title=Millennium Falcon), None],\n",
       " ['Tarkin', Entity(wikidata_entity_id=Q51800, wikipedia_entity_title=Grand Moff Tarkin), 'PERSON'],\n",
       " ['the Death Star', Entity(wikidata_entity_id=Q19907, wikipedia_entity_title=Death Star), None],\n",
       " ['the Millennium Falcon', Entity(wikidata_entity_id=Q19901, wikipedia_entity_title=Millennium Falcon), None],\n",
       " ['Jedi Knight', Entity(wikidata_entity_id=Q51724, wikipedia_entity_title=Jedi), None]]"
      ]
     },
     "execution_count": 12,
     "metadata": {},
     "output_type": "execute_result"
    }
   ],
   "source": [
    "spans"
   ]
  },
  {
   "cell_type": "code",
   "execution_count": 12,
   "metadata": {},
   "outputs": [
    {
     "name": "stdout",
     "output_type": "stream",
     "text": [
      "Relationships with no verification:  31\n",
      "Relationships with verification:  30\n"
     ]
    }
   ],
   "source": [
    "spans,triplets,spans_el_base,spans_re,triplets_base,triplets_base_er = builder.build_graph(\n",
    "\"\"\"\n",
    "The Lord of the Rings, fantasy novel by J.R.R. Tolkien initially published in three parts as The Fellowship of the Ring (1954), The Two Towers (1955), and The Return of the King (1955). The novel, set in the Third Age of Middle-earth, formed a sequel to Tolkien’s The Hobbit (1937) and was succeeded by his posthumous The Silmarillion (1977). The Lord of the Rings is the saga of a group of sometimes reluctant heroes who set forth to save their world from consummate evil. Its many worlds and creatures were drawn from Tolkien’s extensive knowledge of philology and folklore.\n",
    "\n",
    "At 33, the age of adulthood among hobbits, Frodo Baggins receives a magic Ring of Invisibility from his uncle Bilbo. Frodo, a Christlike figure, learns that the ring has the power to control the entire world and, he discovers, to corrupt its owner. A fellowship of hobbits, elves, dwarfs, and men is formed to destroy the ring by casting it into the volcanic fires of the Crack of Doom, where it was forged. They are opposed on their harrowing mission by the evil Sauron and his Black Riders.\n",
    "\"\"\")"
   ]
  },
  {
   "cell_type": "code",
   "execution_count": 13,
   "metadata": {},
   "outputs": [
    {
     "data": {
      "text/plain": [
       "[{'head': ['The Lord of the Rings', Entity(wikidata_entity_id=Q15228, wikipedia_entity_title=The Lord of the Rings), 'WORK_OF_ART'],\n",
       "  'type': 'has part',\n",
       "  'tail': ['The Two Towers', Entity(wikidata_entity_id=Q332388, wikipedia_entity_title=The Two Towers), 'WORK_OF_ART']},\n",
       " {'head': ['The Fellowship of the Ring', Entity(wikidata_entity_id=Q208002, wikipedia_entity_title=The Fellowship of the Ring), 'WORK_OF_ART'],\n",
       "  'type': 'part of the series',\n",
       "  'tail': ['The Lord of the Rings', Entity(wikidata_entity_id=Q15228, wikipedia_entity_title=The Lord of the Rings), 'WORK_OF_ART']},\n",
       " {'head': ['The Lord of the Rings', Entity(wikidata_entity_id=Q15228, wikipedia_entity_title=The Lord of the Rings), 'WORK_OF_ART'],\n",
       "  'type': 'has part',\n",
       "  'tail': ['The Return of the King', Entity(wikidata_entity_id=Q332581, wikipedia_entity_title=The Return of the King), 'WORK_OF_ART']},\n",
       " {'head': ['The Lord of the Rings', Entity(wikidata_entity_id=Q15228, wikipedia_entity_title=The Lord of the Rings), 'WORK_OF_ART'],\n",
       "  'type': 'has part',\n",
       "  'tail': ['The Fellowship of the Ring', Entity(wikidata_entity_id=Q208002, wikipedia_entity_title=The Fellowship of the Ring), 'WORK_OF_ART']},\n",
       " {'head': ['The Lord of the Rings', Entity(wikidata_entity_id=Q15228, wikipedia_entity_title=The Lord of the Rings), 'WORK_OF_ART'],\n",
       "  'type': 'has part',\n",
       "  'tail': ['The Silmarillion', Entity(wikidata_entity_id=Q79762, wikipedia_entity_title=The Silmarillion), 'WORK_OF_ART']},\n",
       " {'head': ['The Two Towers', Entity(wikidata_entity_id=Q332388, wikipedia_entity_title=The Two Towers), 'WORK_OF_ART'],\n",
       "  'type': 'part of the series',\n",
       "  'tail': ['The Lord of the Rings', Entity(wikidata_entity_id=Q15228, wikipedia_entity_title=The Lord of the Rings), 'WORK_OF_ART']},\n",
       " {'head': ['The Return of the King', Entity(wikidata_entity_id=Q332581, wikipedia_entity_title=The Return of the King), 'WORK_OF_ART'],\n",
       "  'type': 'part of the series',\n",
       "  'tail': ['The Lord of the Rings', Entity(wikidata_entity_id=Q15228, wikipedia_entity_title=The Lord of the Rings), 'WORK_OF_ART']},\n",
       " {'head': ['Sauron', Entity(wikidata_entity_id=Q2281, wikipedia_entity_title=Sauron), 'PERSON'],\n",
       "  'type': 'present in work',\n",
       "  'tail': ['The Silmarillion', Entity(wikidata_entity_id=Q79762, wikipedia_entity_title=The Silmarillion), 'WORK_OF_ART']},\n",
       " {'head': ['Frodo', Entity(wikidata_entity_id=Q177329, wikipedia_entity_title=Frodo Baggins), None],\n",
       "  'type': 'present in work',\n",
       "  'tail': ['The Two Towers', Entity(wikidata_entity_id=Q332388, wikipedia_entity_title=The Two Towers), 'WORK_OF_ART']},\n",
       " {'head': ['Bilbo', Entity(wikidata_entity_id=Q185737, wikipedia_entity_title=Bilbo Baggins), None],\n",
       "  'type': 'present in work',\n",
       "  'tail': ['The Return of the King', Entity(wikidata_entity_id=Q332581, wikipedia_entity_title=The Return of the King), 'WORK_OF_ART']},\n",
       " {'head': ['fantasy', Entity(wikidata_entity_id=Q132311, wikipedia_entity_title=Fantasy), None],\n",
       "  'type': 'has part',\n",
       "  'tail': ['The Lord of the Rings', Entity(wikidata_entity_id=Q15228, wikipedia_entity_title=The Lord of the Rings), 'WORK_OF_ART']},\n",
       " {'head': ['J.R.R. Tolkien', Entity(wikidata_entity_id=Q892, wikipedia_entity_title=J. R. R. Tolkien), 'PERSON'],\n",
       "  'type': 'notable work',\n",
       "  'tail': ['The Silmarillion', Entity(wikidata_entity_id=Q79762, wikipedia_entity_title=The Silmarillion), 'WORK_OF_ART']},\n",
       " {'head': ['Sauron', Entity(wikidata_entity_id=Q2281, wikipedia_entity_title=Sauron), 'PERSON'],\n",
       "  'type': 'present in work',\n",
       "  'tail': ['The Lord of the Rings', Entity(wikidata_entity_id=Q15228, wikipedia_entity_title=The Lord of the Rings), 'WORK_OF_ART']},\n",
       " {'head': ['Black Riders', Entity(wikidata_entity_id=Q308661, wikipedia_entity_title=Nazgûl), None],\n",
       "  'type': 'present in work',\n",
       "  'tail': ['The Lord of the Rings', Entity(wikidata_entity_id=Q15228, wikipedia_entity_title=The Lord of the Rings), 'WORK_OF_ART']},\n",
       " {'head': ['Tolkien', Entity(wikidata_entity_id=Q892, wikipedia_entity_title=J. R. R. Tolkien), 'PERSON'],\n",
       "  'type': 'notable work',\n",
       "  'tail': ['The Silmarillion', Entity(wikidata_entity_id=Q79762, wikipedia_entity_title=The Silmarillion), 'WORK_OF_ART']},\n",
       " {'head': ['Frodo Baggins', Entity(wikidata_entity_id=Q177329, wikipedia_entity_title=Frodo Baggins), None],\n",
       "  'type': 'present in work',\n",
       "  'tail': ['The Two Towers', Entity(wikidata_entity_id=Q332388, wikipedia_entity_title=The Two Towers), 'WORK_OF_ART']},\n",
       " {'head': ['Frodo', Entity(wikidata_entity_id=Q177329, wikipedia_entity_title=Frodo Baggins), None],\n",
       "  'type': 'present in work',\n",
       "  'tail': ['The Return of the King', Entity(wikidata_entity_id=Q332581, wikipedia_entity_title=The Return of the King), 'WORK_OF_ART']},\n",
       " {'head': ['Bilbo', Entity(wikidata_entity_id=Q185737, wikipedia_entity_title=Bilbo Baggins), None],\n",
       "  'type': 'present in work',\n",
       "  'tail': ['The Two Towers', Entity(wikidata_entity_id=Q332388, wikipedia_entity_title=The Two Towers), 'WORK_OF_ART']},\n",
       " {'head': ['J.R.R. Tolkien', Entity(wikidata_entity_id=Q892, wikipedia_entity_title=J. R. R. Tolkien), 'PERSON'],\n",
       "  'type': 'notable work',\n",
       "  'tail': ['The Return of the King', Entity(wikidata_entity_id=Q332581, wikipedia_entity_title=The Return of the King), 'WORK_OF_ART']},\n",
       " {'head': ['Frodo Baggins', Entity(wikidata_entity_id=Q177329, wikipedia_entity_title=Frodo Baggins), None],\n",
       "  'type': 'present in work',\n",
       "  'tail': ['The Return of the King', Entity(wikidata_entity_id=Q332581, wikipedia_entity_title=The Return of the King), 'WORK_OF_ART']},\n",
       " {'head': ['Tolkien', Entity(wikidata_entity_id=Q892, wikipedia_entity_title=J. R. R. Tolkien), 'PERSON'],\n",
       "  'type': 'notable work',\n",
       "  'tail': ['The Fellowship of the Ring', Entity(wikidata_entity_id=Q208002, wikipedia_entity_title=The Fellowship of the Ring), 'WORK_OF_ART']},\n",
       " {'head': ['fantasy', Entity(wikidata_entity_id=Q132311, wikipedia_entity_title=Fantasy), None],\n",
       "  'type': 'has part',\n",
       "  'tail': ['The Silmarillion', Entity(wikidata_entity_id=Q79762, wikipedia_entity_title=The Silmarillion), 'WORK_OF_ART']},\n",
       " {'head': ['Crack of Doom', Entity(wikidata_entity_id=Q982944, wikipedia_entity_title=Mount Doom), None],\n",
       "  'type': 'present in work',\n",
       "  'tail': ['The Lord of the Rings', Entity(wikidata_entity_id=Q15228, wikipedia_entity_title=The Lord of the Rings), 'WORK_OF_ART']},\n",
       " {'head': ['Tolkien', Entity(wikidata_entity_id=Q892, wikipedia_entity_title=J. R. R. Tolkien), 'PERSON'],\n",
       "  'type': 'notable work',\n",
       "  'tail': ['The Two Towers', Entity(wikidata_entity_id=Q332388, wikipedia_entity_title=The Two Towers), 'WORK_OF_ART']},\n",
       " {'head': ['J.R.R. Tolkien', Entity(wikidata_entity_id=Q892, wikipedia_entity_title=J. R. R. Tolkien), 'PERSON'],\n",
       "  'type': 'notable work',\n",
       "  'tail': ['The Two Towers', Entity(wikidata_entity_id=Q332388, wikipedia_entity_title=The Two Towers), 'WORK_OF_ART']},\n",
       " {'head': ['Tolkien', Entity(wikidata_entity_id=Q892, wikipedia_entity_title=J. R. R. Tolkien), 'PERSON'],\n",
       "  'type': 'notable work',\n",
       "  'tail': ['The Return of the King', Entity(wikidata_entity_id=Q332581, wikipedia_entity_title=The Return of the King), 'WORK_OF_ART']},\n",
       " {'head': ['J.R.R. Tolkien', Entity(wikidata_entity_id=Q892, wikipedia_entity_title=J. R. R. Tolkien), 'PERSON'],\n",
       "  'type': 'notable work',\n",
       "  'tail': ['The Fellowship of the Ring', Entity(wikidata_entity_id=Q208002, wikipedia_entity_title=The Fellowship of the Ring), 'WORK_OF_ART']},\n",
       " {'head': ['Frodo Baggins', Entity(wikidata_entity_id=Q177329, wikipedia_entity_title=Frodo Baggins), None],\n",
       "  'type': 'present in work',\n",
       "  'tail': ['The Fellowship of the Ring', Entity(wikidata_entity_id=Q208002, wikipedia_entity_title=The Fellowship of the Ring), 'WORK_OF_ART']},\n",
       " {'head': ['Bilbo', Entity(wikidata_entity_id=Q185737, wikipedia_entity_title=Bilbo Baggins), None],\n",
       "  'type': 'present in work',\n",
       "  'tail': ['The Fellowship of the Ring', Entity(wikidata_entity_id=Q208002, wikipedia_entity_title=The Fellowship of the Ring), 'WORK_OF_ART']},\n",
       " {'head': ['Frodo', Entity(wikidata_entity_id=Q177329, wikipedia_entity_title=Frodo Baggins), None],\n",
       "  'type': 'present in work',\n",
       "  'tail': ['The Fellowship of the Ring', Entity(wikidata_entity_id=Q208002, wikipedia_entity_title=The Fellowship of the Ring), 'WORK_OF_ART']}]"
      ]
     },
     "execution_count": 13,
     "metadata": {},
     "output_type": "execute_result"
    }
   ],
   "source": [
    "triplets"
   ]
  },
  {
   "cell_type": "code",
   "execution_count": 14,
   "metadata": {},
   "outputs": [
    {
     "name": "stdout",
     "output_type": "stream",
     "text": [
      "Relationships with no verification:  5\n",
      "Relationships with verification:  4\n"
     ]
    }
   ],
   "source": [
    "spans,triplets,spans_el_base,spans_re,triplets_base,triplets_base_er = builder.build_graph(\n",
    "\"\"\"\n",
    "Apple is a technology company. It founded by Steve Jobs and Steve Wozniak. The headquarters is in Cupertino California.\n",
    "\"\"\"\n",
    ")"
   ]
  },
  {
   "cell_type": "code",
   "execution_count": 25,
   "metadata": {},
   "outputs": [
    {
     "name": "stdout",
     "output_type": "stream",
     "text": [
      "Relationships with no verification:  10\n",
      "Relationships with verification:  10\n"
     ]
    }
   ],
   "source": [
    "spans,triplets,spans_el_base,spans_re,triplets_base,triplets_base_er = builder.build_graph(\n",
    "    \"Real Madrid, one of the most iconic football clubs in the world, was founded in 1902 in Madrid, Spain. Known for their distinctive all-white kits, Los Blancos have a rich history marked by numerous domestic and international titles. They have won a record 14 UEFA Champions League titles, showcasing their dominance in European football. Legendary players like Alfredo Di Stéfano, Cristiano Ronaldo, and Zinedine Zidane have donned the Real Madrid jersey, contributing to their global fanbase. The club's home ground, Santiago Bernabéu Stadium, is a fortress renowned for its electric atmosphere. Real Madrid continues to be a symbol of excellence and ambition in football.\"\n",
    ")"
   ]
  },
  {
   "cell_type": "code",
   "execution_count": 26,
   "metadata": {},
   "outputs": [
    {
     "data": {
      "text/plain": [
       "[['Real Madrid', Entity(wikidata_entity_id=Q8682, wikipedia_entity_title=Real Madrid CF), 'ORG'],\n",
       " ['Madrid', Entity(wikidata_entity_id=Q2807, wikipedia_entity_title=Madrid), 'ORG'],\n",
       " ['Spain', Entity(wikidata_entity_id=Q29, wikipedia_entity_title=Spain), 'GPE'],\n",
       " ['Los Blancos', Entity(wikidata_entity_id=Q8682, wikipedia_entity_title=Real Madrid CF), 'ORG'],\n",
       " ['UEFA Champions League', Entity(wikidata_entity_id=Q18756, wikipedia_entity_title=UEFA Champions League), 'EVENT'],\n",
       " ['Alfredo Di Stéfano', Entity(wikidata_entity_id=Q164546, wikipedia_entity_title=Alfredo Di Stéfano), 'PERSON'],\n",
       " ['Cristiano Ronaldo', Entity(wikidata_entity_id=Q11571, wikipedia_entity_title=Cristiano Ronaldo), 'PERSON'],\n",
       " ['Zinedine Zidane', Entity(wikidata_entity_id=Q1835, wikipedia_entity_title=Zinedine Zidane), 'PERSON'],\n",
       " ['Santiago Bernabéu Stadium', Entity(wikidata_entity_id=Q164027, wikipedia_entity_title=Santiago Bernabéu Stadium), 'FAC']]"
      ]
     },
     "execution_count": 26,
     "metadata": {},
     "output_type": "execute_result"
    }
   ],
   "source": [
    "spans"
   ]
  },
  {
   "cell_type": "code",
   "execution_count": 27,
   "metadata": {},
   "outputs": [
    {
     "data": {
      "text/plain": [
       "[{'head': ['Real Madrid', Entity(wikidata_entity_id=Q8682, wikipedia_entity_title=Real Madrid CF), 'ORG'],\n",
       "  'type': 'headquarters location',\n",
       "  'tail': ['Madrid', Entity(wikidata_entity_id=Q2807, wikipedia_entity_title=Madrid), 'ORG']},\n",
       " {'head': ['Real Madrid', Entity(wikidata_entity_id=Q8682, wikipedia_entity_title=Real Madrid CF), 'ORG'],\n",
       "  'type': 'home venue',\n",
       "  'tail': ['Santiago Bernabéu Stadium', Entity(wikidata_entity_id=Q164027, wikipedia_entity_title=Santiago Bernabéu Stadium), 'FAC']},\n",
       " {'head': ['Santiago Bernabéu Stadium', Entity(wikidata_entity_id=Q164027, wikipedia_entity_title=Santiago Bernabéu Stadium), 'FAC'],\n",
       "  'type': 'occupant',\n",
       "  'tail': ['Real Madrid', Entity(wikidata_entity_id=Q8682, wikipedia_entity_title=Real Madrid CF), 'ORG']},\n",
       " {'head': ['Los Blancos', Entity(wikidata_entity_id=Q8682, wikipedia_entity_title=Real Madrid CF), 'ORG'],\n",
       "  'type': 'location of formation',\n",
       "  'tail': ['Madrid', Entity(wikidata_entity_id=Q2807, wikipedia_entity_title=Madrid), 'ORG']},\n",
       " {'head': ['UEFA Champions League', Entity(wikidata_entity_id=Q18756, wikipedia_entity_title=UEFA Champions League), 'EVENT'],\n",
       "  'type': 'winner',\n",
       "  'tail': ['Real Madrid', Entity(wikidata_entity_id=Q8682, wikipedia_entity_title=Real Madrid CF), 'ORG']},\n",
       " {'head': ['Zinedine Zidane', Entity(wikidata_entity_id=Q1835, wikipedia_entity_title=Zinedine Zidane), 'PERSON'],\n",
       "  'type': 'member of sports team',\n",
       "  'tail': ['Real Madrid', Entity(wikidata_entity_id=Q8682, wikipedia_entity_title=Real Madrid CF), 'ORG']},\n",
       " {'head': ['Spain', Entity(wikidata_entity_id=Q29, wikipedia_entity_title=Spain), 'GPE'],\n",
       "  'type': 'capital',\n",
       "  'tail': ['Madrid', Entity(wikidata_entity_id=Q2807, wikipedia_entity_title=Madrid), 'ORG']},\n",
       " {'head': ['Cristiano Ronaldo', Entity(wikidata_entity_id=Q11571, wikipedia_entity_title=Cristiano Ronaldo), 'PERSON'],\n",
       "  'type': 'member of sports team',\n",
       "  'tail': ['Real Madrid', Entity(wikidata_entity_id=Q8682, wikipedia_entity_title=Real Madrid CF), 'ORG']},\n",
       " {'head': ['Los Blancos', Entity(wikidata_entity_id=Q8682, wikipedia_entity_title=Real Madrid CF), 'ORG'],\n",
       "  'type': 'home venue',\n",
       "  'tail': ['Santiago Bernabéu Stadium', Entity(wikidata_entity_id=Q164027, wikipedia_entity_title=Santiago Bernabéu Stadium), 'FAC']},\n",
       " {'head': ['Alfredo Di Stéfano', Entity(wikidata_entity_id=Q164546, wikipedia_entity_title=Alfredo Di Stéfano), 'PERSON'],\n",
       "  'type': 'member of sports team',\n",
       "  'tail': ['Real Madrid', Entity(wikidata_entity_id=Q8682, wikipedia_entity_title=Real Madrid CF), 'ORG']}]"
      ]
     },
     "execution_count": 27,
     "metadata": {},
     "output_type": "execute_result"
    }
   ],
   "source": [
    "triplets"
   ]
  },
  {
   "cell_type": "code",
   "execution_count": 17,
   "metadata": {},
   "outputs": [
    {
     "name": "stdout",
     "output_type": "stream",
     "text": [
      "Relationships with no verification:  2\n",
      "Relationships with verification:  1\n"
     ]
    }
   ],
   "source": [
    "spans,triplets,spans_el_base,spans_re,triplets_base,triplets_base_er = builder.build_graph(\n",
    "\"Formula 1: Drive to Survive is a television documentary series produced in a collaboration between Netflix and Formula One, to give a behind-the-scenes look at the drivers and races of the Formula One World Championship. The series has received one season per year since 2019, and a total of six seasons have been released, with the latest season aired on 23 February 2024. A crossover event with Full Swing broadcast on Netflix in November 2023 called The Netflix Cup.\"\n",
    ")"
   ]
  },
  {
   "cell_type": "code",
   "execution_count": 23,
   "metadata": {},
   "outputs": [
    {
     "data": {
      "text/plain": [
       "[{'head': ['Formula 1: Drive to Survive', Entity(wikidata_entity_id=Q62002541, wikipedia_entity_title=Formula 1: Drive to Survive), 'WORK_OF_ART'],\n",
       "  'type': 'original broadcaster',\n",
       "  'tail': ['Netflix', Entity(wikidata_entity_id=Q907311, wikipedia_entity_title=Netflix), 'FAC']}]"
      ]
     },
     "execution_count": 23,
     "metadata": {},
     "output_type": "execute_result"
    }
   ],
   "source": [
    "triplets"
   ]
  },
  {
   "cell_type": "code",
   "execution_count": 14,
   "metadata": {},
   "outputs": [
    {
     "data": {
      "text/plain": [
       "{'head': ['California', Entity(wikidata_entity_id=Q99, wikipedia_entity_title=California), 'GPE'],\n",
       " 'type': 'capital',\n",
       " 'tail': ['Cupertino', Entity(wikidata_entity_id=Q189471, wikipedia_entity_title=Cupertino, California), 'ORG']}"
      ]
     },
     "execution_count": 14,
     "metadata": {},
     "output_type": "execute_result"
    }
   ],
   "source": [
    "triplets[4]"
   ]
  },
  {
   "cell_type": "code",
   "execution_count": 22,
   "metadata": {},
   "outputs": [
    {
     "data": {
      "text/plain": [
       "0.5086"
      ]
     },
     "execution_count": 22,
     "metadata": {},
     "output_type": "execute_result"
    }
   ],
   "source": [
    "spans_re[4].entity_linking_model_confidence_score"
   ]
  },
  {
   "cell_type": "code",
   "execution_count": 17,
   "metadata": {},
   "outputs": [
    {
     "data": {
      "text/plain": [
       "[{'head': ['The Return of the King', Entity(wikidata_entity_id=Q332581, wikipedia_entity_title=The Return of the King), 'WORK_OF_ART'],\n",
       "  'type': 'part of the series',\n",
       "  'tail': ['The Lord of the Rings', Entity(wikidata_entity_id=Q15228, wikipedia_entity_title=The Lord of the Rings), 'WORK_OF_ART']},\n",
       " {'head': ['The Two Towers', Entity(wikidata_entity_id=Q332388, wikipedia_entity_title=The Two Towers), 'WORK_OF_ART'],\n",
       "  'type': 'part of the series',\n",
       "  'tail': ['The Lord of the Rings', Entity(wikidata_entity_id=Q15228, wikipedia_entity_title=The Lord of the Rings), 'WORK_OF_ART']},\n",
       " {'head': ['The Lord of the Rings', Entity(wikidata_entity_id=Q15228, wikipedia_entity_title=The Lord of the Rings), 'WORK_OF_ART'],\n",
       "  'type': 'has part',\n",
       "  'tail': ['The Two Towers', Entity(wikidata_entity_id=Q332388, wikipedia_entity_title=The Two Towers), 'WORK_OF_ART']},\n",
       " {'head': ['The Lord of the Rings', Entity(wikidata_entity_id=Q15228, wikipedia_entity_title=The Lord of the Rings), 'WORK_OF_ART'],\n",
       "  'type': 'has part',\n",
       "  'tail': ['The Fellowship of the Ring', Entity(wikidata_entity_id=Q208002, wikipedia_entity_title=The Fellowship of the Ring), 'WORK_OF_ART']},\n",
       " {'head': ['The Lord of the Rings', Entity(wikidata_entity_id=Q15228, wikipedia_entity_title=The Lord of the Rings), 'WORK_OF_ART'],\n",
       "  'type': 'has part',\n",
       "  'tail': ['The Return of the King', Entity(wikidata_entity_id=Q332581, wikipedia_entity_title=The Return of the King), 'WORK_OF_ART']},\n",
       " {'head': ['The Fellowship of the Ring', Entity(wikidata_entity_id=Q208002, wikipedia_entity_title=The Fellowship of the Ring), 'WORK_OF_ART'],\n",
       "  'type': 'part of the series',\n",
       "  'tail': ['The Lord of the Rings', Entity(wikidata_entity_id=Q15228, wikipedia_entity_title=The Lord of the Rings), 'WORK_OF_ART']},\n",
       " {'head': ['The Lord of the Rings', Entity(wikidata_entity_id=Q15228, wikipedia_entity_title=The Lord of the Rings), 'WORK_OF_ART'],\n",
       "  'type': 'has part',\n",
       "  'tail': ['The Silmarillion', Entity(wikidata_entity_id=Q79762, wikipedia_entity_title=The Silmarillion), 'WORK_OF_ART']},\n",
       " {'head': ['The Lord of the Rings', Entity(wikidata_entity_id=Q15228, wikipedia_entity_title=The Lord of the Rings), 'WORK_OF_ART'],\n",
       "  'type': 'follows',\n",
       "  'tail': 'The Hobbit'}]"
      ]
     },
     "execution_count": 17,
     "metadata": {},
     "output_type": "execute_result"
    }
   ],
   "source": [
    "triplets_base"
   ]
  },
  {
   "cell_type": "code",
   "execution_count": 16,
   "metadata": {},
   "outputs": [
    {
     "data": {
      "text/plain": [
       "[['The Lord of the Rings', Entity(wikidata_entity_id=Q15228, wikipedia_entity_title=The Lord of the Rings), 'WORK_OF_ART'],\n",
       " ['fantasy', Entity(wikidata_entity_id=Q132311, wikipedia_entity_title=Fantasy), None],\n",
       " ['J.R.R. Tolkien', Entity(wikidata_entity_id=Q892, wikipedia_entity_title=J. R. R. Tolkien), 'PERSON'],\n",
       " ['The Fellowship of the Ring', Entity(wikidata_entity_id=Q208002, wikipedia_entity_title=The Fellowship of the Ring), 'WORK_OF_ART'],\n",
       " ['The Two Towers', Entity(wikidata_entity_id=Q332388, wikipedia_entity_title=The Two Towers), 'WORK_OF_ART'],\n",
       " ['The Return of the King', Entity(wikidata_entity_id=Q332581, wikipedia_entity_title=The Return of the King), 'WORK_OF_ART'],\n",
       " ['Tolkien', Entity(wikidata_entity_id=Q892, wikipedia_entity_title=J. R. R. Tolkien), 'PERSON'],\n",
       " ['The Silmarillion', Entity(wikidata_entity_id=Q79762, wikipedia_entity_title=The Silmarillion), 'WORK_OF_ART'],\n",
       " ['philology', Entity(wikidata_entity_id=Q40634, wikipedia_entity_title=Philology), None],\n",
       " ['Frodo Baggins', Entity(wikidata_entity_id=Q177329, wikipedia_entity_title=Frodo Baggins), None],\n",
       " ['Bilbo', Entity(wikidata_entity_id=Q185737, wikipedia_entity_title=Bilbo Baggins), None],\n",
       " ['Frodo', Entity(wikidata_entity_id=Q177329, wikipedia_entity_title=Frodo Baggins), None],\n",
       " ['Crack of Doom', Entity(wikidata_entity_id=Q982944, wikipedia_entity_title=Mount Doom), None],\n",
       " ['Sauron', Entity(wikidata_entity_id=Q2281, wikipedia_entity_title=Sauron), 'PERSON'],\n",
       " ['Black Riders', Entity(wikidata_entity_id=Q308661, wikipedia_entity_title=Nazgûl), None]]"
      ]
     },
     "execution_count": 16,
     "metadata": {},
     "output_type": "execute_result"
    }
   ],
   "source": [
    "spans"
   ]
  },
  {
   "cell_type": "code",
   "execution_count": 15,
   "metadata": {},
   "outputs": [
    {
     "data": {
      "text/plain": [
       "[{'head': ['The Return of the King', Entity(wikidata_entity_id=Q332581, wikipedia_entity_title=The Return of the King), 'WORK_OF_ART'],\n",
       "  'type': 'part of the series',\n",
       "  'tail': ['The Lord of the Rings', Entity(wikidata_entity_id=Q15228, wikipedia_entity_title=The Lord of the Rings), 'WORK_OF_ART']},\n",
       " {'head': ['The Two Towers', Entity(wikidata_entity_id=Q332388, wikipedia_entity_title=The Two Towers), 'WORK_OF_ART'],\n",
       "  'type': 'part of the series',\n",
       "  'tail': ['The Lord of the Rings', Entity(wikidata_entity_id=Q15228, wikipedia_entity_title=The Lord of the Rings), 'WORK_OF_ART']},\n",
       " {'head': ['The Lord of the Rings', Entity(wikidata_entity_id=Q15228, wikipedia_entity_title=The Lord of the Rings), 'WORK_OF_ART'],\n",
       "  'type': 'has part',\n",
       "  'tail': ['The Two Towers', Entity(wikidata_entity_id=Q332388, wikipedia_entity_title=The Two Towers), 'WORK_OF_ART']},\n",
       " {'head': ['The Lord of the Rings', Entity(wikidata_entity_id=Q15228, wikipedia_entity_title=The Lord of the Rings), 'WORK_OF_ART'],\n",
       "  'type': 'has part',\n",
       "  'tail': ['The Fellowship of the Ring', Entity(wikidata_entity_id=Q208002, wikipedia_entity_title=The Fellowship of the Ring), 'WORK_OF_ART']},\n",
       " {'head': ['The Lord of the Rings', Entity(wikidata_entity_id=Q15228, wikipedia_entity_title=The Lord of the Rings), 'WORK_OF_ART'],\n",
       "  'type': 'has part',\n",
       "  'tail': ['The Return of the King', Entity(wikidata_entity_id=Q332581, wikipedia_entity_title=The Return of the King), 'WORK_OF_ART']},\n",
       " {'head': ['The Fellowship of the Ring', Entity(wikidata_entity_id=Q208002, wikipedia_entity_title=The Fellowship of the Ring), 'WORK_OF_ART'],\n",
       "  'type': 'part of the series',\n",
       "  'tail': ['The Lord of the Rings', Entity(wikidata_entity_id=Q15228, wikipedia_entity_title=The Lord of the Rings), 'WORK_OF_ART']},\n",
       " {'head': ['The Lord of the Rings', Entity(wikidata_entity_id=Q15228, wikipedia_entity_title=The Lord of the Rings), 'WORK_OF_ART'],\n",
       "  'type': 'has part',\n",
       "  'tail': ['The Silmarillion', Entity(wikidata_entity_id=Q79762, wikipedia_entity_title=The Silmarillion), 'WORK_OF_ART']},\n",
       " {'head': ['J.R.R. Tolkien', Entity(wikidata_entity_id=Q892, wikipedia_entity_title=J. R. R. Tolkien), 'PERSON'],\n",
       "  'type': 'notable work',\n",
       "  'tail': ['The Silmarillion', Entity(wikidata_entity_id=Q79762, wikipedia_entity_title=The Silmarillion), 'WORK_OF_ART']},\n",
       " {'head': ['J.R.R. Tolkien', Entity(wikidata_entity_id=Q892, wikipedia_entity_title=J. R. R. Tolkien), 'PERSON'],\n",
       "  'type': 'notable work',\n",
       "  'tail': ['The Fellowship of the Ring', Entity(wikidata_entity_id=Q208002, wikipedia_entity_title=The Fellowship of the Ring), 'WORK_OF_ART']},\n",
       " {'head': ['Bilbo', Entity(wikidata_entity_id=Q185737, wikipedia_entity_title=Bilbo Baggins), None],\n",
       "  'type': 'present in work',\n",
       "  'tail': ['The Two Towers', Entity(wikidata_entity_id=Q332388, wikipedia_entity_title=The Two Towers), 'WORK_OF_ART']},\n",
       " {'head': ['Frodo Baggins', Entity(wikidata_entity_id=Q177329, wikipedia_entity_title=Frodo Baggins), None],\n",
       "  'type': 'present in work',\n",
       "  'tail': ['The Silmarillion', Entity(wikidata_entity_id=Q79762, wikipedia_entity_title=The Silmarillion), 'WORK_OF_ART']},\n",
       " {'head': ['Black Riders', Entity(wikidata_entity_id=Q308661, wikipedia_entity_title=Nazgûl), None],\n",
       "  'type': 'present in work',\n",
       "  'tail': ['The Lord of the Rings', Entity(wikidata_entity_id=Q15228, wikipedia_entity_title=The Lord of the Rings), 'WORK_OF_ART']},\n",
       " {'head': ['Frodo Baggins', Entity(wikidata_entity_id=Q177329, wikipedia_entity_title=Frodo Baggins), None],\n",
       "  'type': 'present in work',\n",
       "  'tail': ['The Two Towers', Entity(wikidata_entity_id=Q332388, wikipedia_entity_title=The Two Towers), 'WORK_OF_ART']},\n",
       " {'head': ['Frodo', Entity(wikidata_entity_id=Q177329, wikipedia_entity_title=Frodo Baggins), None],\n",
       "  'type': 'present in work',\n",
       "  'tail': ['The Two Towers', Entity(wikidata_entity_id=Q332388, wikipedia_entity_title=The Two Towers), 'WORK_OF_ART']},\n",
       " {'head': ['Tolkien', Entity(wikidata_entity_id=Q892, wikipedia_entity_title=J. R. R. Tolkien), 'PERSON'],\n",
       "  'type': 'notable work',\n",
       "  'tail': ['The Silmarillion', Entity(wikidata_entity_id=Q79762, wikipedia_entity_title=The Silmarillion), 'WORK_OF_ART']},\n",
       " {'head': ['Bilbo', Entity(wikidata_entity_id=Q185737, wikipedia_entity_title=Bilbo Baggins), None],\n",
       "  'type': 'present in work',\n",
       "  'tail': ['The Fellowship of the Ring', Entity(wikidata_entity_id=Q208002, wikipedia_entity_title=The Fellowship of the Ring), 'WORK_OF_ART']},\n",
       " {'head': ['Sauron', Entity(wikidata_entity_id=Q2281, wikipedia_entity_title=Sauron), 'PERSON'],\n",
       "  'type': 'present in work',\n",
       "  'tail': ['The Lord of the Rings', Entity(wikidata_entity_id=Q15228, wikipedia_entity_title=The Lord of the Rings), 'WORK_OF_ART']},\n",
       " {'head': ['Tolkien', Entity(wikidata_entity_id=Q892, wikipedia_entity_title=J. R. R. Tolkien), 'PERSON'],\n",
       "  'type': 'notable work',\n",
       "  'tail': ['The Two Towers', Entity(wikidata_entity_id=Q332388, wikipedia_entity_title=The Two Towers), 'WORK_OF_ART']},\n",
       " {'head': ['Sauron', Entity(wikidata_entity_id=Q2281, wikipedia_entity_title=Sauron), 'PERSON'],\n",
       "  'type': 'present in work',\n",
       "  'tail': ['The Silmarillion', Entity(wikidata_entity_id=Q79762, wikipedia_entity_title=The Silmarillion), 'WORK_OF_ART']},\n",
       " {'head': ['Tolkien', Entity(wikidata_entity_id=Q892, wikipedia_entity_title=J. R. R. Tolkien), 'PERSON'],\n",
       "  'type': 'notable work',\n",
       "  'tail': ['The Return of the King', Entity(wikidata_entity_id=Q332581, wikipedia_entity_title=The Return of the King), 'WORK_OF_ART']},\n",
       " {'head': ['Frodo Baggins', Entity(wikidata_entity_id=Q177329, wikipedia_entity_title=Frodo Baggins), None],\n",
       "  'type': 'present in work',\n",
       "  'tail': ['The Return of the King', Entity(wikidata_entity_id=Q332581, wikipedia_entity_title=The Return of the King), 'WORK_OF_ART']},\n",
       " {'head': ['fantasy', Entity(wikidata_entity_id=Q132311, wikipedia_entity_title=Fantasy), None],\n",
       "  'type': 'has part',\n",
       "  'tail': ['The Lord of the Rings', Entity(wikidata_entity_id=Q15228, wikipedia_entity_title=The Lord of the Rings), 'WORK_OF_ART']},\n",
       " {'head': ['Frodo Baggins', Entity(wikidata_entity_id=Q177329, wikipedia_entity_title=Frodo Baggins), None],\n",
       "  'type': 'present in work',\n",
       "  'tail': ['The Fellowship of the Ring', Entity(wikidata_entity_id=Q208002, wikipedia_entity_title=The Fellowship of the Ring), 'WORK_OF_ART']},\n",
       " {'head': ['J.R.R. Tolkien', Entity(wikidata_entity_id=Q892, wikipedia_entity_title=J. R. R. Tolkien), 'PERSON'],\n",
       "  'type': 'notable work',\n",
       "  'tail': ['The Return of the King', Entity(wikidata_entity_id=Q332581, wikipedia_entity_title=The Return of the King), 'WORK_OF_ART']},\n",
       " {'head': ['Bilbo', Entity(wikidata_entity_id=Q185737, wikipedia_entity_title=Bilbo Baggins), None],\n",
       "  'type': 'present in work',\n",
       "  'tail': ['The Return of the King', Entity(wikidata_entity_id=Q332581, wikipedia_entity_title=The Return of the King), 'WORK_OF_ART']},\n",
       " {'head': ['Frodo', Entity(wikidata_entity_id=Q177329, wikipedia_entity_title=Frodo Baggins), None],\n",
       "  'type': 'present in work',\n",
       "  'tail': ['The Fellowship of the Ring', Entity(wikidata_entity_id=Q208002, wikipedia_entity_title=The Fellowship of the Ring), 'WORK_OF_ART']},\n",
       " {'head': ['Tolkien', Entity(wikidata_entity_id=Q892, wikipedia_entity_title=J. R. R. Tolkien), 'PERSON'],\n",
       "  'type': 'notable work',\n",
       "  'tail': ['The Fellowship of the Ring', Entity(wikidata_entity_id=Q208002, wikipedia_entity_title=The Fellowship of the Ring), 'WORK_OF_ART']},\n",
       " {'head': ['Frodo', Entity(wikidata_entity_id=Q177329, wikipedia_entity_title=Frodo Baggins), None],\n",
       "  'type': 'present in work',\n",
       "  'tail': ['The Return of the King', Entity(wikidata_entity_id=Q332581, wikipedia_entity_title=The Return of the King), 'WORK_OF_ART']},\n",
       " {'head': ['Crack of Doom', Entity(wikidata_entity_id=Q982944, wikipedia_entity_title=Mount Doom), None],\n",
       "  'type': 'present in work',\n",
       "  'tail': ['The Lord of the Rings', Entity(wikidata_entity_id=Q15228, wikipedia_entity_title=The Lord of the Rings), 'WORK_OF_ART']},\n",
       " {'head': ['fantasy', Entity(wikidata_entity_id=Q132311, wikipedia_entity_title=Fantasy), None],\n",
       "  'type': 'has part',\n",
       "  'tail': ['The Silmarillion', Entity(wikidata_entity_id=Q79762, wikipedia_entity_title=The Silmarillion), 'WORK_OF_ART']},\n",
       " {'head': ['J.R.R. Tolkien', Entity(wikidata_entity_id=Q892, wikipedia_entity_title=J. R. R. Tolkien), 'PERSON'],\n",
       "  'type': 'notable work',\n",
       "  'tail': ['The Two Towers', Entity(wikidata_entity_id=Q332388, wikipedia_entity_title=The Two Towers), 'WORK_OF_ART']}]"
      ]
     },
     "execution_count": 15,
     "metadata": {},
     "output_type": "execute_result"
    }
   ],
   "source": [
    "triplets"
   ]
  },
  {
   "cell_type": "code",
   "execution_count": 35,
   "metadata": {},
   "outputs": [
    {
     "data": {
      "text/plain": [
       "0.4742"
      ]
     },
     "execution_count": 35,
     "metadata": {},
     "output_type": "execute_result"
    }
   ],
   "source": [
    "spans_re[3].entity_linking_model_confidence_score"
   ]
  },
  {
   "cell_type": "code",
   "execution_count": null,
   "metadata": {},
   "outputs": [],
   "source": []
  },
  {
   "cell_type": "code",
   "execution_count": 37,
   "metadata": {},
   "outputs": [
    {
     "data": {
      "text/plain": [
       "[{'head': ['Tatooine', Entity(wikidata_entity_id=Q723764, wikipedia_entity_title=Tatooine), None],\n",
       "  'type': 'present in work',\n",
       "  'tail': ['Star Wars', Entity(wikidata_entity_id=Q462, wikipedia_entity_title=Star Wars), None]},\n",
       " {'head': ['Endor', Entity(wikidata_entity_id=Q12180673, wikipedia_entity_title=Endor (Star Wars)), None],\n",
       "  'type': 'present in work',\n",
       "  'tail': ['Star Wars', Entity(wikidata_entity_id=Q462, wikipedia_entity_title=Star Wars), None]},\n",
       " {'head': ['Sith', Entity(wikidata_entity_id=Q51771, wikipedia_entity_title=Sith), None],\n",
       "  'type': 'has part',\n",
       "  'tail': ['Darth Vader', Entity(wikidata_entity_id=Q12206942, wikipedia_entity_title=Darth Vader), None]},\n",
       " {'head': ['Jedi Knights', Entity(wikidata_entity_id=Q51724, wikipedia_entity_title=Jedi), None],\n",
       "  'type': 'present in work',\n",
       "  'tail': ['Star Wars', Entity(wikidata_entity_id=Q462, wikipedia_entity_title=Star Wars), None]},\n",
       " {'head': ['Empire', Entity(wikidata_entity_id=Q52347, wikipedia_entity_title=Galactic Empire (Star Wars)), None],\n",
       "  'type': 'present in work',\n",
       "  'tail': ['Star Wars', Entity(wikidata_entity_id=Q462, wikipedia_entity_title=Star Wars), None]},\n",
       " {'head': ['Han Solo', Entity(wikidata_entity_id=Q51802, wikipedia_entity_title=Han Solo), 'PERSON'],\n",
       "  'type': 'present in work',\n",
       "  'tail': ['Star Wars', Entity(wikidata_entity_id=Q462, wikipedia_entity_title=Star Wars), None]},\n",
       " {'head': ['Princess Leia', Entity(wikidata_entity_id=Q51797, wikipedia_entity_title=Princess Leia), 'PERSON'],\n",
       "  'type': 'present in work',\n",
       "  'tail': ['Star Wars', Entity(wikidata_entity_id=Q462, wikipedia_entity_title=Star Wars), None]},\n",
       " {'head': ['Ewoks', Entity(wikidata_entity_id=Q1409501, wikipedia_entity_title=Ewok), None],\n",
       "  'type': 'present in work',\n",
       "  'tail': ['Star Wars', Entity(wikidata_entity_id=Q462, wikipedia_entity_title=Star Wars), None]}]"
      ]
     },
     "execution_count": 37,
     "metadata": {},
     "output_type": "execute_result"
    }
   ],
   "source": [
    "triplets"
   ]
  },
  {
   "cell_type": "code",
   "execution_count": 32,
   "metadata": {},
   "outputs": [
    {
     "data": {
      "text/plain": [
       "[['Jaguar', Entity(wikidata_entity_id=Q30055, wikipedia_entity_title=Jaguar Cars), None],\n",
       " ['jaguar', Entity(wikidata_entity_id=Q35694, wikipedia_entity_title=Jaguar), None]]"
      ]
     },
     "execution_count": 32,
     "metadata": {},
     "output_type": "execute_result"
    }
   ],
   "source": [
    "spans_re"
   ]
  },
  {
   "cell_type": "code",
   "execution_count": 34,
   "metadata": {},
   "outputs": [
    {
     "data": {
      "text/plain": [
       "[]"
      ]
     },
     "execution_count": 34,
     "metadata": {},
     "output_type": "execute_result"
    }
   ],
   "source": [
    "triplets"
   ]
  },
  {
   "cell_type": "code",
   "execution_count": 31,
   "metadata": {},
   "outputs": [
    {
     "data": {
      "text/plain": [
       "[['jaguar', Entity(wikidata_entity_id=Q35694, wikipedia_entity_title=Jaguar), None]]"
      ]
     },
     "execution_count": 31,
     "metadata": {},
     "output_type": "execute_result"
    }
   ],
   "source": [
    "spans_re"
   ]
  },
  {
   "cell_type": "code",
   "execution_count": 32,
   "metadata": {},
   "outputs": [
    {
     "data": {
      "text/plain": [
       "[['jaguar', Entity(wikidata_entity_id=Q35694, wikipedia_entity_title=Jaguar), None]]"
      ]
     },
     "execution_count": 32,
     "metadata": {},
     "output_type": "execute_result"
    }
   ],
   "source": [
    "spans_el_base"
   ]
  },
  {
   "cell_type": "code",
   "execution_count": 29,
   "metadata": {},
   "outputs": [
    {
     "data": {
      "text/plain": [
       "1.0"
      ]
     },
     "execution_count": 29,
     "metadata": {},
     "output_type": "execute_result"
    }
   ],
   "source": [
    "spans[2].predicted_entity.wikidata_entity_id is None"
   ]
  },
  {
   "cell_type": "code",
   "execution_count": 21,
   "metadata": {},
   "outputs": [
    {
     "data": {
      "text/plain": [
       "[{'head': ['aguar', Entity not linked to a knowledge base, None],\n",
       "  'type': 'country of origin',\n",
       "  'tail': ['United States', Entity(wikidata_entity_id=Q30, wikipedia_entity_title=United States), 'GPE']}]"
      ]
     },
     "execution_count": 21,
     "metadata": {},
     "output_type": "execute_result"
    }
   ],
   "source": [
    "triplets"
   ]
  },
  {
   "cell_type": "code",
   "execution_count": 11,
   "metadata": {},
   "outputs": [
    {
     "data": {
      "text/plain": [
       "[['Toyota Motor Corporation', Entity(wikidata_entity_id=Q53268, wikipedia_entity_title=Toyota), 'ORG'],\n",
       " ['1937', Entity(parsed_string=[timepoint: [\"1937\"]]), 'DATE'],\n",
       " ['Kiichiro Toyoda', Entity(wikidata_entity_id=Q358556, wikipedia_entity_title=Kiichiro Toyoda), 'PERSON'],\n",
       " ['one', None, 'CARDINAL'],\n",
       " ['Toyoda Automatic Loom Works', Entity(wikidata_entity_id=Q1476105, wikipedia_entity_title=Toyota Industries), 'ORG'],\n",
       " ['Kiichiro', Entity(wikidata_entity_id=Q358556, wikipedia_entity_title=Kiichiro Toyoda), 'PERSON'],\n",
       " ['Toyota', Entity(wikidata_entity_id=Q53268, wikipedia_entity_title=Toyota), 'ORG'],\n",
       " ['first', None, 'ORDINAL'],\n",
       " ['1936', Entity(parsed_string=[timepoint: [\"1936\"]]), 'DATE'],\n",
       " ['Just-In-Time', Entity(wikidata_entity_id=Q380772, wikipedia_entity_title=Lean manufacturing), None],\n",
       " ['1966', Entity(parsed_string=[timepoint: [\"1966\"]]), 'DATE'],\n",
       " ['the 21st century', None, 'DATE'],\n",
       " ['Prius', Entity(wikidata_entity_id=Q213115, wikipedia_entity_title=Toyota Prius), None],\n",
       " ['1997', Entity(parsed_string=[timepoint: [\"1997\"]]), 'DATE'],\n",
       " ['Today', None, 'DATE'],\n",
       " ['hydrogen fuel cells', Entity(wikidata_entity_id=Q180253, wikipedia_entity_title=Fuel cell), None],\n",
       " ['autonomous driving', Entity(wikidata_entity_id=Q741490, wikipedia_entity_title=Self-driving car), None],\n",
       " ['Toyota', Entity(wikidata_entity_id=Q53268, wikipedia_entity_title=Toyota), None]]"
      ]
     },
     "execution_count": 11,
     "metadata": {},
     "output_type": "execute_result"
    }
   ],
   "source": [
    "spans"
   ]
  },
  {
   "cell_type": "code",
   "execution_count": 20,
   "metadata": {},
   "outputs": [
    {
     "name": "stdout",
     "output_type": "stream",
     "text": [
      "Spain   0.9131\n",
      "Xavi Hernandez   0.9939\n",
      "one   None\n",
      "UEFA Champions League   0.9542\n",
      "Johan Cruyff   0.9974\n",
      "Barcelona   0.8146\n",
      "Lionel Messi   0.9941\n",
      "Europe   0.977\n",
      "Barça   0.8094\n",
      "blaugrana   0.9912\n"
     ]
    }
   ],
   "source": [
    "for span in spans_no_relationship:\n",
    "    print(span.text,\" \",span.entity_linking_model_confidence_score)"
   ]
  },
  {
   "cell_type": "code",
   "execution_count": 27,
   "metadata": {},
   "outputs": [
    {
     "data": {
      "text/plain": [
       "{['Barcelona', Entity(wikidata_entity_id=Q7156, wikipedia_entity_title=FC Barcelona), None],\n",
       " ['Barça', Entity(wikidata_entity_id=Q7156, wikipedia_entity_title=FC Barcelona), 'ORG'],\n",
       " ['Europe', Entity(wikidata_entity_id=Q46, wikipedia_entity_title=Europe), 'GPE'],\n",
       " ['Johan Cruyff', Entity(wikidata_entity_id=Q17163, wikipedia_entity_title=Johan Cruyff), 'PERSON'],\n",
       " ['Lionel Messi', Entity(wikidata_entity_id=Q615, wikipedia_entity_title=Lionel Messi), 'PERSON'],\n",
       " ['Spain', Entity(wikidata_entity_id=Q29, wikipedia_entity_title=Spain), 'GPE'],\n",
       " ['UEFA Champions League', Entity(wikidata_entity_id=Q18756, wikipedia_entity_title=UEFA Champions League), 'EVENT'],\n",
       " ['Xavi Hernandez', Entity(wikidata_entity_id=Q17500, wikipedia_entity_title=Xavi), 'PERSON'],\n",
       " ['blaugrana', Entity(wikidata_entity_id=Q7156, wikipedia_entity_title=FC Barcelona), None],\n",
       " ['one', None, 'CARDINAL']}"
      ]
     },
     "execution_count": 27,
     "metadata": {},
     "output_type": "execute_result"
    }
   ],
   "source": [
    "spans_no_relationship"
   ]
  },
  {
   "cell_type": "code",
   "execution_count": 27,
   "metadata": {},
   "outputs": [],
   "source": [
    "model = KGBuilder.triplet_extractor.model\n",
    "tokenizer = KGBuilder.triplet_extractor.tokenizer\n",
    "new_triplets = []\n",
    "text = \"Marie Curie was a pioneering physicist and chemist. She discovered radioactivity and won Nobel Prizes in Physics and Chemistry.\"\n",
    "gen_kwargs = {\n",
    "    \"max_length\": 1024,\n",
    "    \"length_penalty\": 1,\n",
    "    \"num_beams\": 3,\n",
    "}\n",
    "\n",
    "model_inputs = tokenizer(text, max_length=1024, padding=True, truncation=True, return_tensors = 'pt')\n",
    "\n",
    "for span in  spans_no_relationship:\n",
    "    if span.predicted_entity is not None:\n",
    "        output = f\"\"\"<s><triplet> {span.text} <subj>\"\"\"\n",
    "        model_outputs = tokenizer(output, max_length=1024, padding=True, truncation=True, return_tensors = 'pt', add_special_tokens=False)\n",
    "        generated_tokens = model.generate(\n",
    "            model_inputs[\"input_ids\"].to(model.device),\n",
    "            decoder_input_ids=model_outputs[\"input_ids\"].to(model.device),\n",
    "            attention_mask=model_inputs[\"attention_mask\"].to(model.device),\n",
    "            bad_words_ids=tokenizer([\"<triplet>\"], add_special_tokens=False).input_ids, # don't generate <triplet>\n",
    "            **gen_kwargs,\n",
    "        )\n",
    "\n",
    "        decoded_preds = tokenizer.batch_decode(generated_tokens, skip_special_tokens=False)\n",
    "\n",
    "        for _,sentence in enumerate(decoded_preds):\n",
    "            new_triplets += KGBuilder.extract_triplets(sentence)"
   ]
  },
  {
   "cell_type": "code",
   "execution_count": 22,
   "metadata": {},
   "outputs": [
    {
     "data": {
      "text/plain": [
       "[{'head': 'Spain', 'type': 'sport', 'tail': 'football'},\n",
       " {'head': 'Xavi Hernandez',\n",
       "  'type': 'member of sports team',\n",
       "  'tail': 'FC Barcelona'},\n",
       " {'head': 'Xavi Hernandez',\n",
       "  'type': 'member of sports team',\n",
       "  'tail': 'FC Barcelona'},\n",
       " {'head': 'UEFA Champions League', 'type': 'sport', 'tail': 'football'},\n",
       " {'head': 'Johan Cruyff',\n",
       "  'type': 'member of sports team',\n",
       "  'tail': 'FC Barcelona'},\n",
       " {'head': 'Johan Cruyff',\n",
       "  'type': 'member of sports team',\n",
       "  'tail': 'FC Barcelona'},\n",
       " {'head': 'Barcelona', 'type': 'country', 'tail': 'Spain'},\n",
       " {'head': 'Lionel Messi',\n",
       "  'type': 'member of sports team',\n",
       "  'tail': 'FC Barcelona'},\n",
       " {'head': 'Lionel Messi',\n",
       "  'type': 'member of sports team',\n",
       "  'tail': 'FC Barcelona'},\n",
       " {'head': 'Europe', 'type': 'sport', 'tail': 'football'},\n",
       " {'head': 'Barça', 'type': 'inception', 'tail': '1899'},\n",
       " {'head': 'Barça', 'type': 'headquarters location', 'tail': 'Barcelona'},\n",
       " {'head': 'Barça', 'type': 'home venue', 'tail': 'Camp Nou'},\n",
       " {'head': 'Barça', 'type': 'home venue', 'tail': 'Camp Nou'},\n",
       " {'head': 'Barça', 'type': 'sport', 'tail': 'football'},\n",
       " {'head': 'Barça', 'type': 'operating area', 'tail': 'Europe'},\n",
       " {'head': 'Barça', 'type': 'home venue', 'tail': 'Camp Nou'},\n",
       " {'head': 'Barça', 'type': 'sport', 'tail': 'football'},\n",
       " {'head': 'Barça', 'type': 'headquarters location', 'tail': 'Barcelona'},\n",
       " {'head': 'Barça', 'type': 'country', 'tail': 'Spain'},\n",
       " {'head': 'Barça', 'type': 'home venue', 'tail': 'Camp Nou'},\n",
       " {'head': 'Barça', 'type': 'sport', 'tail': 'football'},\n",
       " {'head': 'Barça', 'type': 'headquarters location', 'tail': 'Barcelona'},\n",
       " {'head': 'Barça', 'type': 'country', 'tail': 'Spain'},\n",
       " {'head': 'Barça', 'type': 'home venue', 'tail': 'Camp Nou'},\n",
       " {'head': 'Barça', 'type': 'sport', 'tail': 'football'},\n",
       " {'head': 'Barça', 'type': 'headquarters location', 'tail': 'Barcelona'},\n",
       " {'head': 'Barça', 'type': 'country', 'tail': 'Spain'},\n",
       " {'head': 'blaugrana', 'type': 'used by', 'tail': 'FC Barcelona'},\n",
       " {'head': 'blaugrana', 'type': 'used by', 'tail': 'FC Barcelona'}]"
      ]
     },
     "execution_count": 22,
     "metadata": {},
     "output_type": "execute_result"
    }
   ],
   "source": [
    "new_triplets"
   ]
  },
  {
   "cell_type": "code",
   "execution_count": 30,
   "metadata": {},
   "outputs": [
    {
     "data": {
      "text/plain": [
       "([{'head': ['Barça', Entity(wikidata_entity_id=Q7156, wikipedia_entity_title=FC Barcelona), 'ORG'],\n",
       "   'type': 'headquarters location',\n",
       "   'tail': ['Barcelona', Entity(wikidata_entity_id=Q1492, wikipedia_entity_title=Barcelona), 'ORG']},\n",
       "  {'head': ['blaugrana', Entity(wikidata_entity_id=Q7156, wikipedia_entity_title=FC Barcelona), None],\n",
       "   'type': 'used by',\n",
       "   'tail': ['FC Barcelona', Entity(wikidata_entity_id=Q7156, wikipedia_entity_title=FC Barcelona), 'ORG']},\n",
       "  {'head': ['Johan Cruyff', Entity(wikidata_entity_id=Q17163, wikipedia_entity_title=Johan Cruyff), 'PERSON'],\n",
       "   'type': 'member of sports team',\n",
       "   'tail': ['FC Barcelona', Entity(wikidata_entity_id=Q7156, wikipedia_entity_title=FC Barcelona), 'ORG']},\n",
       "  {'head': ['Barcelona', Entity(wikidata_entity_id=Q1492, wikipedia_entity_title=Barcelona), 'ORG'],\n",
       "   'type': 'country',\n",
       "   'tail': ['Spain', Entity(wikidata_entity_id=Q29, wikipedia_entity_title=Spain), 'GPE']},\n",
       "  {'head': ['Barça', Entity(wikidata_entity_id=Q7156, wikipedia_entity_title=FC Barcelona), 'ORG'],\n",
       "   'type': 'inception',\n",
       "   'tail': ['1899', Entity(parsed_string=[timepoint: [\"1899\"]]), 'DATE']},\n",
       "  {'head': ['Barça', Entity(wikidata_entity_id=Q7156, wikipedia_entity_title=FC Barcelona), 'ORG'],\n",
       "   'type': 'country',\n",
       "   'tail': ['Spain', Entity(wikidata_entity_id=Q29, wikipedia_entity_title=Spain), 'GPE']},\n",
       "  {'head': ['Barça', Entity(wikidata_entity_id=Q7156, wikipedia_entity_title=FC Barcelona), 'ORG'],\n",
       "   'type': 'home venue',\n",
       "   'tail': ['Camp Nou', Entity(wikidata_entity_id=Q159848, wikipedia_entity_title=Camp Nou), 'FAC']},\n",
       "  {'head': ['Xavi Hernandez', Entity(wikidata_entity_id=Q17500, wikipedia_entity_title=Xavi), 'PERSON'],\n",
       "   'type': 'member of sports team',\n",
       "   'tail': ['FC Barcelona', Entity(wikidata_entity_id=Q7156, wikipedia_entity_title=FC Barcelona), 'ORG']},\n",
       "  {'head': ['Barça', Entity(wikidata_entity_id=Q7156, wikipedia_entity_title=FC Barcelona), 'ORG'],\n",
       "   'type': 'operating area',\n",
       "   'tail': ['Europe', Entity(wikidata_entity_id=Q46, wikipedia_entity_title=Europe), 'GPE']},\n",
       "  {'head': ['Lionel Messi', Entity(wikidata_entity_id=Q615, wikipedia_entity_title=Lionel Messi), 'PERSON'],\n",
       "   'type': 'member of sports team',\n",
       "   'tail': ['FC Barcelona', Entity(wikidata_entity_id=Q7156, wikipedia_entity_title=FC Barcelona), 'ORG']}],\n",
       " {['Barcelona', Entity(wikidata_entity_id=Q7156, wikipedia_entity_title=FC Barcelona), None],\n",
       "  ['one', None, 'CARDINAL']})"
      ]
     },
     "execution_count": 30,
     "metadata": {},
     "output_type": "execute_result"
    }
   ],
   "source": [
    "KGBuilder.link_spans_with_relationships(KGBuilder.filter_relationships(new_triplets),spans)"
   ]
  },
  {
   "cell_type": "code",
   "execution_count": 18,
   "metadata": {},
   "outputs": [
    {
     "data": {
      "text/plain": [
       "[{'head': 'Cristiano Ronaldo',\n",
       "  'type': 'member of sports team',\n",
       "  'tail': 'Real Madrid'},\n",
       " {'head': 'Cristiano Ronaldo',\n",
       "  'type': 'member of sports team',\n",
       "  'tail': 'Real Madrid'},\n",
       " {'head': 'Zinedine Zidane',\n",
       "  'type': 'member of sports team',\n",
       "  'tail': 'Real Madrid'},\n",
       " {'head': 'Zinedine Zidane',\n",
       "  'type': 'member of sports team',\n",
       "  'tail': 'Real Madrid'},\n",
       " {'head': 'Los Blancos', 'type': 'inception', 'tail': '1902'},\n",
       " {'head': 'Los Blancos', 'type': 'location of formation', 'tail': 'Madrid'},\n",
       " {'head': 'Los Blancos',\n",
       "  'type': 'home venue',\n",
       "  'tail': 'Santiago Bernabéu Stadium'},\n",
       " {'head': 'UEFA Champions League', 'type': 'winner', 'tail': 'Real Madrid'},\n",
       " {'head': 'UEFA Champions League', 'type': 'winner', 'tail': 'Real Madrid'},\n",
       " {'head': 'Spain', 'type': 'capital', 'tail': 'Madrid'},\n",
       " {'head': 'Alfredo Di Stéfano',\n",
       "  'type': 'member of sports team',\n",
       "  'tail': 'Real Madrid'},\n",
       " {'head': 'Alfredo Di Stéfano',\n",
       "  'type': 'member of sports team',\n",
       "  'tail': 'Real Madrid'}]"
      ]
     },
     "execution_count": 18,
     "metadata": {},
     "output_type": "execute_result"
    }
   ],
   "source": [
    "new_triplets"
   ]
  },
  {
   "cell_type": "code",
   "execution_count": 21,
   "metadata": {},
   "outputs": [],
   "source": [
    "prueba = spans[2]"
   ]
  },
  {
   "cell_type": "code",
   "execution_count": 19,
   "metadata": {},
   "outputs": [],
   "source": [
    "triplets_with_spans = triplets"
   ]
  },
  {
   "cell_type": "code",
   "execution_count": 91,
   "metadata": {},
   "outputs": [],
   "source": [
    "i = 0\n",
    "while i < len(triplets):\n",
    "    for span in spans:\n",
    "        if triplets[i]['head'] == span.text:\n",
    "            triplets[i]['head'] = span\n",
    "        \n",
    "        if triplets[i]['tail'] == span.text:\n",
    "            triplets[i]['tail'] = span\n",
    "\n",
    "    if not isinstance(triplets[i]['head'],Span) or not isinstance(triplets[i]['tail'],Span):\n",
    "        del triplets[i]\n",
    "        i = i - 1\n",
    "    \n",
    "\n",
    "    i += 1"
   ]
  },
  {
   "cell_type": "code",
   "execution_count": 14,
   "metadata": {},
   "outputs": [
    {
     "data": {
      "text/plain": [
       "[{'head': ['Real Madrid', Entity(wikidata_entity_id=Q8682, wikipedia_entity_title=Real Madrid CF), 'ORG'],\n",
       "  'type': 'headquarters location',\n",
       "  'tail': ['Madrid', Entity(wikidata_entity_id=Q2807, wikipedia_entity_title=Madrid), 'ORG']},\n",
       " {'head': ['Real Madrid', Entity(wikidata_entity_id=Q8682, wikipedia_entity_title=Real Madrid CF), 'ORG'],\n",
       "  'type': 'home venue',\n",
       "  'tail': ['Santiago Bernabéu Stadium', Entity(wikidata_entity_id=Q164027, wikipedia_entity_title=Santiago Bernabéu Stadium), 'FAC']},\n",
       " {'head': ['Santiago Bernabéu Stadium', Entity(wikidata_entity_id=Q164027, wikipedia_entity_title=Santiago Bernabéu Stadium), 'FAC'],\n",
       "  'type': 'occupant',\n",
       "  'tail': ['Real Madrid', Entity(wikidata_entity_id=Q8682, wikipedia_entity_title=Real Madrid CF), 'ORG']},\n",
       " {'head': ['Real Madrid', Entity(wikidata_entity_id=Q8682, wikipedia_entity_title=Real Madrid CF), 'ORG'],\n",
       "  'type': 'inception',\n",
       "  'tail': ['1902', Entity(parsed_string=[timepoint: [\"1902\"]]), 'DATE']}]"
      ]
     },
     "execution_count": 14,
     "metadata": {},
     "output_type": "execute_result"
    }
   ],
   "source": [
    "triplets"
   ]
  },
  {
   "cell_type": "code",
   "execution_count": 15,
   "metadata": {},
   "outputs": [
    {
     "data": {
      "text/plain": [
       "[{'head': ['Real Madrid', Entity(wikidata_entity_id=Q8682, wikipedia_entity_title=Real Madrid CF), 'ORG'],\n",
       "  'type': 'headquarters location',\n",
       "  'tail': ['Madrid', Entity(wikidata_entity_id=Q2807, wikipedia_entity_title=Madrid), 'ORG']},\n",
       " {'head': ['Real Madrid', Entity(wikidata_entity_id=Q8682, wikipedia_entity_title=Real Madrid CF), 'ORG'],\n",
       "  'type': 'home venue',\n",
       "  'tail': ['Santiago Bernabéu Stadium', Entity(wikidata_entity_id=Q164027, wikipedia_entity_title=Santiago Bernabéu Stadium), 'FAC']},\n",
       " {'head': ['Santiago Bernabéu Stadium', Entity(wikidata_entity_id=Q164027, wikipedia_entity_title=Santiago Bernabéu Stadium), 'FAC'],\n",
       "  'type': 'occupant',\n",
       "  'tail': ['Real Madrid', Entity(wikidata_entity_id=Q8682, wikipedia_entity_title=Real Madrid CF), 'ORG']},\n",
       " {'head': ['Real Madrid', Entity(wikidata_entity_id=Q8682, wikipedia_entity_title=Real Madrid CF), 'ORG'],\n",
       "  'type': 'inception',\n",
       "  'tail': ['1902', Entity(parsed_string=[timepoint: [\"1902\"]]), 'DATE']}]"
      ]
     },
     "execution_count": 15,
     "metadata": {},
     "output_type": "execute_result"
    }
   ],
   "source": [
    "triplets_with_spans"
   ]
  },
  {
   "cell_type": "code",
   "execution_count": 33,
   "metadata": {},
   "outputs": [
    {
     "ename": "TypeError",
     "evalue": "can only concatenate str (not \"NoneType\") to str",
     "output_type": "error",
     "traceback": [
      "\u001b[0;31m---------------------------------------------------------------------------\u001b[0m",
      "\u001b[0;31mTypeError\u001b[0m                                 Traceback (most recent call last)",
      "Cell \u001b[0;32mIn[33], line 1\u001b[0m\n\u001b[0;32m----> 1\u001b[0m \u001b[38;5;28mhash\u001b[39m(\u001b[43mspan\u001b[49m\u001b[38;5;241;43m.\u001b[39;49m\u001b[43mtext\u001b[49m\u001b[43m \u001b[49m\u001b[38;5;241;43m+\u001b[39;49m\u001b[43m \u001b[49m\u001b[38;5;124;43m\"\u001b[39;49m\u001b[38;5;124;43m \u001b[39;49m\u001b[38;5;124;43m\"\u001b[39;49m\u001b[43m \u001b[49m\u001b[38;5;241;43m+\u001b[39;49m\u001b[43m \u001b[49m\u001b[43mspan\u001b[49m\u001b[38;5;241;43m.\u001b[39;49m\u001b[43mpredicted_entity\u001b[49m\u001b[38;5;241;43m.\u001b[39;49m\u001b[43mwikidata_entity_id\u001b[49m \u001b[38;5;241m+\u001b[39m \u001b[38;5;124m\"\u001b[39m\u001b[38;5;124m \u001b[39m\u001b[38;5;124m\"\u001b[39m\u001b[38;5;241m+\u001b[39m span\u001b[38;5;241m.\u001b[39mpredicted_entity\u001b[38;5;241m.\u001b[39mwikipedia_entity_title)\n",
      "\u001b[0;31mTypeError\u001b[0m: can only concatenate str (not \"NoneType\") to str"
     ]
    }
   ],
   "source": [
    "hash(span.text + \" \" + span.predicted_entity.wikidata_entity_id + \" \"+ span.predicted_entity.wikipedia_entity_title)"
   ]
  },
  {
   "cell_type": "code",
   "execution_count": 93,
   "metadata": {},
   "outputs": [],
   "source": []
  },
  {
   "cell_type": "code",
   "execution_count": 94,
   "metadata": {},
   "outputs": [],
   "source": []
  },
  {
   "cell_type": "code",
   "execution_count": 79,
   "metadata": {},
   "outputs": [
    {
     "data": {
      "text/plain": [
       "8459790261135955224"
      ]
     },
     "execution_count": 79,
     "metadata": {},
     "output_type": "execute_result"
    }
   ],
   "source": [
    "hash(span)"
   ]
  },
  {
   "cell_type": "code",
   "execution_count": 78,
   "metadata": {},
   "outputs": [],
   "source": [
    "entities_with_relation.add(span)"
   ]
  },
  {
   "cell_type": "code",
   "execution_count": 48,
   "metadata": {},
   "outputs": [
    {
     "data": {
      "text/plain": [
       "8640970520782498198"
      ]
     },
     "execution_count": 48,
     "metadata": {},
     "output_type": "execute_result"
    }
   ],
   "source": [
    "hash(span)"
   ]
  },
  {
   "cell_type": "code",
   "execution_count": 97,
   "metadata": {},
   "outputs": [],
   "source": [
    "triplets_with_spans = triplets.copy()"
   ]
  },
  {
   "cell_type": "code",
   "execution_count": 90,
   "metadata": {},
   "outputs": [
    {
     "data": {
      "text/plain": [
       "[{'head': ['Real Madrid', Entity(wikidata_entity_id=Q8682, wikipedia_entity_title=Real Madrid CF), 'ORG'],\n",
       "  'type': 'headquarters location',\n",
       "  'tail': ['Madrid', Entity(wikidata_entity_id=Q2807, wikipedia_entity_title=Madrid), 'ORG']},\n",
       " {'head': ['Real Madrid', Entity(wikidata_entity_id=Q8682, wikipedia_entity_title=Real Madrid CF), 'ORG'],\n",
       "  'type': 'home venue',\n",
       "  'tail': ['Santiago Bernabéu Stadium', Entity(wikidata_entity_id=Q164027, wikipedia_entity_title=Santiago Bernabéu Stadium), 'FAC']},\n",
       " {'head': ['Santiago Bernabéu Stadium', Entity(wikidata_entity_id=Q164027, wikipedia_entity_title=Santiago Bernabéu Stadium), 'FAC'],\n",
       "  'type': 'occupant',\n",
       "  'tail': ['Real Madrid', Entity(wikidata_entity_id=Q8682, wikipedia_entity_title=Real Madrid CF), 'ORG']},\n",
       " {'head': ['Real Madrid', Entity(wikidata_entity_id=Q8682, wikipedia_entity_title=Real Madrid CF), 'ORG'],\n",
       "  'type': 'inception',\n",
       "  'tail': ['1902', Entity(parsed_string=[timepoint: [\"1902\"]]), 'DATE']}]"
      ]
     },
     "execution_count": 90,
     "metadata": {},
     "output_type": "execute_result"
    }
   ],
   "source": [
    "triplets"
   ]
  },
  {
   "cell_type": "code",
   "execution_count": 64,
   "metadata": {},
   "outputs": [
    {
     "data": {
      "text/plain": [
       "[['Real Madrid', Entity(wikidata_entity_id=Q8682, wikipedia_entity_title=Real Madrid CF), 'ORG'],\n",
       " ['one', None, 'CARDINAL'],\n",
       " ['1902', Entity(parsed_string=[timepoint: [\"1902\"]]), 'DATE'],\n",
       " ['Madrid', Entity(wikidata_entity_id=Q2807, wikipedia_entity_title=Madrid), 'ORG'],\n",
       " ['Spain', Entity(wikidata_entity_id=Q29, wikipedia_entity_title=Spain), 'GPE'],\n",
       " ['Los Blancos', Entity(wikidata_entity_id=Q8682, wikipedia_entity_title=Real Madrid CF), 'ORG'],\n",
       " ['14', None, 'CARDINAL'],\n",
       " ['UEFA Champions League', Entity(wikidata_entity_id=Q18756, wikipedia_entity_title=UEFA Champions League), 'EVENT'],\n",
       " ['Alfredo Di Stéfano', Entity(wikidata_entity_id=Q164546, wikipedia_entity_title=Alfredo Di Stéfano), 'PERSON'],\n",
       " ['Cristiano Ronaldo', Entity(wikidata_entity_id=Q11571, wikipedia_entity_title=Cristiano Ronaldo), 'PERSON'],\n",
       " ['Zinedine Zidane', Entity(wikidata_entity_id=Q1835, wikipedia_entity_title=Zinedine Zidane), 'PERSON'],\n",
       " ['Santiago Bernabéu Stadium', Entity(wikidata_entity_id=Q164027, wikipedia_entity_title=Santiago Bernabéu Stadium), 'FAC']]"
      ]
     },
     "execution_count": 64,
     "metadata": {},
     "output_type": "execute_result"
    }
   ],
   "source": [
    "spans"
   ]
  },
  {
   "cell_type": "code",
   "execution_count": 84,
   "metadata": {},
   "outputs": [
    {
     "data": {
      "text/plain": [
       "Entity(parsed_string=[timepoint: [\"1902\"]])"
      ]
     },
     "execution_count": 84,
     "metadata": {},
     "output_type": "execute_result"
    }
   ],
   "source": [
    "span.predicted_entity."
   ]
  },
  {
   "cell_type": "code",
   "execution_count": 98,
   "metadata": {},
   "outputs": [
    {
     "name": "stdout",
     "output_type": "stream",
     "text": [
      "['Real Madrid', Entity(wikidata_entity_id=Q8682, wikipedia_entity_title=Real Madrid CF), 'ORG']\n",
      "['Real Madrid', Entity(wikidata_entity_id=Q8682, wikipedia_entity_title=Real Madrid CF), 'ORG']\n",
      "['Santiago Bernabéu Stadium', Entity(wikidata_entity_id=Q164027, wikipedia_entity_title=Santiago Bernabéu Stadium), 'FAC']\n",
      "['Real Madrid', Entity(wikidata_entity_id=Q8682, wikipedia_entity_title=Real Madrid CF), 'ORG']\n"
     ]
    }
   ],
   "source": [
    "entities_with_relation = set()\n",
    "for triplet in triplets_with_spans:\n",
    "    for span in spans:\n",
    "        if triplet['head'] == span.text:\n",
    "            triplet['head'] = span\n",
    "            entities_with_relation.add(span)\n",
    "        \n",
    "        if triplet['tail'] == span.text:\n",
    "            triplet['tail'] = span\n",
    "            entities_with_relation.add(span)\n"
   ]
  },
  {
   "cell_type": "code",
   "execution_count": 100,
   "metadata": {},
   "outputs": [],
   "source": [
    "entities_set = set()\n",
    "for span in spans:\n",
    "    if span.predicted_entity is not None:\n",
    "        entities_set.add(span)"
   ]
  },
  {
   "cell_type": "code",
   "execution_count": 101,
   "metadata": {},
   "outputs": [
    {
     "data": {
      "text/plain": [
       "{['Alfredo Di Stéfano', Entity(wikidata_entity_id=Q164546, wikipedia_entity_title=Alfredo Di Stéfano), 'PERSON'],\n",
       " ['Cristiano Ronaldo', Entity(wikidata_entity_id=Q11571, wikipedia_entity_title=Cristiano Ronaldo), 'PERSON'],\n",
       " ['Los Blancos', Entity(wikidata_entity_id=Q8682, wikipedia_entity_title=Real Madrid CF), 'ORG'],\n",
       " ['Spain', Entity(wikidata_entity_id=Q29, wikipedia_entity_title=Spain), 'GPE'],\n",
       " ['UEFA Champions League', Entity(wikidata_entity_id=Q18756, wikipedia_entity_title=UEFA Champions League), 'EVENT'],\n",
       " ['Zinedine Zidane', Entity(wikidata_entity_id=Q1835, wikipedia_entity_title=Zinedine Zidane), 'PERSON']}"
      ]
     },
     "execution_count": 101,
     "metadata": {},
     "output_type": "execute_result"
    }
   ],
   "source": [
    "entities_set.difference(entities_with_relation)"
   ]
  },
  {
   "cell_type": "code",
   "execution_count": 96,
   "metadata": {},
   "outputs": [
    {
     "data": {
      "text/plain": [
       "set()"
      ]
     },
     "execution_count": 96,
     "metadata": {},
     "output_type": "execute_result"
    }
   ],
   "source": [
    "entities_with_relation"
   ]
  },
  {
   "cell_type": "code",
   "execution_count": 46,
   "metadata": {},
   "outputs": [
    {
     "data": {
      "text/plain": [
       "[{'head': ['Real Madrid', Entity(wikidata_entity_id=Q8682, wikipedia_entity_title=Real Madrid CF), 'ORG'],\n",
       "  'type': 'headquarters location',\n",
       "  'tail': ['Madrid', Entity(wikidata_entity_id=Q2807, wikipedia_entity_title=Madrid), 'ORG']},\n",
       " {'head': ['Real Madrid', Entity(wikidata_entity_id=Q8682, wikipedia_entity_title=Real Madrid CF), 'ORG'],\n",
       "  'type': 'home venue',\n",
       "  'tail': ['Santiago Bernabéu Stadium', Entity(wikidata_entity_id=Q164027, wikipedia_entity_title=Santiago Bernabéu Stadium), 'FAC']},\n",
       " {'head': ['Santiago Bernabéu Stadium', Entity(wikidata_entity_id=Q164027, wikipedia_entity_title=Santiago Bernabéu Stadium), 'FAC'],\n",
       "  'type': 'occupant',\n",
       "  'tail': ['Real Madrid', Entity(wikidata_entity_id=Q8682, wikipedia_entity_title=Real Madrid CF), 'ORG']},\n",
       " {'head': ['Real Madrid', Entity(wikidata_entity_id=Q8682, wikipedia_entity_title=Real Madrid CF), 'ORG'],\n",
       "  'type': 'inception',\n",
       "  'tail': ['1902', Entity(parsed_string=[timepoint: [\"1902\"]]), 'DATE']}]"
      ]
     },
     "execution_count": 46,
     "metadata": {},
     "output_type": "execute_result"
    }
   ],
   "source": [
    "triplets_with_spans"
   ]
  },
  {
   "cell_type": "code",
   "execution_count": 45,
   "metadata": {},
   "outputs": [
    {
     "data": {
      "text/plain": [
       "set()"
      ]
     },
     "execution_count": 45,
     "metadata": {},
     "output_type": "execute_result"
    }
   ],
   "source": [
    "entities_with_relation"
   ]
  },
  {
   "cell_type": "code",
   "execution_count": 11,
   "metadata": {},
   "outputs": [
    {
     "data": {
      "text/plain": [
       "[{'head': ['Real Madrid', Entity(wikidata_entity_id=Q8682, wikipedia_entity_title=Real Madrid CF), 'ORG'],\n",
       "  'type': 'headquarters location',\n",
       "  'tail': ['Madrid', Entity(wikidata_entity_id=Q2807, wikipedia_entity_title=Madrid), 'ORG']},\n",
       " {'head': ['Real Madrid', Entity(wikidata_entity_id=Q8682, wikipedia_entity_title=Real Madrid CF), 'ORG'],\n",
       "  'type': 'home venue',\n",
       "  'tail': ['Santiago Bernabéu Stadium', Entity(wikidata_entity_id=Q164027, wikipedia_entity_title=Santiago Bernabéu Stadium), 'FAC']},\n",
       " {'head': ['Santiago Bernabéu Stadium', Entity(wikidata_entity_id=Q164027, wikipedia_entity_title=Santiago Bernabéu Stadium), 'FAC'],\n",
       "  'type': 'occupant',\n",
       "  'tail': ['Real Madrid', Entity(wikidata_entity_id=Q8682, wikipedia_entity_title=Real Madrid CF), 'ORG']},\n",
       " {'head': ['Real Madrid', Entity(wikidata_entity_id=Q8682, wikipedia_entity_title=Real Madrid CF), 'ORG'],\n",
       "  'type': 'inception',\n",
       "  'tail': ['1902', Entity(parsed_string=[timepoint: [\"1902\"]]), 'DATE']}]"
      ]
     },
     "execution_count": 11,
     "metadata": {},
     "output_type": "execute_result"
    }
   ],
   "source": [
    "triplets_with_spans"
   ]
  },
  {
   "cell_type": "code",
   "execution_count": 43,
   "metadata": {},
   "outputs": [],
   "source": [
    "import json\n",
    "relations = set()\n",
    "for i in triplets:\n",
    "    relations.add(str(i))\n",
    "\n",
    "triplets = []\n",
    "for i in relations:\n",
    "    triplets.append(json.loads(i.replace(\"'\",'\"')))"
   ]
  },
  {
   "cell_type": "code",
   "execution_count": 44,
   "metadata": {},
   "outputs": [
    {
     "data": {
      "text/plain": [
       "[{'head': 'Real Madrid', 'type': 'inception', 'tail': '1902'},\n",
       " {'head': 'Santiago Bernabéu Stadium',\n",
       "  'type': 'occupant',\n",
       "  'tail': 'Real Madrid'},\n",
       " {'head': 'Real Madrid', 'type': 'headquarters location', 'tail': 'Madrid'},\n",
       " {'head': 'Real Madrid',\n",
       "  'type': 'home venue',\n",
       "  'tail': 'Santiago Bernabéu Stadium'}]"
      ]
     },
     "execution_count": 44,
     "metadata": {},
     "output_type": "execute_result"
    },
    {
     "ename": "",
     "evalue": "",
     "output_type": "error",
     "traceback": [
      "\u001b[1;31mThe Kernel crashed while executing code in the current cell or a previous cell. \n",
      "\u001b[1;31mPlease review the code in the cell(s) to identify a possible cause of the failure. \n",
      "\u001b[1;31mClick <a href='https://aka.ms/vscodeJupyterKernelCrash'>here</a> for more info. \n",
      "\u001b[1;31mView Jupyter <a href='command:jupyter.viewOutput'>log</a> for further details."
     ]
    }
   ],
   "source": [
    "triplets"
   ]
  },
  {
   "cell_type": "code",
   "execution_count": 30,
   "metadata": {},
   "outputs": [
    {
     "data": {
      "text/plain": [
       "{\"{'head': 'Real Madrid', 'type': 'headquarters location', 'tail': 'Madrid'}\",\n",
       " \"{'head': 'Real Madrid', 'type': 'home venue', 'tail': 'Santiago Bernabéu Stadium'}\",\n",
       " \"{'head': 'Real Madrid', 'type': 'inception', 'tail': '1902'}\",\n",
       " \"{'head': 'Santiago Bernabéu Stadium', 'type': 'occupant', 'tail': 'Real Madrid'}\"}"
      ]
     },
     "execution_count": 30,
     "metadata": {},
     "output_type": "execute_result"
    }
   ],
   "source": [
    "relations"
   ]
  },
  {
   "cell_type": "code",
   "execution_count": 11,
   "metadata": {},
   "outputs": [
    {
     "data": {
      "text/plain": [
       "[['Real Madrid', Entity(wikidata_entity_id=Q8682, wikipedia_entity_title=Real Madrid CF), 'ORG'],\n",
       " ['one', None, 'CARDINAL'],\n",
       " ['1902', Entity(parsed_string=[timepoint: [\"1902\"]]), 'DATE'],\n",
       " ['Madrid', Entity(wikidata_entity_id=Q2807, wikipedia_entity_title=Madrid), 'ORG'],\n",
       " ['Spain', Entity(wikidata_entity_id=Q29, wikipedia_entity_title=Spain), 'GPE'],\n",
       " ['Los Blancos', Entity(wikidata_entity_id=Q8682, wikipedia_entity_title=Real Madrid CF), 'ORG'],\n",
       " ['14', None, 'CARDINAL'],\n",
       " ['UEFA Champions League', Entity(wikidata_entity_id=Q18756, wikipedia_entity_title=UEFA Champions League), 'EVENT'],\n",
       " ['Alfredo Di Stéfano', Entity(wikidata_entity_id=Q164546, wikipedia_entity_title=Alfredo Di Stéfano), 'PERSON'],\n",
       " ['Cristiano Ronaldo', Entity(wikidata_entity_id=Q11571, wikipedia_entity_title=Cristiano Ronaldo), 'PERSON'],\n",
       " ['Zinedine Zidane', Entity(wikidata_entity_id=Q1835, wikipedia_entity_title=Zinedine Zidane), 'PERSON'],\n",
       " ['Santiago Bernabéu Stadium', Entity(wikidata_entity_id=Q164027, wikipedia_entity_title=Santiago Bernabéu Stadium), 'FAC']]"
      ]
     },
     "execution_count": 11,
     "metadata": {},
     "output_type": "execute_result"
    }
   ],
   "source": [
    "spans_re"
   ]
  },
  {
   "cell_type": "code",
   "execution_count": 11,
   "metadata": {},
   "outputs": [
    {
     "data": {
      "text/plain": [
       "[['Real Madrid', Entity(wikidata_entity_id=Q8682, wikipedia_entity_title=Real Madrid CF), 'ORG'],\n",
       " ['one', None, 'CARDINAL'],\n",
       " ['1902', Entity(parsed_string=[timepoint: [\"1902\"]]), 'DATE'],\n",
       " ['Madrid', Entity(wikidata_entity_id=Q2807, wikipedia_entity_title=Madrid), 'ORG'],\n",
       " ['Spain', Entity(wikidata_entity_id=Q29, wikipedia_entity_title=Spain), 'GPE'],\n",
       " ['Los Blancos', Entity(wikidata_entity_id=Q8682, wikipedia_entity_title=Real Madrid CF), 'ORG'],\n",
       " ['14', None, 'CARDINAL'],\n",
       " ['UEFA Champions League', Entity(wikidata_entity_id=Q18756, wikipedia_entity_title=UEFA Champions League), 'EVENT'],\n",
       " ['Alfredo Di Stéfano', Entity(wikidata_entity_id=Q164546, wikipedia_entity_title=Alfredo Di Stéfano), 'PERSON'],\n",
       " ['Cristiano Ronaldo', Entity(wikidata_entity_id=Q11571, wikipedia_entity_title=Cristiano Ronaldo), 'PERSON'],\n",
       " ['Zinedine Zidane', Entity(wikidata_entity_id=Q1835, wikipedia_entity_title=Zinedine Zidane), 'PERSON'],\n",
       " ['Santiago Bernabéu Stadium', Entity(wikidata_entity_id=Q164027, wikipedia_entity_title=Santiago Bernabéu Stadium), 'FAC']]"
      ]
     },
     "execution_count": 11,
     "metadata": {},
     "output_type": "execute_result"
    }
   ],
   "source": [
    "spans_el_base"
   ]
  },
  {
   "cell_type": "code",
   "execution_count": 5,
   "metadata": {},
   "outputs": [
    {
     "data": {
      "text/plain": [
       "[['Real Madrid', Entity(wikidata_entity_id=Q8682, wikipedia_entity_title=Real Madrid CF), None],\n",
       " ['Madrid', Entity(wikidata_entity_id=Q2807, wikipedia_entity_title=Madrid), None],\n",
       " ['1902', Entity not linked to a knowledge base, None],\n",
       " ['Madrid', Entity(wikidata_entity_id=Q2807, wikipedia_entity_title=Madrid), None],\n",
       " ['Santiago Bernabéu Stadium', Entity(wikidata_entity_id=Q164027, wikipedia_entity_title=Santiago Bernabéu Stadium), None]]"
      ]
     },
     "execution_count": 5,
     "metadata": {},
     "output_type": "execute_result"
    }
   ],
   "source": [
    "spans_re"
   ]
  },
  {
   "cell_type": "code",
   "execution_count": 29,
   "metadata": {},
   "outputs": [],
   "source": [
    "entity_candidates = []\n",
    "for span in spans_re:\n",
    "    if span.entity_linking_model_confidence_score > 0.8:\n",
    "        for \n",
    "        entity_candidates.append(span)"
   ]
  },
  {
   "cell_type": "code",
   "execution_count": 38,
   "metadata": {},
   "outputs": [],
   "source": [
    "prueba = spans_re[0]\n"
   ]
  },
  {
   "cell_type": "code",
   "execution_count": 41,
   "metadata": {},
   "outputs": [
    {
     "data": {
      "text/plain": [
       "'Q8682'"
      ]
     },
     "execution_count": 41,
     "metadata": {},
     "output_type": "execute_result"
    }
   ],
   "source": [
    "prueba.predicted_entity.wikidata_entity_id"
   ]
  },
  {
   "cell_type": "code",
   "execution_count": 6,
   "metadata": {},
   "outputs": [
    {
     "name": "stdout",
     "output_type": "stream",
     "text": [
      "0   1\n",
      "0   2\n",
      "0   3\n",
      "0   4\n",
      "1   2\n",
      "1   3\n",
      "[['Real Madrid', Entity(wikidata_entity_id=Q8682, wikipedia_entity_title=Real Madrid CF), None], ['Madrid', Entity(wikidata_entity_id=Q2807, wikipedia_entity_title=Madrid), None], ['1902', Entity not linked to a knowledge base, None], ['Madrid', Entity(wikidata_entity_id=Q2807, wikipedia_entity_title=Madrid), None], ['Santiago Bernabéu Stadium', Entity(wikidata_entity_id=Q164027, wikipedia_entity_title=Santiago Bernabéu Stadium), None]]\n",
      "2   3\n"
     ]
    }
   ],
   "source": [
    "i = 0\n",
    "while i < len(spans_re):\n",
    "    j = i + 1\n",
    "    while j < len(spans_re):\n",
    "        print(i, \" \", j)\n",
    "        if spans_re[j].text == spans_re[i].text and spans_re[j].predicted_entity.wikidata_entity_id == spans_re[i].predicted_entity.wikidata_entity_id:\n",
    "            print(spans_re)\n",
    "            del spans_re[j]\n",
    "\n",
    "        j += 1\n",
    "                \n",
    "    \n",
    "    i += 1"
   ]
  },
  {
   "cell_type": "code",
   "execution_count": 7,
   "metadata": {},
   "outputs": [
    {
     "data": {
      "text/plain": [
       "[['Real Madrid', Entity(wikidata_entity_id=Q8682, wikipedia_entity_title=Real Madrid CF), None],\n",
       " ['Madrid', Entity(wikidata_entity_id=Q2807, wikipedia_entity_title=Madrid), None],\n",
       " ['1902', Entity not linked to a knowledge base, None],\n",
       " ['Santiago Bernabéu Stadium', Entity(wikidata_entity_id=Q164027, wikipedia_entity_title=Santiago Bernabéu Stadium), None]]"
      ]
     },
     "execution_count": 7,
     "metadata": {},
     "output_type": "execute_result"
    }
   ],
   "source": [
    "spans_re"
   ]
  },
  {
   "cell_type": "code",
   "execution_count": 56,
   "metadata": {},
   "outputs": [
    {
     "name": "stdout",
     "output_type": "stream",
     "text": [
      "0.9565\n",
      "0.4561\n",
      "0.2561\n",
      "0.9994\n"
     ]
    }
   ],
   "source": [
    "for span in spans_re:\n",
    "    print(span.entity_linking_model_confidence_score)"
   ]
  },
  {
   "cell_type": "code",
   "execution_count": 57,
   "metadata": {},
   "outputs": [
    {
     "data": {
      "text/plain": [
       "[['Real Madrid', Entity(wikidata_entity_id=Q8682, wikipedia_entity_title=Real Madrid CF), None],\n",
       " ['Madrid', Entity(wikidata_entity_id=Q2807, wikipedia_entity_title=Madrid), None],\n",
       " ['1902', Entity not linked to a knowledge base, None],\n",
       " ['Santiago Bernabéu Stadium', Entity(wikidata_entity_id=Q164027, wikipedia_entity_title=Santiago Bernabéu Stadium), None]]"
      ]
     },
     "execution_count": 57,
     "metadata": {},
     "output_type": "execute_result"
    }
   ],
   "source": [
    "spans_re"
   ]
  },
  {
   "cell_type": "code",
   "execution_count": 30,
   "metadata": {},
   "outputs": [
    {
     "data": {
      "text/plain": [
       "[['Real Madrid', Entity(wikidata_entity_id=Q8682, wikipedia_entity_title=Real Madrid CF), None],\n",
       " ['Madrid', Entity(wikidata_entity_id=Q2807, wikipedia_entity_title=Madrid), None],\n",
       " ['Real Madrid', Entity(wikidata_entity_id=Q8682, wikipedia_entity_title=Real Madrid CF), None],\n",
       " ['Santiago Bernabéu Stadium', Entity(wikidata_entity_id=Q164027, wikipedia_entity_title=Santiago Bernabéu Stadium), None],\n",
       " ['Real Madrid', Entity(wikidata_entity_id=Q8682, wikipedia_entity_title=Real Madrid CF), None]]"
      ]
     },
     "execution_count": 30,
     "metadata": {},
     "output_type": "execute_result"
    }
   ],
   "source": [
    "entity_candidates"
   ]
  },
  {
   "cell_type": "code",
   "execution_count": 10,
   "metadata": {},
   "outputs": [],
   "source": [
    "def intersect_spans(spans_el_base,spans_re):\n",
    "    df_spans_el = pd.DataFrame({\n",
    "        'entity': [span.text for span in spans_el_base],\n",
    "        'word': [span.start for span in spans_el_base],\n",
    "    })\n",
    "\n",
    "    df_spans_re = pd.DataFrame({\n",
    "        'entity': [span.text for span in spans_re],\n",
    "        'word': [span.start for span in spans_re],\n",
    "    })\n",
    "\n",
    "\n",
    "    return df_spans_el,df_spans_re\n"
   ]
  },
  {
   "cell_type": "code",
   "execution_count": 11,
   "metadata": {},
   "outputs": [],
   "source": [
    "df_spans_el,df_spans_re = intersect_spans(spans_el_base,spans_re)"
   ]
  },
  {
   "cell_type": "code",
   "execution_count": 12,
   "metadata": {},
   "outputs": [
    {
     "data": {
      "text/html": [
       "<div>\n",
       "<style scoped>\n",
       "    .dataframe tbody tr th:only-of-type {\n",
       "        vertical-align: middle;\n",
       "    }\n",
       "\n",
       "    .dataframe tbody tr th {\n",
       "        vertical-align: top;\n",
       "    }\n",
       "\n",
       "    .dataframe thead th {\n",
       "        text-align: right;\n",
       "    }\n",
       "</style>\n",
       "<table border=\"1\" class=\"dataframe\">\n",
       "  <thead>\n",
       "    <tr style=\"text-align: right;\">\n",
       "      <th></th>\n",
       "      <th>entity</th>\n",
       "      <th>word</th>\n",
       "    </tr>\n",
       "  </thead>\n",
       "  <tbody>\n",
       "    <tr>\n",
       "      <th>0</th>\n",
       "      <td>Real Madrid</td>\n",
       "      <td>0</td>\n",
       "    </tr>\n",
       "    <tr>\n",
       "      <th>1</th>\n",
       "      <td>one</td>\n",
       "      <td>13</td>\n",
       "    </tr>\n",
       "    <tr>\n",
       "      <th>2</th>\n",
       "      <td>1902</td>\n",
       "      <td>80</td>\n",
       "    </tr>\n",
       "    <tr>\n",
       "      <th>3</th>\n",
       "      <td>Madrid</td>\n",
       "      <td>88</td>\n",
       "    </tr>\n",
       "    <tr>\n",
       "      <th>4</th>\n",
       "      <td>Spain</td>\n",
       "      <td>96</td>\n",
       "    </tr>\n",
       "    <tr>\n",
       "      <th>5</th>\n",
       "      <td>Los Blancos</td>\n",
       "      <td>147</td>\n",
       "    </tr>\n",
       "    <tr>\n",
       "      <th>6</th>\n",
       "      <td>14</td>\n",
       "      <td>256</td>\n",
       "    </tr>\n",
       "    <tr>\n",
       "      <th>7</th>\n",
       "      <td>UEFA Champions League</td>\n",
       "      <td>259</td>\n",
       "    </tr>\n",
       "    <tr>\n",
       "      <th>8</th>\n",
       "      <td>European</td>\n",
       "      <td>319</td>\n",
       "    </tr>\n",
       "    <tr>\n",
       "      <th>9</th>\n",
       "      <td>Alfredo Di Stéfano</td>\n",
       "      <td>361</td>\n",
       "    </tr>\n",
       "    <tr>\n",
       "      <th>10</th>\n",
       "      <td>Cristiano Ronaldo</td>\n",
       "      <td>381</td>\n",
       "    </tr>\n",
       "    <tr>\n",
       "      <th>11</th>\n",
       "      <td>Zinedine Zidane</td>\n",
       "      <td>404</td>\n",
       "    </tr>\n",
       "    <tr>\n",
       "      <th>12</th>\n",
       "      <td>Real Madrid</td>\n",
       "      <td>436</td>\n",
       "    </tr>\n",
       "    <tr>\n",
       "      <th>13</th>\n",
       "      <td>Santiago Bernabéu Stadium</td>\n",
       "      <td>518</td>\n",
       "    </tr>\n",
       "    <tr>\n",
       "      <th>14</th>\n",
       "      <td>Real Madrid</td>\n",
       "      <td>597</td>\n",
       "    </tr>\n",
       "  </tbody>\n",
       "</table>\n",
       "</div>"
      ],
      "text/plain": [
       "                       entity  word\n",
       "0                 Real Madrid     0\n",
       "1                         one    13\n",
       "2                        1902    80\n",
       "3                      Madrid    88\n",
       "4                       Spain    96\n",
       "5                 Los Blancos   147\n",
       "6                          14   256\n",
       "7       UEFA Champions League   259\n",
       "8                    European   319\n",
       "9          Alfredo Di Stéfano   361\n",
       "10          Cristiano Ronaldo   381\n",
       "11            Zinedine Zidane   404\n",
       "12                Real Madrid   436\n",
       "13  Santiago Bernabéu Stadium   518\n",
       "14                Real Madrid   597"
      ]
     },
     "execution_count": 12,
     "metadata": {},
     "output_type": "execute_result"
    }
   ],
   "source": [
    "df_spans_el"
   ]
  },
  {
   "cell_type": "code",
   "execution_count": 17,
   "metadata": {},
   "outputs": [
    {
     "data": {
      "text/html": [
       "<div>\n",
       "<style scoped>\n",
       "    .dataframe tbody tr th:only-of-type {\n",
       "        vertical-align: middle;\n",
       "    }\n",
       "\n",
       "    .dataframe tbody tr th {\n",
       "        vertical-align: top;\n",
       "    }\n",
       "\n",
       "    .dataframe thead th {\n",
       "        text-align: right;\n",
       "    }\n",
       "</style>\n",
       "<table border=\"1\" class=\"dataframe\">\n",
       "  <thead>\n",
       "    <tr style=\"text-align: right;\">\n",
       "      <th></th>\n",
       "      <th>entity</th>\n",
       "      <th>word</th>\n",
       "    </tr>\n",
       "  </thead>\n",
       "  <tbody>\n",
       "    <tr>\n",
       "      <th>0</th>\n",
       "      <td>Real Madrid</td>\n",
       "      <td>0</td>\n",
       "    </tr>\n",
       "    <tr>\n",
       "      <th>1</th>\n",
       "      <td>Madrid</td>\n",
       "      <td>5</td>\n",
       "    </tr>\n",
       "    <tr>\n",
       "      <th>2</th>\n",
       "      <td>1902</td>\n",
       "      <td>80</td>\n",
       "    </tr>\n",
       "    <tr>\n",
       "      <th>3</th>\n",
       "      <td>Madrid</td>\n",
       "      <td>88</td>\n",
       "    </tr>\n",
       "    <tr>\n",
       "      <th>4</th>\n",
       "      <td>Real Madrid</td>\n",
       "      <td>436</td>\n",
       "    </tr>\n",
       "    <tr>\n",
       "      <th>5</th>\n",
       "      <td>Madrid</td>\n",
       "      <td>441</td>\n",
       "    </tr>\n",
       "    <tr>\n",
       "      <th>6</th>\n",
       "      <td>Santiago Bernabéu Stadium</td>\n",
       "      <td>518</td>\n",
       "    </tr>\n",
       "    <tr>\n",
       "      <th>7</th>\n",
       "      <td>Real Madrid</td>\n",
       "      <td>597</td>\n",
       "    </tr>\n",
       "    <tr>\n",
       "      <th>8</th>\n",
       "      <td>Madrid</td>\n",
       "      <td>602</td>\n",
       "    </tr>\n",
       "  </tbody>\n",
       "</table>\n",
       "</div>"
      ],
      "text/plain": [
       "                      entity  word\n",
       "0                Real Madrid     0\n",
       "1                     Madrid     5\n",
       "2                       1902    80\n",
       "3                     Madrid    88\n",
       "4                Real Madrid   436\n",
       "5                     Madrid   441\n",
       "6  Santiago Bernabéu Stadium   518\n",
       "7                Real Madrid   597\n",
       "8                     Madrid   602"
      ]
     },
     "execution_count": 17,
     "metadata": {},
     "output_type": "execute_result"
    }
   ],
   "source": [
    "df_spans_re"
   ]
  },
  {
   "cell_type": "code",
   "execution_count": 18,
   "metadata": {},
   "outputs": [
    {
     "data": {
      "text/html": [
       "<div>\n",
       "<style scoped>\n",
       "    .dataframe tbody tr th:only-of-type {\n",
       "        vertical-align: middle;\n",
       "    }\n",
       "\n",
       "    .dataframe tbody tr th {\n",
       "        vertical-align: top;\n",
       "    }\n",
       "\n",
       "    .dataframe thead th {\n",
       "        text-align: right;\n",
       "    }\n",
       "</style>\n",
       "<table border=\"1\" class=\"dataframe\">\n",
       "  <thead>\n",
       "    <tr style=\"text-align: right;\">\n",
       "      <th></th>\n",
       "      <th>entity</th>\n",
       "      <th>word</th>\n",
       "    </tr>\n",
       "  </thead>\n",
       "  <tbody>\n",
       "    <tr>\n",
       "      <th>0</th>\n",
       "      <td>Real Madrid</td>\n",
       "      <td>0</td>\n",
       "    </tr>\n",
       "    <tr>\n",
       "      <th>2</th>\n",
       "      <td>1902</td>\n",
       "      <td>80</td>\n",
       "    </tr>\n",
       "    <tr>\n",
       "      <th>3</th>\n",
       "      <td>Madrid</td>\n",
       "      <td>88</td>\n",
       "    </tr>\n",
       "    <tr>\n",
       "      <th>4</th>\n",
       "      <td>Real Madrid</td>\n",
       "      <td>436</td>\n",
       "    </tr>\n",
       "    <tr>\n",
       "      <th>6</th>\n",
       "      <td>Santiago Bernabéu Stadium</td>\n",
       "      <td>518</td>\n",
       "    </tr>\n",
       "    <tr>\n",
       "      <th>7</th>\n",
       "      <td>Real Madrid</td>\n",
       "      <td>597</td>\n",
       "    </tr>\n",
       "  </tbody>\n",
       "</table>\n",
       "</div>"
      ],
      "text/plain": [
       "                      entity  word\n",
       "0                Real Madrid     0\n",
       "2                       1902    80\n",
       "3                     Madrid    88\n",
       "4                Real Madrid   436\n",
       "6  Santiago Bernabéu Stadium   518\n",
       "7                Real Madrid   597"
      ]
     },
     "execution_count": 18,
     "metadata": {},
     "output_type": "execute_result"
    }
   ],
   "source": [
    "df_spans_re.join(df_spans_el.set_index(['entity', 'word']), on=['entity', 'word'], how='inner', lsuffix='_re', rsuffix='_el')"
   ]
  },
  {
   "cell_type": "code",
   "execution_count": 14,
   "metadata": {},
   "outputs": [
    {
     "data": {
      "text/html": [
       "<div>\n",
       "<style scoped>\n",
       "    .dataframe tbody tr th:only-of-type {\n",
       "        vertical-align: middle;\n",
       "    }\n",
       "\n",
       "    .dataframe tbody tr th {\n",
       "        vertical-align: top;\n",
       "    }\n",
       "\n",
       "    .dataframe thead th {\n",
       "        text-align: right;\n",
       "    }\n",
       "</style>\n",
       "<table border=\"1\" class=\"dataframe\">\n",
       "  <thead>\n",
       "    <tr style=\"text-align: right;\">\n",
       "      <th></th>\n",
       "      <th>entity</th>\n",
       "      <th>word</th>\n",
       "    </tr>\n",
       "  </thead>\n",
       "  <tbody>\n",
       "    <tr>\n",
       "      <th>0</th>\n",
       "      <td>Real Madrid</td>\n",
       "      <td>0</td>\n",
       "    </tr>\n",
       "    <tr>\n",
       "      <th>2</th>\n",
       "      <td>1902</td>\n",
       "      <td>80</td>\n",
       "    </tr>\n",
       "    <tr>\n",
       "      <th>3</th>\n",
       "      <td>Madrid</td>\n",
       "      <td>88</td>\n",
       "    </tr>\n",
       "    <tr>\n",
       "      <th>12</th>\n",
       "      <td>Real Madrid</td>\n",
       "      <td>436</td>\n",
       "    </tr>\n",
       "    <tr>\n",
       "      <th>13</th>\n",
       "      <td>Santiago Bernabéu Stadium</td>\n",
       "      <td>518</td>\n",
       "    </tr>\n",
       "    <tr>\n",
       "      <th>14</th>\n",
       "      <td>Real Madrid</td>\n",
       "      <td>597</td>\n",
       "    </tr>\n",
       "  </tbody>\n",
       "</table>\n",
       "</div>"
      ],
      "text/plain": [
       "                       entity  word\n",
       "0                 Real Madrid     0\n",
       "2                        1902    80\n",
       "3                      Madrid    88\n",
       "12                Real Madrid   436\n",
       "13  Santiago Bernabéu Stadium   518\n",
       "14                Real Madrid   597"
      ]
     },
     "execution_count": 14,
     "metadata": {},
     "output_type": "execute_result"
    }
   ],
   "source": [
    "df_spans_el.join(df_spans_re.set_index(['entity', 'word']), on=['entity', 'word'], how='inner', lsuffix='_el', rsuffix='_re')"
   ]
  },
  {
   "cell_type": "code",
   "execution_count": 7,
   "metadata": {},
   "outputs": [
    {
     "data": {
      "text/plain": [
       "[['Real Madrid', Entity(wikidata_entity_id=Q8682, wikipedia_entity_title=Real Madrid CF), 'ORG'],\n",
       " ['one', None, 'CARDINAL'],\n",
       " ['1902', Entity(parsed_string=[timepoint: [\"1902\"]]), 'DATE'],\n",
       " ['Madrid', Entity(wikidata_entity_id=Q2807, wikipedia_entity_title=Madrid), 'ORG'],\n",
       " ['Spain', Entity(wikidata_entity_id=Q29, wikipedia_entity_title=Spain), 'GPE'],\n",
       " ['Los Blancos', Entity(wikidata_entity_id=Q8682, wikipedia_entity_title=Real Madrid CF), 'ORG'],\n",
       " ['14', None, 'CARDINAL'],\n",
       " ['UEFA Champions League', Entity(wikidata_entity_id=Q18756, wikipedia_entity_title=UEFA Champions League), 'EVENT'],\n",
       " ['European', Entity(wikidata_entity_id=Q35572, wikipedia_entity_title=UEFA), 'ORG'],\n",
       " ['Alfredo Di Stéfano', Entity(wikidata_entity_id=Q164546, wikipedia_entity_title=Alfredo Di Stéfano), 'PERSON'],\n",
       " ['Cristiano Ronaldo', Entity(wikidata_entity_id=Q11571, wikipedia_entity_title=Cristiano Ronaldo), 'PERSON'],\n",
       " ['Zinedine Zidane', Entity(wikidata_entity_id=Q1835, wikipedia_entity_title=Zinedine Zidane), 'PERSON'],\n",
       " ['Real Madrid', Entity(wikidata_entity_id=Q8682, wikipedia_entity_title=Real Madrid CF), 'ORG'],\n",
       " ['Santiago Bernabéu Stadium', Entity(wikidata_entity_id=Q164027, wikipedia_entity_title=Santiago Bernabéu Stadium), 'FAC'],\n",
       " ['Real Madrid', Entity(wikidata_entity_id=Q8682, wikipedia_entity_title=Real Madrid CF), 'ORG']]"
      ]
     },
     "execution_count": 7,
     "metadata": {},
     "output_type": "execute_result"
    }
   ],
   "source": [
    "spans_el_base"
   ]
  },
  {
   "cell_type": "code",
   "execution_count": 3,
   "metadata": {},
   "outputs": [
    {
     "name": "stdout",
     "output_type": "stream",
     "text": [
      "\u001b[33mWARNING: Ignoring invalid distribution -cikit-learn (/home/gplsi/anaconda3/envs/GeoPrueba/lib/python3.8/site-packages)\u001b[0m\u001b[33m\n",
      "\u001b[0mRequirement already satisfied: langchain_community in /home/gplsi/anaconda3/envs/GeoPrueba/lib/python3.8/site-packages (0.2.5)\n",
      "Requirement already satisfied: PyYAML>=5.3 in /home/gplsi/anaconda3/envs/GeoPrueba/lib/python3.8/site-packages (from langchain_community) (6.0.1)\n",
      "Requirement already satisfied: SQLAlchemy<3,>=1.4 in /home/gplsi/anaconda3/envs/GeoPrueba/lib/python3.8/site-packages (from langchain_community) (2.0.30)\n",
      "Requirement already satisfied: aiohttp<4.0.0,>=3.8.3 in /home/gplsi/anaconda3/envs/GeoPrueba/lib/python3.8/site-packages (from langchain_community) (3.9.5)\n",
      "Requirement already satisfied: dataclasses-json<0.7,>=0.5.7 in /home/gplsi/anaconda3/envs/GeoPrueba/lib/python3.8/site-packages (from langchain_community) (0.6.7)\n",
      "Requirement already satisfied: langchain<0.3.0,>=0.2.5 in /home/gplsi/anaconda3/envs/GeoPrueba/lib/python3.8/site-packages (from langchain_community) (0.2.5)\n",
      "Requirement already satisfied: langchain-core<0.3.0,>=0.2.7 in /home/gplsi/anaconda3/envs/GeoPrueba/lib/python3.8/site-packages (from langchain_community) (0.2.8)\n",
      "Requirement already satisfied: langsmith<0.2.0,>=0.1.0 in /home/gplsi/anaconda3/envs/GeoPrueba/lib/python3.8/site-packages (from langchain_community) (0.1.79)\n",
      "Requirement already satisfied: numpy<2,>=1 in /home/gplsi/anaconda3/envs/GeoPrueba/lib/python3.8/site-packages (from langchain_community) (1.24.4)\n",
      "Requirement already satisfied: requests<3,>=2 in /home/gplsi/anaconda3/envs/GeoPrueba/lib/python3.8/site-packages (from langchain_community) (2.31.0)\n",
      "Requirement already satisfied: tenacity<9.0.0,>=8.1.0 in /home/gplsi/anaconda3/envs/GeoPrueba/lib/python3.8/site-packages (from langchain_community) (8.2.3)\n",
      "Requirement already satisfied: aiosignal>=1.1.2 in /home/gplsi/anaconda3/envs/GeoPrueba/lib/python3.8/site-packages (from aiohttp<4.0.0,>=3.8.3->langchain_community) (1.3.1)\n",
      "Requirement already satisfied: attrs>=17.3.0 in /home/gplsi/anaconda3/envs/GeoPrueba/lib/python3.8/site-packages (from aiohttp<4.0.0,>=3.8.3->langchain_community) (23.2.0)\n",
      "Requirement already satisfied: frozenlist>=1.1.1 in /home/gplsi/anaconda3/envs/GeoPrueba/lib/python3.8/site-packages (from aiohttp<4.0.0,>=3.8.3->langchain_community) (1.4.1)\n",
      "Requirement already satisfied: multidict<7.0,>=4.5 in /home/gplsi/anaconda3/envs/GeoPrueba/lib/python3.8/site-packages (from aiohttp<4.0.0,>=3.8.3->langchain_community) (6.0.5)\n",
      "Requirement already satisfied: yarl<2.0,>=1.0 in /home/gplsi/anaconda3/envs/GeoPrueba/lib/python3.8/site-packages (from aiohttp<4.0.0,>=3.8.3->langchain_community) (1.9.4)\n",
      "Requirement already satisfied: async-timeout<5.0,>=4.0 in /home/gplsi/anaconda3/envs/GeoPrueba/lib/python3.8/site-packages (from aiohttp<4.0.0,>=3.8.3->langchain_community) (4.0.3)\n",
      "Requirement already satisfied: marshmallow<4.0.0,>=3.18.0 in /home/gplsi/anaconda3/envs/GeoPrueba/lib/python3.8/site-packages (from dataclasses-json<0.7,>=0.5.7->langchain_community) (3.21.3)\n",
      "Requirement already satisfied: typing-inspect<1,>=0.4.0 in /home/gplsi/anaconda3/envs/GeoPrueba/lib/python3.8/site-packages (from dataclasses-json<0.7,>=0.5.7->langchain_community) (0.9.0)\n",
      "Requirement already satisfied: langchain-text-splitters<0.3.0,>=0.2.0 in /home/gplsi/anaconda3/envs/GeoPrueba/lib/python3.8/site-packages (from langchain<0.3.0,>=0.2.5->langchain_community) (0.2.1)\n",
      "Requirement already satisfied: pydantic<3,>=1 in /home/gplsi/anaconda3/envs/GeoPrueba/lib/python3.8/site-packages (from langchain<0.3.0,>=0.2.5->langchain_community) (2.7.4)\n",
      "Requirement already satisfied: jsonpatch<2.0,>=1.33 in /home/gplsi/anaconda3/envs/GeoPrueba/lib/python3.8/site-packages (from langchain-core<0.3.0,>=0.2.7->langchain_community) (1.33)\n",
      "Requirement already satisfied: packaging<25,>=23.2 in /home/gplsi/anaconda3/envs/GeoPrueba/lib/python3.8/site-packages (from langchain-core<0.3.0,>=0.2.7->langchain_community) (23.2)\n",
      "Requirement already satisfied: orjson<4.0.0,>=3.9.14 in /home/gplsi/anaconda3/envs/GeoPrueba/lib/python3.8/site-packages (from langsmith<0.2.0,>=0.1.0->langchain_community) (3.10.5)\n",
      "Requirement already satisfied: charset-normalizer<4,>=2 in /home/gplsi/anaconda3/envs/GeoPrueba/lib/python3.8/site-packages (from requests<3,>=2->langchain_community) (3.3.2)\n",
      "Requirement already satisfied: idna<4,>=2.5 in /home/gplsi/anaconda3/envs/GeoPrueba/lib/python3.8/site-packages (from requests<3,>=2->langchain_community) (3.6)\n",
      "Requirement already satisfied: urllib3<3,>=1.21.1 in /home/gplsi/anaconda3/envs/GeoPrueba/lib/python3.8/site-packages (from requests<3,>=2->langchain_community) (1.26.18)\n",
      "Requirement already satisfied: certifi>=2017.4.17 in /home/gplsi/anaconda3/envs/GeoPrueba/lib/python3.8/site-packages (from requests<3,>=2->langchain_community) (2023.11.17)\n",
      "Requirement already satisfied: typing-extensions>=4.6.0 in /home/gplsi/anaconda3/envs/GeoPrueba/lib/python3.8/site-packages (from SQLAlchemy<3,>=1.4->langchain_community) (4.9.0)\n",
      "Requirement already satisfied: greenlet!=0.4.17 in /home/gplsi/anaconda3/envs/GeoPrueba/lib/python3.8/site-packages (from SQLAlchemy<3,>=1.4->langchain_community) (3.0.3)\n",
      "Requirement already satisfied: jsonpointer>=1.9 in /home/gplsi/anaconda3/envs/GeoPrueba/lib/python3.8/site-packages (from jsonpatch<2.0,>=1.33->langchain-core<0.3.0,>=0.2.7->langchain_community) (3.0.0)\n",
      "Requirement already satisfied: annotated-types>=0.4.0 in /home/gplsi/anaconda3/envs/GeoPrueba/lib/python3.8/site-packages (from pydantic<3,>=1->langchain<0.3.0,>=0.2.5->langchain_community) (0.7.0)\n",
      "Requirement already satisfied: pydantic-core==2.18.4 in /home/gplsi/anaconda3/envs/GeoPrueba/lib/python3.8/site-packages (from pydantic<3,>=1->langchain<0.3.0,>=0.2.5->langchain_community) (2.18.4)\n",
      "Requirement already satisfied: mypy-extensions>=0.3.0 in /home/gplsi/anaconda3/envs/GeoPrueba/lib/python3.8/site-packages (from typing-inspect<1,>=0.4.0->dataclasses-json<0.7,>=0.5.7->langchain_community) (1.0.0)\n",
      "\u001b[33mWARNING: Ignoring invalid distribution -cikit-learn (/home/gplsi/anaconda3/envs/GeoPrueba/lib/python3.8/site-packages)\u001b[0m\u001b[33m\n",
      "\u001b[0m"
     ]
    }
   ],
   "source": [
    "! pip install -U langchain_community"
   ]
  },
  {
   "cell_type": "code",
   "execution_count": 24,
   "metadata": {},
   "outputs": [
    {
     "data": {
      "text/plain": [
       "\"{'head': ['Han Solo', Entity(wikidata_entity_id=Q51802, wikipedia_entity_title=Han Solo), 'PERSON'], 'type': 'owner of', 'tail': ['Millennium Falcon', Entity(wikidata_entity_id=Q19901, wikipedia_entity_title=Millennium Falcon), None]}\""
      ]
     },
     "execution_count": 24,
     "metadata": {},
     "output_type": "execute_result"
    }
   ],
   "source": [
    "str(triplets[0])"
   ]
  },
  {
   "cell_type": "code",
   "execution_count": 20,
   "metadata": {},
   "outputs": [],
   "source": [
    "from langchain.chat_models import ChatOllama\n",
    "from langchain_core.prompts import ChatPromptTemplate\n",
    "from langchain.prompts import PromptTemplate\n",
    "from langchain_core.output_parsers import StrOutputParser\n",
    "\n",
    "\n",
    "llm = ChatOllama(model=\"llama3:8b\")\n",
    "\n",
    "\n",
    "\n",
    "template = \"\"\"\n",
    "    Given a relationship between two entities, answer only with 'True' of 'False.\n",
    "    - 'True' in case the relationship corresponds to reality.\n",
    "    - 'False' in case that the relationship is wrong. \n",
    "    Do not take into consideration the previous classifications. Do not answer randomly, just base the classification in your universe knowledge.\n",
    "    The input relationship that you have to analize is the following:\n",
    "    {dict}\n",
    "\"\"\"\n",
    "prompt = ChatPromptTemplate.from_template(template=template)\n",
    "\n",
    "chain = prompt | llm | StrOutputParser()\n",
    "\n"
   ]
  },
  {
   "cell_type": "code",
   "execution_count": 50,
   "metadata": {},
   "outputs": [
    {
     "data": {
      "text/plain": [
       "'False'"
      ]
     },
     "execution_count": 50,
     "metadata": {},
     "output_type": "execute_result"
    }
   ],
   "source": [
    "dictionary = \"\"\"\n",
    "Entity(wikidata_entity_id=Q4732270, wikipedia_entity_title=Alliance (Firefly)), None] - 'opposite of'-  Entity(wikidata_entity_id=Q52347, wikipedia_entity_title=Galactic Empire (Star Wars))\n",
    "\"\"\"\n",
    "chain.invoke({\"dict\": dictionary})"
   ]
  },
  {
   "cell_type": "code",
   "execution_count": 51,
   "metadata": {},
   "outputs": [
    {
     "data": {
      "text/plain": [
       "Entity(wikidata_entity_id=Q52347, wikipedia_entity_title=Galactic Empire (Star Wars))"
      ]
     },
     "execution_count": 51,
     "metadata": {},
     "output_type": "execute_result"
    }
   ],
   "source": [
    "spans[2].predicted_entity"
   ]
  },
  {
   "cell_type": "code",
   "execution_count": 51,
   "metadata": {},
   "outputs": [
    {
     "data": {
      "text/plain": [
       "True"
      ]
     },
     "execution_count": 51,
     "metadata": {},
     "output_type": "execute_result"
    }
   ],
   "source": [
    "result"
   ]
  },
  {
   "cell_type": "code",
   "execution_count": 77,
   "metadata": {},
   "outputs": [
    {
     "data": {
      "text/plain": [
       "ChatPromptTemplate(input_variables=['dict'], messages=[HumanMessagePromptTemplate(prompt=PromptTemplate(input_variables=['dict'], template=\"\\n    Given a relationship between two entities, answer only with 'True' in case the relationship  is strictly valid or 'False' in case that the relationship is wrong. Do not take\\n    into consideration the previous classifications.\\n    The input relationship that you have to analize is the following:\\n    {dict}\\n\"))])\n",
       "| ChatOllama(model='llama3:8b')\n",
       "| StrOutputParser()"
      ]
     },
     "execution_count": 77,
     "metadata": {},
     "output_type": "execute_result"
    }
   ],
   "source": [
    "chain"
   ]
  },
  {
   "cell_type": "code",
   "execution_count": 22,
   "metadata": {},
   "outputs": [
    {
     "data": {
      "text/plain": [
       "'Apple Inc.'"
      ]
     },
     "execution_count": 22,
     "metadata": {},
     "output_type": "execute_result"
    }
   ],
   "source": [
    "spans[0].predicted_entity.wikidata_entity_id"
   ]
  },
  {
   "cell_type": "code",
   "execution_count": 28,
   "metadata": {},
   "outputs": [
    {
     "name": "stdout",
     "output_type": "stream",
     "text": [
      "Princess Leia(Q51797)-member of->Jedi(Q51724)\n",
      "True\n",
      "Han Solo(Q51802)-owner of->Millennium Falcon(Q19901)\n",
      "True\n",
      "Millennium Falcon(Q19901)-owned by->Han Solo(Q51802)\n",
      "True\n",
      "Rebel Alliance(Q52316)-chairperson->Princess Leia(Q51797)\n",
      "True\n",
      "Princess Leia(Q51797)-relative->Luke Skywalker(Q51746)\n",
      "True\n",
      "Alliance (Firefly)(Q4732270)-opposite of->Galactic Empire (Star Wars)(Q52347)\n",
      "True\n",
      "Jedi(Q51724)-has part->List of Star Wars characters(Q51805)\n",
      "True\n",
      "Galactic Empire (Star Wars)(Q52347)-head of state->Han Solo(Q51802)\n",
      "False\n",
      "Jawa(Q2994460)-location->Tatooine(Q723764)\n",
      "True\n",
      "Mos Eisley(Q946074)-located on terrain feature->Tatooine(Q723764)\n",
      "True\n",
      "Death Star(Q19907)-owned by->Galactic Empire (Star Wars)(Q52347)\n",
      "True\n",
      "Grand Moff Tarkin(Q51800)-member of->Galactic Empire (Star Wars)(Q52347)\n",
      "True\n",
      "Obi-Wan Kenobi(Q51740)-member of->Jedi(Q51724)\n",
      "True\n",
      "Death Star(Q19907)-owned by->Galactic Empire (Star Wars)(Q52347)\n",
      "True\n",
      "Obi-Wan Kenobi(Q51740)-member of->Jedi(Q51724)\n",
      "True\n",
      "Obi-Wan Kenobi(Q51740)-member of->Jedi(Q51724)\n",
      "True\n",
      "Luke Skywalker(Q51746)-relative->Princess Leia(Q51797)\n",
      "True\n",
      "Millennium Falcon(Q19901)-owned by->Han Solo(Q51802)\n",
      "True\n",
      "Rebel Alliance(Q52316)-opposite of->Galactic Empire (Star Wars)(Q52347)\n",
      "True\n",
      "Jedi(Q51724)-has part->Obi-Wan Kenobi(Q51740)\n",
      "True\n",
      "Luke Skywalker(Q51746)-member of->Jedi(Q51724)\n",
      "True\n"
     ]
    }
   ],
   "source": [
    "accurrate_triplets = []\n",
    "\n",
    "for triplet in  triplets:\n",
    "\n",
    "    head_entity = triplet['head'].predicted_entity.wikipedia_entity_title if triplet['head'].predicted_entity.wikipedia_entity_title is not None else triplet['head'].text\n",
    "    tail_entity = triplet['tail'].predicted_entity.wikipedia_entity_title if triplet['tail'].predicted_entity.wikipedia_entity_title is not None else triplet['tail'].text\n",
    "    dictionary = head_entity+\"(\"+triplet['head'].predicted_entity.wikidata_entity_id+\")-\"+triplet['type']+\"->\"+tail_entity +\"(\"+triplet['tail'].predicted_entity.wikidata_entity_id + \")\"\n",
    "    print(dictionary)\n",
    "    result = chain.invoke({\"dict\": dictionary})\n",
    "    print(result)\n",
    "    if result == \"True\":\n",
    "        accurrate_triplets.append(triplet)"
   ]
  },
  {
   "cell_type": "code",
   "execution_count": 27,
   "metadata": {},
   "outputs": [
    {
     "data": {
      "text/plain": [
       "{'head': ['Jawa', Entity(wikidata_entity_id=Q2994460), None],\n",
       " 'type': 'location',\n",
       " 'tail': ['Tatooine', Entity(wikidata_entity_id=Q723764, wikipedia_entity_title=Tatooine), None]}"
      ]
     },
     "execution_count": 27,
     "metadata": {},
     "output_type": "execute_result"
    }
   ],
   "source": [
    "triplet"
   ]
  },
  {
   "cell_type": "code",
   "execution_count": 53,
   "metadata": {},
   "outputs": [
    {
     "data": {
      "text/plain": [
       "[{'head': ['Princess Leia', Entity(wikidata_entity_id=Q51797, wikipedia_entity_title=Princess Leia), 'PERSON'],\n",
       "  'type': 'member of',\n",
       "  'tail': ['Jedi Knight', Entity(wikidata_entity_id=Q51724, wikipedia_entity_title=Jedi), None]},\n",
       " {'head': ['Millennium Falcon', Entity(wikidata_entity_id=Q19901, wikipedia_entity_title=Millennium Falcon), None],\n",
       "  'type': 'owned by',\n",
       "  'tail': ['Han Solo', Entity(wikidata_entity_id=Q51802, wikipedia_entity_title=Han Solo), 'PERSON']},\n",
       " {'head': ['Han Solo', Entity(wikidata_entity_id=Q51802, wikipedia_entity_title=Han Solo), 'PERSON'],\n",
       "  'type': 'owner of',\n",
       "  'tail': ['Millennium Falcon', Entity(wikidata_entity_id=Q19901, wikipedia_entity_title=Millennium Falcon), None]},\n",
       " {'head': ['Rebels', Entity(wikidata_entity_id=Q52316, wikipedia_entity_title=Rebel Alliance), None],\n",
       "  'type': 'chairperson',\n",
       "  'tail': ['Princess Leia', Entity(wikidata_entity_id=Q51797, wikipedia_entity_title=Princess Leia), 'PERSON']},\n",
       " {'head': ['Mos Eisley', Entity(wikidata_entity_id=Q946074, wikipedia_entity_title=Mos Eisley), None],\n",
       "  'type': 'located on terrain feature',\n",
       "  'tail': ['Tatooine', Entity(wikidata_entity_id=Q723764, wikipedia_entity_title=Tatooine), None]},\n",
       " {'head': ['the Death Star', Entity(wikidata_entity_id=Q19907, wikipedia_entity_title=Death Star), None],\n",
       "  'type': 'owned by',\n",
       "  'tail': ['Galactic Empire', Entity(wikidata_entity_id=Q52347, wikipedia_entity_title=Galactic Empire (Star Wars)), None]},\n",
       " {'head': ['Leia', Entity(wikidata_entity_id=Q51797, wikipedia_entity_title=Princess Leia), 'PERSON'],\n",
       "  'type': 'relative',\n",
       "  'tail': ['Luke Skywalker', Entity(wikidata_entity_id=Q51746, wikipedia_entity_title=Luke Skywalker), 'PERSON']},\n",
       " {'head': ['Tarkin', Entity(wikidata_entity_id=Q51800, wikipedia_entity_title=Grand Moff Tarkin), 'PERSON'],\n",
       "  'type': 'member of',\n",
       "  'tail': ['Galactic Empire', Entity(wikidata_entity_id=Q52347, wikipedia_entity_title=Galactic Empire (Star Wars)), None]},\n",
       " {'head': ['Jedi', Entity(wikidata_entity_id=Q51724, wikipedia_entity_title=Jedi), None],\n",
       "  'type': 'has part',\n",
       "  'tail': ['Obi-Wan Kenobi', Entity(wikidata_entity_id=Q51740, wikipedia_entity_title=Obi-Wan Kenobi), None]},\n",
       " {'head': ['Rebel', Entity(wikidata_entity_id=Q52316, wikipedia_entity_title=Rebel Alliance), None],\n",
       "  'type': 'opposite of',\n",
       "  'tail': ['Galactic Empire', Entity(wikidata_entity_id=Q52347, wikipedia_entity_title=Galactic Empire (Star Wars)), None]},\n",
       " {'head': ['Luke', Entity(wikidata_entity_id=Q51746, wikipedia_entity_title=Luke Skywalker), 'PERSON'],\n",
       "  'type': 'relative',\n",
       "  'tail': ['Princess Leia', Entity(wikidata_entity_id=Q51797, wikipedia_entity_title=Princess Leia), 'PERSON']},\n",
       " {'head': ['Luke Skywalker', Entity(wikidata_entity_id=Q51746, wikipedia_entity_title=Luke Skywalker), 'PERSON'],\n",
       "  'type': 'member of',\n",
       "  'tail': ['Jedi Knight', Entity(wikidata_entity_id=Q51724, wikipedia_entity_title=Jedi), None]},\n",
       " {'head': ['Obi-Wan', Entity(wikidata_entity_id=Q51740, wikipedia_entity_title=Obi-Wan Kenobi), None],\n",
       "  'type': 'member of',\n",
       "  'tail': ['Jedi Knight', Entity(wikidata_entity_id=Q51724, wikipedia_entity_title=Jedi), None]},\n",
       " {'head': ['Obi-Wan Kenobi', Entity(wikidata_entity_id=Q51740, wikipedia_entity_title=Obi-Wan Kenobi), None],\n",
       "  'type': 'member of',\n",
       "  'tail': ['Jedi Knight', Entity(wikidata_entity_id=Q51724, wikipedia_entity_title=Jedi), None]},\n",
       " {'head': ['Jedis', Entity(wikidata_entity_id=Q51724, wikipedia_entity_title=Jedi), None],\n",
       "  'type': 'has part',\n",
       "  'tail': ['Beru Lars', Entity(wikidata_entity_id=Q51805, wikipedia_entity_title=List of Star Wars characters), None]},\n",
       " {'head': ['Ben Kenobi', Entity(wikidata_entity_id=Q51740, wikipedia_entity_title=Obi-Wan Kenobi), None],\n",
       "  'type': 'member of',\n",
       "  'tail': ['Jedi Knight', Entity(wikidata_entity_id=Q51724, wikipedia_entity_title=Jedi), None]},\n",
       " {'head': ['the Millennium Falcon', Entity(wikidata_entity_id=Q19901, wikipedia_entity_title=Millennium Falcon), None],\n",
       "  'type': 'owned by',\n",
       "  'tail': ['Han Solo', Entity(wikidata_entity_id=Q51802, wikipedia_entity_title=Han Solo), 'PERSON']},\n",
       " {'head': ['Death Star', Entity(wikidata_entity_id=Q19907, wikipedia_entity_title=Death Star), None],\n",
       "  'type': 'owned by',\n",
       "  'tail': ['Galactic Empire', Entity(wikidata_entity_id=Q52347, wikipedia_entity_title=Galactic Empire (Star Wars)), None]},\n",
       " {'head': ['Jawa', Entity(wikidata_entity_id=Q2994460), None],\n",
       "  'type': 'location',\n",
       "  'tail': ['Tatooine', Entity(wikidata_entity_id=Q723764, wikipedia_entity_title=Tatooine), None]}]"
      ]
     },
     "execution_count": 53,
     "metadata": {},
     "output_type": "execute_result"
    }
   ],
   "source": [
    "accurrate_triplets"
   ]
  },
  {
   "cell_type": "code",
   "execution_count": 38,
   "metadata": {},
   "outputs": [
    {
     "data": {
      "text/plain": [
       "[{'head': ['Princess Leia', Entity(wikidata_entity_id=Q51797, wikipedia_entity_title=Princess Leia), 'PERSON'],\n",
       "  'type': 'member of',\n",
       "  'tail': ['Jedi Knight', Entity(wikidata_entity_id=Q51724, wikipedia_entity_title=Jedi), None]},\n",
       " {'head': ['Millennium Falcon', Entity(wikidata_entity_id=Q19901, wikipedia_entity_title=Millennium Falcon), None],\n",
       "  'type': 'owned by',\n",
       "  'tail': ['Han Solo', Entity(wikidata_entity_id=Q51802, wikipedia_entity_title=Han Solo), 'PERSON']},\n",
       " {'head': ['Han Solo', Entity(wikidata_entity_id=Q51802, wikipedia_entity_title=Han Solo), 'PERSON'],\n",
       "  'type': 'owner of',\n",
       "  'tail': ['Millennium Falcon', Entity(wikidata_entity_id=Q19901, wikipedia_entity_title=Millennium Falcon), None]}]"
      ]
     },
     "execution_count": 38,
     "metadata": {},
     "output_type": "execute_result"
    }
   ],
   "source": [
    "triplets_base"
   ]
  },
  {
   "cell_type": "code",
   "execution_count": 39,
   "metadata": {},
   "outputs": [
    {
     "data": {
      "text/plain": [
       "['Alliance', Entity(wikidata_entity_id=Q4732270, wikipedia_entity_title=Alliance (Firefly)), None]"
      ]
     },
     "execution_count": 39,
     "metadata": {},
     "output_type": "execute_result"
    }
   ],
   "source": [
    "spans[6]"
   ]
  },
  {
   "cell_type": "code",
   "execution_count": 16,
   "metadata": {},
   "outputs": [
    {
     "data": {
      "text/plain": [
       "[{'head': ['Princess Leia', Entity(wikidata_entity_id=Q51797, wikipedia_entity_title=Princess Leia), 'PERSON'],\n",
       "  'type': 'member of',\n",
       "  'tail': ['Jedi Knight', Entity(wikidata_entity_id=Q51724, wikipedia_entity_title=Jedi), None]},\n",
       " {'head': ['Millennium Falcon', Entity(wikidata_entity_id=Q19901, wikipedia_entity_title=Millennium Falcon), None],\n",
       "  'type': 'owned by',\n",
       "  'tail': ['Han Solo', Entity(wikidata_entity_id=Q51802, wikipedia_entity_title=Han Solo), 'PERSON']},\n",
       " {'head': ['Han Solo', Entity(wikidata_entity_id=Q51802, wikipedia_entity_title=Han Solo), 'PERSON'],\n",
       "  'type': 'owner of',\n",
       "  'tail': ['Millennium Falcon', Entity(wikidata_entity_id=Q19901, wikipedia_entity_title=Millennium Falcon), None]},\n",
       " {'head': ['Rebels', Entity(wikidata_entity_id=Q52316, wikipedia_entity_title=Rebel Alliance), None],\n",
       "  'type': 'chairperson',\n",
       "  'tail': ['Princess Leia', Entity(wikidata_entity_id=Q51797, wikipedia_entity_title=Princess Leia), 'PERSON']},\n",
       " {'head': ['Mos Eisley', Entity(wikidata_entity_id=Q946074, wikipedia_entity_title=Mos Eisley), None],\n",
       "  'type': 'located on terrain feature',\n",
       "  'tail': ['Tatooine', Entity(wikidata_entity_id=Q723764, wikipedia_entity_title=Tatooine), None]},\n",
       " {'head': ['the Death Star', Entity(wikidata_entity_id=Q19907, wikipedia_entity_title=Death Star), None],\n",
       "  'type': 'owned by',\n",
       "  'tail': ['Galactic Empire', Entity(wikidata_entity_id=Q52347, wikipedia_entity_title=Galactic Empire (Star Wars)), None]},\n",
       " {'head': ['Leia', Entity(wikidata_entity_id=Q51797, wikipedia_entity_title=Princess Leia), 'PERSON'],\n",
       "  'type': 'relative',\n",
       "  'tail': ['Luke Skywalker', Entity(wikidata_entity_id=Q51746, wikipedia_entity_title=Luke Skywalker), 'PERSON']},\n",
       " {'head': ['Tarkin', Entity(wikidata_entity_id=Q51800, wikipedia_entity_title=Grand Moff Tarkin), 'PERSON'],\n",
       "  'type': 'member of',\n",
       "  'tail': ['Galactic Empire', Entity(wikidata_entity_id=Q52347, wikipedia_entity_title=Galactic Empire (Star Wars)), None]},\n",
       " {'head': ['Jedi', Entity(wikidata_entity_id=Q51724, wikipedia_entity_title=Jedi), None],\n",
       "  'type': 'has part',\n",
       "  'tail': ['Obi-Wan Kenobi', Entity(wikidata_entity_id=Q51740, wikipedia_entity_title=Obi-Wan Kenobi), None]},\n",
       " {'head': ['Rebel', Entity(wikidata_entity_id=Q52316, wikipedia_entity_title=Rebel Alliance), None],\n",
       "  'type': 'opposite of',\n",
       "  'tail': ['Galactic Empire', Entity(wikidata_entity_id=Q52347, wikipedia_entity_title=Galactic Empire (Star Wars)), None]},\n",
       " {'head': ['Luke', Entity(wikidata_entity_id=Q51746, wikipedia_entity_title=Luke Skywalker), 'PERSON'],\n",
       "  'type': 'relative',\n",
       "  'tail': ['Princess Leia', Entity(wikidata_entity_id=Q51797, wikipedia_entity_title=Princess Leia), 'PERSON']},\n",
       " {'head': ['Luke Skywalker', Entity(wikidata_entity_id=Q51746, wikipedia_entity_title=Luke Skywalker), 'PERSON'],\n",
       "  'type': 'member of',\n",
       "  'tail': ['Jedi Knight', Entity(wikidata_entity_id=Q51724, wikipedia_entity_title=Jedi), None]},\n",
       " {'head': ['Rebels', Entity(wikidata_entity_id=Q52316, wikipedia_entity_title=Rebel Alliance), None],\n",
       "  'type': 'chairperson',\n",
       "  'tail': ['Chewbacca', Entity(wikidata_entity_id=Q51803, wikipedia_entity_title=Chewbacca), 'PERSON']},\n",
       " {'head': ['Obi-Wan', Entity(wikidata_entity_id=Q51740, wikipedia_entity_title=Obi-Wan Kenobi), None],\n",
       "  'type': 'member of',\n",
       "  'tail': ['Jedi Knight', Entity(wikidata_entity_id=Q51724, wikipedia_entity_title=Jedi), None]},\n",
       " {'head': ['Obi-Wan Kenobi', Entity(wikidata_entity_id=Q51740, wikipedia_entity_title=Obi-Wan Kenobi), None],\n",
       "  'type': 'member of',\n",
       "  'tail': ['Jedi Knight', Entity(wikidata_entity_id=Q51724, wikipedia_entity_title=Jedi), None]},\n",
       " {'head': ['Jedis', Entity(wikidata_entity_id=Q51724, wikipedia_entity_title=Jedi), None],\n",
       "  'type': 'has part',\n",
       "  'tail': ['Beru Lars', Entity(wikidata_entity_id=Q51805, wikipedia_entity_title=List of Star Wars characters), None]},\n",
       " {'head': ['Alliance', Entity(wikidata_entity_id=Q4732270, wikipedia_entity_title=Alliance (Firefly)), None],\n",
       "  'type': 'opposite of',\n",
       "  'tail': ['Galactic Empire', Entity(wikidata_entity_id=Q52347, wikipedia_entity_title=Galactic Empire (Star Wars)), None]},\n",
       " {'head': ['Ben Kenobi', Entity(wikidata_entity_id=Q51740, wikipedia_entity_title=Obi-Wan Kenobi), None],\n",
       "  'type': 'member of',\n",
       "  'tail': ['Jedi Knight', Entity(wikidata_entity_id=Q51724, wikipedia_entity_title=Jedi), None]},\n",
       " {'head': ['the Millennium Falcon', Entity(wikidata_entity_id=Q19901, wikipedia_entity_title=Millennium Falcon), None],\n",
       "  'type': 'owned by',\n",
       "  'tail': ['Han Solo', Entity(wikidata_entity_id=Q51802, wikipedia_entity_title=Han Solo), 'PERSON']},\n",
       " {'head': ['Death Star', Entity(wikidata_entity_id=Q19907, wikipedia_entity_title=Death Star), None],\n",
       "  'type': 'owned by',\n",
       "  'tail': ['Galactic Empire', Entity(wikidata_entity_id=Q52347, wikipedia_entity_title=Galactic Empire (Star Wars)), None]},\n",
       " {'head': ['Jawa', Entity(wikidata_entity_id=Q2994460), None],\n",
       "  'type': 'location',\n",
       "  'tail': ['Tatooine', Entity(wikidata_entity_id=Q723764, wikipedia_entity_title=Tatooine), None]}]"
      ]
     },
     "execution_count": 16,
     "metadata": {},
     "output_type": "execute_result"
    }
   ],
   "source": [
    "accurrate_triplets"
   ]
  }
 ],
 "metadata": {
  "kernelspec": {
   "display_name": "GeoPrueba",
   "language": "python",
   "name": "python3"
  },
  "language_info": {
   "codemirror_mode": {
    "name": "ipython",
    "version": 3
   },
   "file_extension": ".py",
   "mimetype": "text/x-python",
   "name": "python",
   "nbconvert_exporter": "python",
   "pygments_lexer": "ipython3",
   "version": "3.8.18"
  }
 },
 "nbformat": 4,
 "nbformat_minor": 2
}
